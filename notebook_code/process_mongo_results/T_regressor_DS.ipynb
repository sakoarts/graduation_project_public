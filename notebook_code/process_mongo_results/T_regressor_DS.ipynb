{
 "cells": [
  {
   "cell_type": "code",
   "execution_count": 1,
   "metadata": {},
   "outputs": [
    {
     "data": {
      "text/html": [
       "<script>requirejs.config({paths: { 'plotly': ['https://cdn.plot.ly/plotly-latest.min']},});if(!window.Plotly) {{require(['plotly'],function(plotly) {window.Plotly=plotly;});}}</script>"
      ],
      "text/vnd.plotly.v1+html": [
       "<script>requirejs.config({paths: { 'plotly': ['https://cdn.plot.ly/plotly-latest.min']},});if(!window.Plotly) {{require(['plotly'],function(plotly) {window.Plotly=plotly;});}}</script>"
      ]
     },
     "metadata": {},
     "output_type": "display_data"
    }
   ],
   "source": [
    "import sys, os\n",
    "import numpy as np\n",
    "import pandas as pd\n",
    "\n",
    "sys.path.append('../')\n",
    "from tools.mongo_analysis_tools import *\n",
    "from tools.plots import get_dendro_heatmap, get_expression_hist\n",
    "from tools.get_predictive_power import gene_predictive_accuracy\n",
    "\n",
    "\n",
    "#import plotly\n",
    "from plotly.offline import iplot, init_notebook_mode\n",
    "init_notebook_mode(connected=True) # run at the start of every ipython notebook"
   ]
  },
  {
   "cell_type": "code",
   "execution_count": 2,
   "metadata": {},
   "outputs": [
    {
     "data": {
      "application/javascript": [
       "IPython.OutputArea.prototype._should_scroll = function(lines) {\n",
       "    return false;\n",
       "}\n",
       "var kernel = IPython.notebook.kernel;\n",
       "var thename = window.document.getElementById(\"notebook_name\").innerHTML;\n",
       "var command = \"theNotebook = \" + \"'\"+thename+\"'\";\n",
       "kernel.execute(command);"
      ],
      "text/plain": [
       "<IPython.core.display.Javascript object>"
      ]
     },
     "metadata": {},
     "output_type": "display_data"
    }
   ],
   "source": [
    "%%javascript\n",
    "IPython.OutputArea.prototype._should_scroll = function(lines) {\n",
    "    return false;\n",
    "}\n",
    "var kernel = IPython.notebook.kernel;\n",
    "var thename = window.document.getElementById(\"notebook_name\").innerHTML;\n",
    "var command = \"theNotebook = \" + \"'\"+thename+\"'\";\n",
    "kernel.execute(command);"
   ]
  },
  {
   "cell_type": "code",
   "execution_count": 3,
   "metadata": {},
   "outputs": [
    {
     "name": "stdout",
     "output_type": "stream",
     "text": [
      "All these experiments belong to experiment: PAN_CANCER_regressor_DS\n"
     ]
    }
   ],
   "source": [
    "output = collect_run_output(21081, 30940, 'PAN_CANCER_regressor_DS', verbose=1)"
   ]
  },
  {
   "cell_type": "code",
   "execution_count": 4,
   "metadata": {},
   "outputs": [
    {
     "data": {
      "text/html": [
       "<div>\n",
       "<style scoped>\n",
       "    .dataframe tbody tr th:only-of-type {\n",
       "        vertical-align: middle;\n",
       "    }\n",
       "\n",
       "    .dataframe tbody tr th {\n",
       "        vertical-align: top;\n",
       "    }\n",
       "\n",
       "    .dataframe thead th {\n",
       "        text-align: right;\n",
       "    }\n",
       "</style>\n",
       "<table border=\"1\" class=\"dataframe\">\n",
       "  <thead>\n",
       "    <tr style=\"text-align: right;\">\n",
       "      <th></th>\n",
       "      <th>id</th>\n",
       "      <th>#runs</th>\n",
       "    </tr>\n",
       "    <tr>\n",
       "      <th>name</th>\n",
       "      <th></th>\n",
       "      <th></th>\n",
       "    </tr>\n",
       "  </thead>\n",
       "  <tbody>\n",
       "    <tr>\n",
       "      <th>LinearSVR</th>\n",
       "      <td>[21448, 21449, 21451, 21452, 21454, 21456, 214...</td>\n",
       "      <td>36</td>\n",
       "    </tr>\n",
       "    <tr>\n",
       "      <th>RandomForestRegressor</th>\n",
       "      <td>[21445, 21550, 21638, 21721, 21804, 21884, 219...</td>\n",
       "      <td>70</td>\n",
       "    </tr>\n",
       "  </tbody>\n",
       "</table>\n",
       "</div>"
      ],
      "text/plain": [
       "                                                                      id  \\\n",
       "name                                                                       \n",
       "LinearSVR              [21448, 21449, 21451, 21452, 21454, 21456, 214...   \n",
       "RandomForestRegressor  [21445, 21550, 21638, 21721, 21804, 21884, 219...   \n",
       "\n",
       "                       #runs  \n",
       "name                          \n",
       "LinearSVR                 36  \n",
       "RandomForestRegressor     70  "
      ]
     },
     "execution_count": 4,
     "metadata": {},
     "output_type": "execute_result"
    }
   ],
   "source": [
    "runs_per_classifier(output)"
   ]
  },
  {
   "cell_type": "code",
   "execution_count": null,
   "metadata": {},
   "outputs": [],
   "source": []
  },
  {
   "cell_type": "code",
   "execution_count": 5,
   "metadata": {},
   "outputs": [
    {
     "name": "stdout",
     "output_type": "stream",
     "text": [
      "For the label days_survived we have 11391 samples\n"
     ]
    },
    {
     "name": "stderr",
     "output_type": "stream",
     "text": [
      "/usr/bin/anaconda3/lib/python3.6/site-packages/matplotlib/axes/_axes.py:6462: UserWarning:\n",
      "\n",
      "The 'normed' kwarg is deprecated, and has been replaced by the 'density' kwarg.\n",
      "\n"
     ]
    },
    {
     "data": {
      "image/png": "[encoded data removed]",
      "text/plain": [
       "<Figure size 432x288 with 1 Axes>"
      ]
     },
     "metadata": {},
     "output_type": "display_data"
    }
   ],
   "source": [
    "predict_label = output[0]['config']['predict_label']\n",
    "data_latex(predict_label, regression=True)"
   ]
  },
  {
   "cell_type": "code",
   "execution_count": 6,
   "metadata": {},
   "outputs": [
    {
     "name": "stdout",
     "output_type": "stream",
     "text": [
      "\\textbf{Gene analysis:}\\\\\n",
      "The models selected have the following number of genes:\\\\\n",
      "RandomForestRegressor: 3637\\\\\n",
      "LinearSVR: 2761\\\\\n",
      "Intersection: 602\\\\\n"
     ]
    },
    {
     "data": {
      "text/plain": [
       "{'LinearSVR': [0.07337590990248591,\n",
       "  0.03061403508771934,\n",
       "  0.07073381104033896,\n",
       "  0.1600496926899438,\n",
       "  0.06554097517046167,\n",
       "  0.0955977229601515,\n",
       "  0.15042367601245993,\n",
       "  0.18644214162348768,\n",
       "  0.018182925344050714,\n",
       "  0.1945973681033439],\n",
       " 'RandomForestRegressor': [0.12337849524358538,\n",
       "  0.07625570776255719,\n",
       "  0.028852134577325425,\n",
       "  0.7552209970785065,\n",
       "  0.007733258615858782,\n",
       "  0.018994077364427205,\n",
       "  0.7817693873773855,\n",
       "  0.778081621321491,\n",
       "  0.07637246815140705,\n",
       "  0.8042159288791153]}"
      ]
     },
     "execution_count": 6,
     "metadata": {},
     "output_type": "execute_result"
    }
   ],
   "source": [
    "selected_genes_ids, similarities = compute_gene_importance(output, similarity=10, latex=True)\n",
    "similarities"
   ]
  },
  {
   "cell_type": "code",
   "execution_count": 7,
   "metadata": {},
   "outputs": [
    {
     "name": "stdout",
     "output_type": "stream",
     "text": [
      "These are the top 602 genes in order of importance:\\\\\n",
      "KHDC3L$\\text{\\textbar}$154288, ARNTL2$\\text{\\textbar}$56938, C15orf59$\\text{\\textbar}$388135, FGF13$\\text{\\textbar}$2258, PABPC4L$\\text{\\textbar}$132430, XAGE1B$\\text{\\textbar}$653067, SCGB1D2$\\text{\\textbar}$10647, TDGF1$\\text{\\textbar}$6997, ARC$\\text{\\textbar}$23237, CENPV$\\text{\\textbar}$201161, RBM11$\\text{\\textbar}$54033, TCL1A$\\text{\\textbar}$8115, CD1E$\\text{\\textbar}$913, SEMA6A$\\text{\\textbar}$57556, FAM166B$\\text{\\textbar}$730112, AMACR$\\text{\\textbar}$23600, HTR2C$\\text{\\textbar}$3358, ATP6V0D2$\\text{\\textbar}$245972, FAM110B$\\text{\\textbar}$90362, PRRG3$\\text{\\textbar}$79057, GREB1$\\text{\\textbar}$9687, CGB8$\\text{\\textbar}$94115, TPO$\\text{\\textbar}$7173, CYP2C18$\\text{\\textbar}$1562, SEL1L2$\\text{\\textbar}$80343, TMPRSS11F$\\text{\\textbar}$389208, GH2$\\text{\\textbar}$2689, ATP1B1$\\text{\\textbar}$481, LEP$\\text{\\textbar}$3952, TCERG1L$\\text{\\textbar}$256536, GSC2$\\text{\\textbar}$2928, TRPV3$\\text{\\textbar}$162514, NANOS3$\\text{\\textbar}$342977, OVCH2$\\text{\\textbar}$341277, TMEM132C$\\text{\\textbar}$92293, CTSV$\\text{\\textbar}$1515, ZNF683$\\text{\\textbar}$257101, ZCCHC13$\\text{\\textbar}$389874, CDK5R2$\\text{\\textbar}$8941, RPL17-C18orf32$\\text{\\textbar}$100526842, FOXF2$\\text{\\textbar}$2295, RDM1$\\text{\\textbar}$201299, MARCH10$\\text{\\textbar}$162333, SPRY1$\\text{\\textbar}$10252, SYCE1$\\text{\\textbar}$93426, BPIFA2$\\text{\\textbar}$140683, SFRP1$\\text{\\textbar}$6422, CNGA2$\\text{\\textbar}$1260, BTBD16$\\text{\\textbar}$118663, TBX5$\\text{\\textbar}$6910, FCGR3B$\\text{\\textbar}$2215, CGB5$\\text{\\textbar}$93659, NLRP7$\\text{\\textbar}$199713, C7$\\text{\\textbar}$730, CDHR2$\\text{\\textbar}$54825, PSG3$\\text{\\textbar}$5671, UGT2B28$\\text{\\textbar}$54490, CCDC173$\\text{\\textbar}$129881, CACNA1G$\\text{\\textbar}$8913, CGB3$\\text{\\textbar}$1082, ZSCAN5C$\\text{\\textbar}$nan, GPR183$\\text{\\textbar}$1880, RTP3$\\text{\\textbar}$83597, PRPH$\\text{\\textbar}$5630, MYADML2$\\text{\\textbar}$255275, EMX2$\\text{\\textbar}$2018, POU5F1$\\text{\\textbar}$5460, PCDHGA6$\\text{\\textbar}$56109, HLA-DRB5$\\text{\\textbar}$3127, CRYAA$\\text{\\textbar}$1409, ELAVL2$\\text{\\textbar}$1993, ZNF844$\\text{\\textbar}$284391, SLC12A1$\\text{\\textbar}$6557, IL12B$\\text{\\textbar}$3593, CDA$\\text{\\textbar}$978, IGSF9B$\\text{\\textbar}$22997, CPXM2$\\text{\\textbar}$119587, TCP11X2$\\text{\\textbar}$100996648, GPR12$\\text{\\textbar}$2835, GPX2$\\text{\\textbar}$2877, CCDC85A$\\text{\\textbar}$114800, TMEM174$\\text{\\textbar}$134288, LENG9$\\text{\\textbar}$94059, CRYGC$\\text{\\textbar}$1420, RHCG$\\text{\\textbar}$51458, CLEC4C$\\text{\\textbar}$170482, ALX4$\\text{\\textbar}$60529, PRR35$\\text{\\textbar}$146325, GUCA1A$\\text{\\textbar}$2978, CREB3L3$\\text{\\textbar}$84699, NME1-NME2$\\text{\\textbar}$654364, AC092143.1$\\text{\\textbar}$nan, PRORY$\\text{\\textbar}$100533178, LYG2$\\text{\\textbar}$254773, MOK$\\text{\\textbar}$5891, RADIL$\\text{\\textbar}$55698, SLC27A6$\\text{\\textbar}$28965, KLRC2$\\text{\\textbar}$3822, PPP1R14C$\\text{\\textbar}$81706, ANKRD34B$\\text{\\textbar}$340120, ELOVL6$\\text{\\textbar}$79071, SYNDIG1$\\text{\\textbar}$79953, ZNF10$\\text{\\textbar}$7556, PRLR$\\text{\\textbar}$5618, AKT3$\\text{\\textbar}$10000, PSAPL1$\\text{\\textbar}$768239, GJB7$\\text{\\textbar}$375519, TSPAN12$\\text{\\textbar}$23554, AKR1B10$\\text{\\textbar}$57016, OTX1$\\text{\\textbar}$5013, NTN3$\\text{\\textbar}$4917, AC069503.2$\\text{\\textbar}$nan, ZBED2$\\text{\\textbar}$79413, MRGPRX4$\\text{\\textbar}$117196, CRB2$\\text{\\textbar}$286204, LAMC3$\\text{\\textbar}$10319, WDR66$\\text{\\textbar}$144406, KRTCAP3$\\text{\\textbar}$200634, PSG6$\\text{\\textbar}$5675, C20orf144$\\text{\\textbar}$128864, TMTC1$\\text{\\textbar}$83857, WNT5B$\\text{\\textbar}$81029, NR3C2$\\text{\\textbar}$4306, CSAG3$\\text{\\textbar}$389903, KCNU1$\\text{\\textbar}$157855, SORBS2$\\text{\\textbar}$8470, SLC12A3$\\text{\\textbar}$6559, LILRA6$\\text{\\textbar}$79168, GVQW3$\\text{\\textbar}$100506127, EPPIN$\\text{\\textbar}$57119, GRK7$\\text{\\textbar}$131890, TRIM71$\\text{\\textbar}$131405, NXNL2$\\text{\\textbar}$158046, GRAMD1B$\\text{\\textbar}$57476, MIXL1$\\text{\\textbar}$83881, FGD5$\\text{\\textbar}$152273, RSPO2$\\text{\\textbar}$340419, TIMP3$\\text{\\textbar}$7078, TUBB8$\\text{\\textbar}$347688, C9orf135$\\text{\\textbar}$138255, SMIM6$\\text{\\textbar}$100130933, KLHL4$\\text{\\textbar}$56062, MAST1$\\text{\\textbar}$22983, NUDT8$\\text{\\textbar}$254552, TMEM213$\\text{\\textbar}$155006, SPATA8$\\text{\\textbar}$145946, SLC4A9$\\text{\\textbar}$83697, KIAA1210$\\text{\\textbar}$57481, KCNJ11$\\text{\\textbar}$3767, HPSE2$\\text{\\textbar}$60495, MAP3K7CL$\\text{\\textbar}$56911, COL19A1$\\text{\\textbar}$1310, AL928654.4$\\text{\\textbar}$nan, TGM3$\\text{\\textbar}$7053, STAC2$\\text{\\textbar}$342667, GCNT7$\\text{\\textbar}$140687, BCHE$\\text{\\textbar}$590, GRM1$\\text{\\textbar}$2911, DRD5$\\text{\\textbar}$1816, C9orf129$\\text{\\textbar}$445577, FAM167B$\\text{\\textbar}$84734, GJA1$\\text{\\textbar}$2697, HLA-G$\\text{\\textbar}$3135, FAM46B$\\text{\\textbar}$115572, AC022826.2$\\text{\\textbar}$nan, ANO4$\\text{\\textbar}$121601, TMEM151B$\\text{\\textbar}$441151, NFATC2$\\text{\\textbar}$4773, CDH2$\\text{\\textbar}$1000, RTP1$\\text{\\textbar}$132112, SCN8A$\\text{\\textbar}$6334, LIPK$\\text{\\textbar}$643414, BTN3A2$\\text{\\textbar}$11118, ETV4$\\text{\\textbar}$2118, TM4SF18$\\text{\\textbar}$116441, NPY1R$\\text{\\textbar}$4886, KCND2$\\text{\\textbar}$3751, MS4A10$\\text{\\textbar}$341116, NR4A2$\\text{\\textbar}$4929, BDKRB2$\\text{\\textbar}$624, MYO1A$\\text{\\textbar}$4640, FZD2$\\text{\\textbar}$2535, UGT1A7$\\text{\\textbar}$54577, EGR2$\\text{\\textbar}$1959, LINGO4$\\text{\\textbar}$339398, LRRC4$\\text{\\textbar}$64101, ERICH4$\\text{\\textbar}$nan, INPP4B$\\text{\\textbar}$8821, CAMK2N2$\\text{\\textbar}$94032, FZD8$\\text{\\textbar}$8325, DMBT1$\\text{\\textbar}$1755, ARHGAP36$\\text{\\textbar}$158763, EFHB$\\text{\\textbar}$151651, FSHR$\\text{\\textbar}$2492, TXNDC2$\\text{\\textbar}$84203, GDAP1L1$\\text{\\textbar}$78997, FOXB1$\\text{\\textbar}$27023, APOBEC3B$\\text{\\textbar}$9582, IL1RN$\\text{\\textbar}$3557, IDI2$\\text{\\textbar}$91734, CFAP74$\\text{\\textbar}$85452, NDNF$\\text{\\textbar}$79625, ZNF578$\\text{\\textbar}$147660, FRG2C$\\text{\\textbar}$100288801, GJA10$\\text{\\textbar}$84694, PF4$\\text{\\textbar}$5196, HRH3$\\text{\\textbar}$11255, CREG2$\\text{\\textbar}$200407, PGR$\\text{\\textbar}$5241, WNT2$\\text{\\textbar}$7472, NIM1K$\\text{\\textbar}$167359, RBAK-RBAKDN$\\text{\\textbar}$100533952, NOX4$\\text{\\textbar}$50507, ESR1$\\text{\\textbar}$2099, SOX3$\\text{\\textbar}$6658, IL12A$\\text{\\textbar}$3592, SIX1$\\text{\\textbar}$6495, ST8SIA1$\\text{\\textbar}$6489, PEG3$\\text{\\textbar}$5178, DNAH2$\\text{\\textbar}$146754, PRKAR2B$\\text{\\textbar}$5577, TULP2$\\text{\\textbar}$7288, PRB2$\\text{\\textbar}$653247, HS3ST6$\\text{\\textbar}$64711, ACY3$\\text{\\textbar}$91703, SLC1A4$\\text{\\textbar}$6509, EPHA10$\\text{\\textbar}$284656, C14orf180$\\text{\\textbar}$400258, ATP10B$\\text{\\textbar}$23120, IDO1$\\text{\\textbar}$3620, MCOLN2$\\text{\\textbar}$255231, POTEG$\\text{\\textbar}$404785, HBEGF$\\text{\\textbar}$1839, TMEM151A$\\text{\\textbar}$256472, TRIM51$\\text{\\textbar}$84767, MMP27$\\text{\\textbar}$64066, MSLN$\\text{\\textbar}$10232, AC008758.4$\\text{\\textbar}$nan, JCHAIN$\\text{\\textbar}$3512, DEGS1$\\text{\\textbar}$8560, CORT$\\text{\\textbar}$1325, MYLIP$\\text{\\textbar}$29116, AL391650.1$\\text{\\textbar}$nan, PSKH2$\\text{\\textbar}$85481, PIGZ$\\text{\\textbar}$80235, NCAM2$\\text{\\textbar}$4685, TBXT$\\text{\\textbar}$6862, CLEC4M$\\text{\\textbar}$10332, MAG$\\text{\\textbar}$4099, CRYBG2$\\text{\\textbar}$55057, WFDC6$\\text{\\textbar}$140870, SLIT2$\\text{\\textbar}$9353, MPP4$\\text{\\textbar}$58538, LYPD5$\\text{\\textbar}$284348, ELAVL4$\\text{\\textbar}$1996, CREB3L1$\\text{\\textbar}$90993, KCNJ10$\\text{\\textbar}$3766, VGF$\\text{\\textbar}$7425, RIIAD1$\\text{\\textbar}$284485, PPBP$\\text{\\textbar}$5473, PLA2G4F$\\text{\\textbar}$255189, DCC$\\text{\\textbar}$1630, NR2E3$\\text{\\textbar}$10002, F12$\\text{\\textbar}$2161, EFHD1$\\text{\\textbar}$80303, IMPA2$\\text{\\textbar}$3613, CYP4F3$\\text{\\textbar}$4051, CPNE9$\\text{\\textbar}$151835, NTN4$\\text{\\textbar}$59277, KRTAP22-2$\\text{\\textbar}$100288287, GALR2$\\text{\\textbar}$8811, RASD2$\\text{\\textbar}$23551, OXGR1$\\text{\\textbar}$27199, MARCOL$\\text{\\textbar}$105378220, MAP3K8$\\text{\\textbar}$1326, HNF4G$\\text{\\textbar}$3174, CRISP1$\\text{\\textbar}$167, PRDM16$\\text{\\textbar}$63976, PTK6$\\text{\\textbar}$5753, CLCN1$\\text{\\textbar}$1180, CCR4$\\text{\\textbar}$1233, AVPR1A$\\text{\\textbar}$552, MEDAG$\\text{\\textbar}$84935, HSD11B2$\\text{\\textbar}$3291, HKDC1$\\text{\\textbar}$80201, FCER1A$\\text{\\textbar}$2205, KBTBD13$\\text{\\textbar}$390594, MTRNR2L8$\\text{\\textbar}$100463486, LETM2$\\text{\\textbar}$137994, TDRD12$\\text{\\textbar}$91646, TRPM6$\\text{\\textbar}$140803, TNFRSF10D$\\text{\\textbar}$8793, TMEM63C$\\text{\\textbar}$57156, MIEF2$\\text{\\textbar}$125170, SMAD9$\\text{\\textbar}$4093, CLDN1$\\text{\\textbar}$9076, NDUFA4L2$\\text{\\textbar}$56901, CDH1$\\text{\\textbar}$999, IL17RD$\\text{\\textbar}$54756, RNF152$\\text{\\textbar}$220441, CYP19A1$\\text{\\textbar}$1588, AK5$\\text{\\textbar}$26289, SLC39A5$\\text{\\textbar}$283375, MEGF10$\\text{\\textbar}$84466, ZNF429$\\text{\\textbar}$353088, RNFT2$\\text{\\textbar}$84900, LSMEM1$\\text{\\textbar}$286006, GABRR1$\\text{\\textbar}$2569, MATN4$\\text{\\textbar}$8785, LTK$\\text{\\textbar}$4058, KIRREL3$\\text{\\textbar}$84623, HIST2H2AC$\\text{\\textbar}$8338, DCLK2$\\text{\\textbar}$166614, CTSW$\\text{\\textbar}$1521, ACTC1$\\text{\\textbar}$70, Z82206.1$\\text{\\textbar}$nan, LOC107987545$\\text{\\textbar}$107987545, LOC102723996$\\text{\\textbar}$102723996, ADGRG7$\\text{\\textbar}$84873, MAP3K15$\\text{\\textbar}$389840, TRIML2$\\text{\\textbar}$205860, SPATA22$\\text{\\textbar}$84690, AC008750.8$\\text{\\textbar}$nan, ZNF610$\\text{\\textbar}$162963, CATSPER4$\\text{\\textbar}$378807, DACH2$\\text{\\textbar}$117154, AMOT$\\text{\\textbar}$154796, STPG4$\\text{\\textbar}$285051, PTGER3$\\text{\\textbar}$5733, GATA2$\\text{\\textbar}$2624, CACNA1H$\\text{\\textbar}$8912, VENTX$\\text{\\textbar}$27287, SH3BP5$\\text{\\textbar}$9467, NR0B1$\\text{\\textbar}$190, IGLON5$\\text{\\textbar}$402665, DEFB123$\\text{\\textbar}$245936, ICAM5$\\text{\\textbar}$7087, FOXD4L3$\\text{\\textbar}$286380, AUTS2$\\text{\\textbar}$26053, PAK3$\\text{\\textbar}$5063, CCDC74B$\\text{\\textbar}$91409, SPEM1$\\text{\\textbar}$374768, AQP2$\\text{\\textbar}$359, AC068580.4$\\text{\\textbar}$nan, NODAL$\\text{\\textbar}$4838, GPIHBP1$\\text{\\textbar}$338328, LOC101928583$\\text{\\textbar}$101928583, TSC22D3$\\text{\\textbar}$1831, DCT$\\text{\\textbar}$1638, SLC34A2$\\text{\\textbar}$10568, MYH6$\\text{\\textbar}$4624, ITGA2B$\\text{\\textbar}$3674, GRM4$\\text{\\textbar}$2914, ITIH5$\\text{\\textbar}$80760, FXYD4$\\text{\\textbar}$53828, MARCH4$\\text{\\textbar}$57574, C1orf74$\\text{\\textbar}$148304, AC068775.1$\\text{\\textbar}$nan, TSPAN18$\\text{\\textbar}$90139, CPEB1$\\text{\\textbar}$64506, POU5F1B$\\text{\\textbar}$5462, ITGA2$\\text{\\textbar}$3673, MAMDC2$\\text{\\textbar}$256691, DNMT3L$\\text{\\textbar}$29947, LYPD4$\\text{\\textbar}$147719, TPH1$\\text{\\textbar}$7166, GPR173$\\text{\\textbar}$54328, CRYGD$\\text{\\textbar}$1421, ARRDC3$\\text{\\textbar}$57561, PNMA5$\\text{\\textbar}$114824, LINGO1$\\text{\\textbar}$84894, C13orf42$\\text{\\textbar}$647166, ADGRE1$\\text{\\textbar}$2015, WNT8B$\\text{\\textbar}$7479, LIPH$\\text{\\textbar}$200879, KCNQ4$\\text{\\textbar}$9132, TMEM189-UBE2V1$\\text{\\textbar}$387522, MT1M$\\text{\\textbar}$4499, CD1B$\\text{\\textbar}$910, TLX2$\\text{\\textbar}$3196, MYOM1$\\text{\\textbar}$8736, PLPP2$\\text{\\textbar}$8612, HOXB2$\\text{\\textbar}$3212, MADCAM1$\\text{\\textbar}$8174, KBTBD11$\\text{\\textbar}$9920, AIPL1$\\text{\\textbar}$23746, KCNJ18$\\text{\\textbar}$100134444, PHLDB2$\\text{\\textbar}$90102, STAP1$\\text{\\textbar}$26228, ASIC1$\\text{\\textbar}$41, EFCAB8$\\text{\\textbar}$388795, FGF4$\\text{\\textbar}$2249, P2RY12$\\text{\\textbar}$64805, FOXI2$\\text{\\textbar}$399823, SLC13A4$\\text{\\textbar}$26266, MFGE8$\\text{\\textbar}$4240, ZIC4$\\text{\\textbar}$84107, OIT3$\\text{\\textbar}$170392, CCDC38$\\text{\\textbar}$120935, TMEM249$\\text{\\textbar}$340393, CATSPER3$\\text{\\textbar}$347732, ZP3$\\text{\\textbar}$7784, HSPA1B$\\text{\\textbar}$3304, CHST2$\\text{\\textbar}$9435, UBB$\\text{\\textbar}$7314, ASAH2$\\text{\\textbar}$56624, TRMT9B$\\text{\\textbar}$57604, SLC24A4$\\text{\\textbar}$123041, GOLGA6L10$\\text{\\textbar}$647042, FKBP6$\\text{\\textbar}$8468, DNAH10OS$\\text{\\textbar}$nan, TCTEX1D1$\\text{\\textbar}$200132, ECEL1$\\text{\\textbar}$9427, THEMIS$\\text{\\textbar}$387357, HAPLN2$\\text{\\textbar}$60484, ADAMTS3$\\text{\\textbar}$9508, CCL22$\\text{\\textbar}$6367, WISP2$\\text{\\textbar}$8839, RPS4Y1$\\text{\\textbar}$6192, ANKRD34A$\\text{\\textbar}$284615, NPIPB6$\\text{\\textbar}$728741, TRIM50$\\text{\\textbar}$135892, GYG2$\\text{\\textbar}$8908, KCNK6$\\text{\\textbar}$9424, GPR75-ASB3$\\text{\\textbar}$100302652, AKR1C3$\\text{\\textbar}$8644, LIPE$\\text{\\textbar}$3991, CTXN3$\\text{\\textbar}$613212, ZNF728$\\text{\\textbar}$388523, HLA-DOA$\\text{\\textbar}$3111, CKLF-CMTM1$\\text{\\textbar}$100529251, AL603832.3$\\text{\\textbar}$nan, P2RX5$\\text{\\textbar}$5026, IL1RL1$\\text{\\textbar}$9173, HAPLN1$\\text{\\textbar}$1404, DDTL$\\text{\\textbar}$100037417, NPIPB11$\\text{\\textbar}$728888, MESP1$\\text{\\textbar}$55897, RNF103-CHMP3$\\text{\\textbar}$100526767, PPP1R36$\\text{\\textbar}$145376, ACSBG1$\\text{\\textbar}$23205, CDK11A$\\text{\\textbar}$728642, RLBP1$\\text{\\textbar}$6017, MARCO$\\text{\\textbar}$8685, TMCC3$\\text{\\textbar}$57458, REM1$\\text{\\textbar}$28954, FBXO16$\\text{\\textbar}$157574, MT1G$\\text{\\textbar}$4495, UPP1$\\text{\\textbar}$7378, TRIM72$\\text{\\textbar}$493829, FAM50B$\\text{\\textbar}$26240, ANGPTL6$\\text{\\textbar}$83854, KREMEN2$\\text{\\textbar}$79412, CA13$\\text{\\textbar}$377677, ADGRA1$\\text{\\textbar}$84435, MFAP5$\\text{\\textbar}$8076, CLC$\\text{\\textbar}$1178, LHX9$\\text{\\textbar}$56956, PRSS12$\\text{\\textbar}$8492, SLC13A1$\\text{\\textbar}$6561, TAPBPL$\\text{\\textbar}$55080, RBPMS$\\text{\\textbar}$11030, ITGA10$\\text{\\textbar}$8515, SSTR3$\\text{\\textbar}$6753, HSPA12B$\\text{\\textbar}$116835, ASXL3$\\text{\\textbar}$80816, FZD9$\\text{\\textbar}$8326, IGFBP5$\\text{\\textbar}$3488, TAS2R1$\\text{\\textbar}$50834, CYFIP2$\\text{\\textbar}$26999, SCIN$\\text{\\textbar}$85477, TERB1$\\text{\\textbar}$283847, RGS17$\\text{\\textbar}$26575, FMO2$\\text{\\textbar}$2327, CLNK$\\text{\\textbar}$116449, PCDHB7$\\text{\\textbar}$56129, CSPG4$\\text{\\textbar}$1464, SLC22A5$\\text{\\textbar}$6584, HIST1H4A$\\text{\\textbar}$8359, EIF5A2$\\text{\\textbar}$56648, CCL14$\\text{\\textbar}$6358, TMEM150C$\\text{\\textbar}$441027, MEIS1$\\text{\\textbar}$4211, IZUMO1R$\\text{\\textbar}$390243, FOXF1$\\text{\\textbar}$2294, PRSS33$\\text{\\textbar}$260429, MYO18B$\\text{\\textbar}$84700, TMEM191B$\\text{\\textbar}$728229, LAMC2$\\text{\\textbar}$3918, SNAI3$\\text{\\textbar}$333929, ACER1$\\text{\\textbar}$125981, ETV3L$\\text{\\textbar}$440695, CSGALNACT1$\\text{\\textbar}$55790, HPD$\\text{\\textbar}$3242, TUBA4A$\\text{\\textbar}$7277, AL355102.2$\\text{\\textbar}$nan, KRT77$\\text{\\textbar}$374454, TPSAB1$\\text{\\textbar}$7177, NINL$\\text{\\textbar}$22981, PAK5$\\text{\\textbar}$57144, KCNK7$\\text{\\textbar}$10089, CCR9$\\text{\\textbar}$10803, CCDC183$\\text{\\textbar}$84960, ZNF560$\\text{\\textbar}$147741, RAB11FIP4$\\text{\\textbar}$84440, MYADM$\\text{\\textbar}$91663, MUC5B$\\text{\\textbar}$727897, CD72$\\text{\\textbar}$971, PTGES3L$\\text{\\textbar}$100885848, FOLR3$\\text{\\textbar}$2352, TEKT3$\\text{\\textbar}$64518, SLC10A4$\\text{\\textbar}$201780, CD1C$\\text{\\textbar}$911, APOBEC3D$\\text{\\textbar}$140564, LEFTY2$\\text{\\textbar}$7044, ZNF705E$\\text{\\textbar}$100131539, CELF4$\\text{\\textbar}$56853, RRAGD$\\text{\\textbar}$58528, SPIC$\\text{\\textbar}$121599, FIBCD1$\\text{\\textbar}$84929, UCP2$\\text{\\textbar}$7351, TNMD$\\text{\\textbar}$64102, C3orf49$\\text{\\textbar}$132200, TMEM61$\\text{\\textbar}$199964, VEGFC$\\text{\\textbar}$7424, C17orf64$\\text{\\textbar}$124773, TCF7$\\text{\\textbar}$6932, LRRC14B$\\text{\\textbar}$389257, NAT8L$\\text{\\textbar}$339983, COL21A1$\\text{\\textbar}$81578, JAKMIP1$\\text{\\textbar}$152789, ASB15$\\text{\\textbar}$142685, SERF1A$\\text{\\textbar}$8293, CXCL3$\\text{\\textbar}$2921, NOV$\\text{\\textbar}$4856, TRDN$\\text{\\textbar}$10345, GCKR$\\text{\\textbar}$2646, CDC14A$\\text{\\textbar}$8556, SCGB3A1$\\text{\\textbar}$92304, OSCAR$\\text{\\textbar}$126014, FAM110D$\\text{\\textbar}$79927, PALMD$\\text{\\textbar}$54873, KIR2DL4$\\text{\\textbar}$3805, KLRF1$\\text{\\textbar}$51348, WNT1$\\text{\\textbar}$7471, NPIPB15$\\text{\\textbar}$440348, ZNF501$\\text{\\textbar}$115560, NYAP2$\\text{\\textbar}$57624, P2RY1$\\text{\\textbar}$5028, OR2A42$\\text{\\textbar}$402317, RHCE$\\text{\\textbar}$6006, ARID5A$\\text{\\textbar}$10865, GRIN2D$\\text{\\textbar}$2906, CRH$\\text{\\textbar}$1392, FAM170A$\\text{\\textbar}$340069, VAMP1$\\text{\\textbar}$6843, KLHL32$\\text{\\textbar}$114792, GPR180$\\text{\\textbar}$160897, IQCN$\\text{\\textbar}$80726, TSPYL6$\\text{\\textbar}$388951, CST2$\\text{\\textbar}$1470, GRHL3$\\text{\\textbar}$57822, TYW1B$\\text{\\textbar}$441250, PLCH1$\\text{\\textbar}$23007, IGSF21$\\text{\\textbar}$84966, PCDHA10$\\text{\\textbar}$56139, SSPO$\\text{\\textbar}$23145, KCNG1$\\text{\\textbar}$3755, EIF3CL$\\text{\\textbar}$728689, AC005702.2$\\text{\\textbar}$nan, H1F0$\\text{\\textbar}$3005, KISS1$\\text{\\textbar}$3814, CSMD2$\\text{\\textbar}$114784, ELOVL7$\\text{\\textbar}$79993, CAVIN2$\\text{\\textbar}$8436, PDLIM3$\\text{\\textbar}$27295, TP53TG3D$\\text{\\textbar}$729264, HECW1$\\text{\\textbar}$23072, ADGRB1$\\text{\\textbar}$575, SH2D1B$\\text{\\textbar}$117157, SCN10A$\\text{\\textbar}$6336, GRIA3$\\text{\\textbar}$2892, AL365214.3$\\text{\\textbar}$nan, NID2$\\text{\\textbar}$22795, PRSS42$\\text{\\textbar}$339906, SMCO2$\\text{\\textbar}$341346, ERAS$\\text{\\textbar}$3266, GSDMA$\\text{\\textbar}$284110, EPGN$\\text{\\textbar}$255324, ANKRD65$\\text{\\textbar}$441869, PTPRS$\\text{\\textbar}$5802, SLC25A47$\\text{\\textbar}$283600, SLC6A11$\\text{\\textbar}$6538, KLK12$\\text{\\textbar}$43849, TMEM30B$\\text{\\textbar}$161291, MAP1LC3A$\\text{\\textbar}$84557, BTG2$\\text{\\textbar}$7832, MYBPC1$\\text{\\textbar}$4604, TREX2$\\text{\\textbar}$11219, FGF5$\\text{\\textbar}$2250, TMED6$\\text{\\textbar}$146456, LY6G5B$\\text{\\textbar}$58496\\\\\n"
     ]
    }
   ],
   "source": [
    "latex_genes(selected_genes_ids)"
   ]
  },
  {
   "cell_type": "code",
   "execution_count": 11,
   "metadata": {},
   "outputs": [
    {
     "data": {
      "text/plain": [
       "{'LinearSVR': {'explained_variance_score': -0.0272458368257726,\n",
       "  'explained_variance_score_variance': 0.00021584327254810479,\n",
       "  'mean_absolute_error': 1024.231897936308,\n",
       "  'mean_absolute_error_variance': 378.11860555249933,\n",
       "  'mean_squared_error': 2278381.895001505,\n",
       "  'mean_squared_error_variance': 8545661406.963922,\n",
       "  'mean_squared_log_error': 0.0,\n",
       "  'mean_squared_log_error_variance': 0.0,\n",
       "  'median_absolute_error': 675.4512991438122,\n",
       "  'median_absolute_error_variance': 145.15737794299218,\n",
       "  'r2_score': -0.2315570678457171,\n",
       "  'r2_score_variance': 0.0024969032896455324},\n",
       " 'RandomForestRegressor': {'explained_variance_score': 0.06643262422557299,\n",
       "  'explained_variance_score_variance': 0.00011880323767725244,\n",
       "  'mean_absolute_error': 931.9311984784675,\n",
       "  'mean_absolute_error_variance': 31.333850866805772,\n",
       "  'mean_squared_error': 2000784.7023171573,\n",
       "  'mean_squared_error_variance': 452939816.9518464,\n",
       "  'mean_squared_log_error': 0.0,\n",
       "  'mean_squared_log_error_variance': 0.0,\n",
       "  'median_absolute_error': 585.0332352941177,\n",
       "  'median_absolute_error_variance': 76.93042556228377,\n",
       "  'r2_score': -0.08150461816001088,\n",
       "  'r2_score_variance': 0.00013234164859807026}}"
      ]
     },
     "execution_count": 11,
     "metadata": {},
     "output_type": "execute_result"
    }
   ],
   "source": [
    "avg_per_class = compute_averages_per_classifier(output)\n",
    "avg_per_class"
   ]
  },
  {
   "cell_type": "code",
   "execution_count": 28,
   "metadata": {},
   "outputs": [
    {
     "name": "stdout",
     "output_type": "stream",
     "text": [
      "\\textbf{Framework configuration:}\\\\\n",
      "Data subset:\\\\\n",
      "Predict label: days\\_survived\\\\\n",
      "Split label: days\\_survived\\\\\n",
      "Train test split: 0.25\\\\\n",
      "Classifiers: LinearSVC and RandomForestClassifier\\\\\n",
      "Stop running: similarity $> 0.8$, for 10 consecutive runs\\\\\n",
      "Number of genes selected per algorithm: 250\\\\\n"
     ]
    }
   ],
   "source": [
    "print_latex_config(output)"
   ]
  },
  {
   "cell_type": "code",
   "execution_count": null,
   "metadata": {},
   "outputs": [],
   "source": []
  },
  {
   "cell_type": "code",
   "execution_count": 29,
   "metadata": {},
   "outputs": [
    {
     "name": "stdout",
     "output_type": "stream",
     "text": [
      "\\textbf{Prediction metrics:}\\\\\n",
      "Average MAE: 963.3124 (2057.6114)\\\\\n",
      "Average MSE: 2095233.4134 (20457821869.7546)\\\\\n",
      "Average MSLE: 0.0 (0.0)\\\\\n",
      "Average MdAE: 615.7866 (1929.5525)\\\\\n",
      "Average $r^2$: -0.1326 (0.006)\\\\\n",
      "Average MSE LSVM: 2278381.895 (8545661406.9639)\\\\\n",
      "Average MdAE LSVM: 675.4513 (145.1574)\\\\\n",
      "Average $r^2$ LSVM: -0.2316 (0.0025)\\\\\n",
      "Average MSE RandomForestRegressor: 2001042.7657 (461323604.5089)\\\\\n",
      "Average MdAE RandomForestRegressor: 585.1019 (74.8988)\\\\\n",
      "Average $r^2$ RandomForestRegressor: -0.0816 (0.0001)\\\\\n"
     ]
    }
   ],
   "source": [
    "print_latex_prediction_metrics(output)"
   ]
  },
  {
   "cell_type": "code",
   "execution_count": null,
   "metadata": {},
   "outputs": [],
   "source": []
  },
  {
   "cell_type": "code",
   "execution_count": null,
   "metadata": {},
   "outputs": [],
   "source": []
  },
  {
   "cell_type": "code",
   "execution_count": 27,
   "metadata": {},
   "outputs": [
    {
     "name": "stdout",
     "output_type": "stream",
     "text": [
      "Reading data\n",
      "Predicting and evaluating RandomForestRegressor\n",
      "Predicting and evaluating RandomForestRegressor\n",
      "Predicting and evaluating RandomForestRegressor\n",
      "Predicting and evaluating RandomForestRegressor\n",
      "Predicting and evaluating RandomForestRegressor\n",
      "Predicting and evaluating RandomForestRegressor\n",
      "Predicting and evaluating RandomForestRegressor\n",
      "Predicting and evaluating RandomForestRegressor\n",
      "Predicting and evaluating RandomForestRegressor\n",
      "Predicting and evaluating RandomForestRegressor\n",
      "Predicting and evaluating LinearSVR\n",
      "Predicting and evaluating LinearSVR\n",
      "Predicting and evaluating LinearSVR\n",
      "Predicting and evaluating LinearSVR\n",
      "Predicting and evaluating LinearSVR\n",
      "Predicting and evaluating LinearSVR\n",
      "Predicting and evaluating LinearSVR\n",
      "Predicting and evaluating LinearSVR\n",
      "Predicting and evaluating LinearSVR\n",
      "Predicting and evaluating LinearSVR\n",
      "We have 602 selected genes as a result, doing the same prediction again but only with these genes we get the following accuracies averaged over 10 folds:\\\\\n",
      "RandomForestRegressor: -0.0632 (0.0000)\\\\\n",
      "LinearSVR: -0.1909 (0.0000)\\\\\n"
     ]
    },
    {
     "data": {
      "text/plain": [
       "{'LinearSVR': [-0.19119992808209196,\n",
       "  -0.19100571760676122,\n",
       "  -0.19088822376223957,\n",
       "  -0.19094956231686488,\n",
       "  -0.19080279948519574,\n",
       "  -0.19092987573969178,\n",
       "  -0.19226859325684487,\n",
       "  -0.19059212238355583,\n",
       "  -0.19045244404670147,\n",
       "  -0.19016227051327417],\n",
       " 'LinearSVR_avr': -0.19092515371932214,\n",
       " 'RandomForestRegressor': [-0.06663754907193642,\n",
       "  -0.0635855635940783,\n",
       "  -0.06679891674659921,\n",
       "  -0.06745016873072585,\n",
       "  -0.061785787744646825,\n",
       "  -0.05999361108031609,\n",
       "  -0.06144544194926782,\n",
       "  -0.06110222343945493,\n",
       "  -0.0624465769194924,\n",
       "  -0.060826987126523235],\n",
       " 'RandomForestRegressor_avr': -0.0632072826403041}"
      ]
     },
     "execution_count": 27,
     "metadata": {},
     "output_type": "execute_result"
    }
   ],
   "source": [
    "gene_predictive_accuracy(output, selected_genes_ids, latex=True)"
   ]
  },
  {
   "cell_type": "code",
   "execution_count": 24,
   "metadata": {},
   "outputs": [
    {
     "name": "stdout",
     "output_type": "stream",
     "text": [
      "These are the top 50 genes in order of importance:\\\\\n",
      "KHDC3L$\\text{\\textbar}$154288, ARNTL2$\\text{\\textbar}$56938, C15orf59$\\text{\\textbar}$388135, FGF13$\\text{\\textbar}$2258, PABPC4L$\\text{\\textbar}$132430, XAGE1B$\\text{\\textbar}$653067, SCGB1D2$\\text{\\textbar}$10647, TDGF1$\\text{\\textbar}$6997, ARC$\\text{\\textbar}$23237, CENPV$\\text{\\textbar}$201161, RBM11$\\text{\\textbar}$54033, TCL1A$\\text{\\textbar}$8115, CD1E$\\text{\\textbar}$913, SEMA6A$\\text{\\textbar}$57556, FAM166B$\\text{\\textbar}$730112, AMACR$\\text{\\textbar}$23600, HTR2C$\\text{\\textbar}$3358, ATP6V0D2$\\text{\\textbar}$245972, FAM110B$\\text{\\textbar}$90362, PRRG3$\\text{\\textbar}$79057, GREB1$\\text{\\textbar}$9687, CGB8$\\text{\\textbar}$94115, TPO$\\text{\\textbar}$7173, CYP2C18$\\text{\\textbar}$1562, SEL1L2$\\text{\\textbar}$80343, TMPRSS11F$\\text{\\textbar}$389208, GH2$\\text{\\textbar}$2689, ATP1B1$\\text{\\textbar}$481, LEP$\\text{\\textbar}$3952, TCERG1L$\\text{\\textbar}$256536, GSC2$\\text{\\textbar}$2928, TRPV3$\\text{\\textbar}$162514, NANOS3$\\text{\\textbar}$342977, OVCH2$\\text{\\textbar}$341277, TMEM132C$\\text{\\textbar}$92293, CTSV$\\text{\\textbar}$1515, ZNF683$\\text{\\textbar}$257101, ZCCHC13$\\text{\\textbar}$389874, CDK5R2$\\text{\\textbar}$8941, RPL17-C18orf32$\\text{\\textbar}$100526842, FOXF2$\\text{\\textbar}$2295, RDM1$\\text{\\textbar}$201299, MARCH10$\\text{\\textbar}$162333, SPRY1$\\text{\\textbar}$10252, SYCE1$\\text{\\textbar}$93426, BPIFA2$\\text{\\textbar}$140683, SFRP1$\\text{\\textbar}$6422, CNGA2$\\text{\\textbar}$1260, BTBD16$\\text{\\textbar}$118663, TBX5$\\text{\\textbar}$6910\\\\\n"
     ]
    }
   ],
   "source": [
    "latex_genes(selected_genes_ids[:50])"
   ]
  },
  {
   "cell_type": "code",
   "execution_count": 7,
   "metadata": {},
   "outputs": [],
   "source": [
    "selected_genes_data, selected_genes_ids, sample_to_label = get_dendro_data(predict_label, selected_genes_ids)\n",
    "\n",
    "heatmap, legend, color_scale = get_dendro_heatmap(selected_genes_data, selected_genes_ids, sample_to_label, color_option=1, nb_genes_used=50)\n",
    "histogram = get_expression_hist(selected_genes_data, decimals=2, drop_zero=True, log=False, color_scale=color_scale)"
   ]
  },
  {
   "cell_type": "code",
   "execution_count": 8,
   "metadata": {},
   "outputs": [],
   "source": [
    "#iplot(heatmap)"
   ]
  },
  {
   "cell_type": "code",
   "execution_count": 9,
   "metadata": {},
   "outputs": [],
   "source": [
    "#iplot(histogram)"
   ]
  },
  {
   "cell_type": "code",
   "execution_count": 10,
   "metadata": {},
   "outputs": [
    {
     "name": "stdout",
     "output_type": "stream",
     "text": [
      "Succeeded in saving T_regressor_DS_hist.png\n",
      "The dendro-heatmap can be found in figure \\ref{fig:heat-DS}. The top 50 most enriched pathways can be found in table \\ref{tab:pw-DS}.\n",
      "\n",
      "\\begin{figure}[H]\n",
      "\\centering\n",
      "\\includegraphics[height=5cm]{T_regressor_DS_heat.png}\n",
      "\\caption{Dendro-heatmap for the top genes}\n",
      "\\label{fig:heat-DS}\n",
      "\\end{figure}\n"
     ]
    }
   ],
   "source": [
    "latex_heatmap(heatmap, histogram, theNotebook)"
   ]
  },
  {
   "cell_type": "code",
   "execution_count": null,
   "metadata": {},
   "outputs": [],
   "source": []
  },
  {
   "cell_type": "code",
   "execution_count": 25,
   "metadata": {},
   "outputs": [
    {
     "name": "stdout",
     "output_type": "stream",
     "text": [
      "querying 1-50...done. [ from cache ]\n",
      "querying 0/358\n",
      "querying 50/358\n",
      "querying 100/358\n",
      "querying 150/358\n",
      "querying 200/358\n",
      "querying 250/358\n",
      "querying 300/358\n",
      "querying 350/358\n",
      "collected the 50 most enriched pathways\n",
      "The top 50 most enriched pathways based on these genes are:\\\\\n",
      "\\begin{tabular}{llr}\n",
      "\\toprule\n",
      "{} &                                               name &   p\\_value \\\\\n",
      "\\midrule\n",
      "0  &               Serotonin and anxiety-related events &  0.000446 \\\\\n",
      "1  &                              Serotonin and anxiety &  0.000772 \\\\\n",
      "2  &                       thyroid hormone biosynthesis &  0.004865 \\\\\n",
      "3  &   Thyroid hormone synthesis - Homo sapiens (human) &  0.014041 \\\\\n",
      "4  &                              Ion channel transport &  0.014347 \\\\\n",
      "5  &             Thyroxine (Thyroid Hormone) Production &  0.014525 \\\\\n",
      "6  &                 Warfarin Pathway, Pharmacokinetics &  0.019321 \\\\\n",
      "7  &  POU5F1 (OCT4), SOX2, NANOG activate genes rela... &  0.019321 \\\\\n",
      "8  &                          Thyroid hormone synthesis &  0.021710 \\\\\n",
      "9  &           reversal of insulin resistance by leptin &  0.021710 \\\\\n",
      "10 &   YAP1- and WWTR1 (TAZ)-stimulated gene expression &  0.021710 \\\\\n",
      "11 &                             Leptin and adiponectin &  0.024093 \\\\\n",
      "12 &                   Beta-oxidation of pristanoyl-CoA &  0.024093 \\\\\n",
      "13 &                             Thyroxine biosynthesis &  0.024093 \\\\\n",
      "14 &  Inflammatory mediator regulation of TRP channe... &  0.024266 \\\\\n",
      "15 &  BMP2-WNT4-FOXO1 Pathway in Human Primary Endom... &  0.026471 \\\\\n",
      "16 &                                Lactose Intolerance &  0.026471 \\\\\n",
      "17 &                                Lactose Degradation &  0.026471 \\\\\n",
      "18 &                              Trehalose Degradation &  0.028843 \\\\\n",
      "19 &                   Regulation of signaling by NODAL &  0.028843 \\\\\n",
      "20 &  POU5F1 (OCT4), SOX2, NANOG activate genes rela... &  0.028843 \\\\\n",
      "21 &                                Serotonin receptors &  0.028843 \\\\\n",
      "22 &                              Glycoprotein hormones &  0.028843 \\\\\n",
      "23 &  Neuroactive ligand-receptor interaction - Homo... &  0.030169 \\\\\n",
      "24 &        Serotonergic synapse - Homo sapiens (human) &  0.030981 \\\\\n",
      "25 &  Development of pulmonary dendritic cells and m... &  0.031210 \\\\\n",
      "26 &                         Endosomal/Vacuolar pathway &  0.031210 \\\\\n",
      "27 &                                 Spinal Cord Injury &  0.033021 \\\\\n",
      "28 &                       Peptide hormone biosynthesis &  0.033571 \\\\\n",
      "29 &        Trafficking and processing of endosomal TLR &  0.033571 \\\\\n",
      "30 &  Synthesis of bile acids and bile salts via 24-... &  0.033571 \\\\\n",
      "31 &                       Prolactin receptor signaling &  0.035926 \\\\\n",
      "32 &  Negative regulation of TCF-dependent signaling... &  0.035926 \\\\\n",
      "33 &            bile acid biosynthesis, neutral pathway &  0.035926 \\\\\n",
      "34 &  Transcriptional regulation of white adipocyte ... &  0.035926 \\\\\n",
      "35 &                    Lysosome - Homo sapiens (human) &  0.036176 \\\\\n",
      "36 &                Ibuprofen Pathway, Pharmacokinetics &  0.038276 \\\\\n",
      "37 &  TFAP2 (AP-2) family regulates transcription of... &  0.038276 \\\\\n",
      "38 &                             Leptin Insulin Overlap &  0.040619 \\\\\n",
      "39 &  Primary bile acid biosynthesis - Homo sapiens ... &  0.040619 \\\\\n",
      "40 &                                 Zellweger Syndrome &  0.040619 \\\\\n",
      "41 &     Congenital Bile Acid Synthesis Defect Type III &  0.040619 \\\\\n",
      "42 &                    Familial Hypercholanemia (FHCA) &  0.040619 \\\\\n",
      "43 &               Cerebrotendinous Xanthomatosis (CTX) &  0.040619 \\\\\n",
      "44 &      Congenital Bile Acid Synthesis Defect Type II &  0.040619 \\\\\n",
      "45 &                             Bile Acid Biosynthesis &  0.040619 \\\\\n",
      "46 &                          27-Hydroxylase Deficiency &  0.040619 \\\\\n",
      "47 &                                 Cardiac conduction &  0.042819 \\\\\n",
      "48 &                             Amine-derived hormones &  0.042958 \\\\\n",
      "49 &                  Growth hormone receptor signaling &  0.045291 \\\\\n",
      "\\bottomrule\n",
      "\\end{tabular}\n",
      "\n"
     ]
    }
   ],
   "source": [
    "pw_latex(selected_genes_ids)"
   ]
  },
  {
   "cell_type": "code",
   "execution_count": null,
   "metadata": {},
   "outputs": [],
   "source": []
  },
  {
   "cell_type": "code",
   "execution_count": null,
   "metadata": {},
   "outputs": [],
   "source": []
  },
  {
   "cell_type": "code",
   "execution_count": null,
   "metadata": {},
   "outputs": [],
   "source": []
  },
  {
   "cell_type": "code",
   "execution_count": null,
   "metadata": {},
   "outputs": [],
   "source": []
  }
 ],
 "metadata": {
  "kernelspec": {
   "display_name": "Python 3",
   "language": "python",
   "name": "python3"
  },
  "language_info": {
   "codemirror_mode": {
    "name": "ipython",
    "version": 3
   },
   "file_extension": ".py",
   "mimetype": "text/x-python",
   "name": "python",
   "nbconvert_exporter": "python",
   "pygments_lexer": "ipython3",
   "version": "3.6.4"
  }
 },
 "nbformat": 4,
 "nbformat_minor": 2
}
