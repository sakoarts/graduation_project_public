{
 "cells": [
  {
   "cell_type": "code",
   "execution_count": 1,
   "metadata": {},
   "outputs": [
    {
     "data": {
      "text/html": [
       "<script>requirejs.config({paths: { 'plotly': ['https://cdn.plot.ly/plotly-latest.min']},});if(!window.Plotly) {{require(['plotly'],function(plotly) {window.Plotly=plotly;});}}</script>"
      ],
      "text/vnd.plotly.v1+html": [
       "<script>requirejs.config({paths: { 'plotly': ['https://cdn.plot.ly/plotly-latest.min']},});if(!window.Plotly) {{require(['plotly'],function(plotly) {window.Plotly=plotly;});}}</script>"
      ]
     },
     "metadata": {},
     "output_type": "display_data"
    }
   ],
   "source": [
    "import sys, os\n",
    "import numpy as np\n",
    "import pandas as pd\n",
    "\n",
    "sys.path.append('../')\n",
    "from tools.mongo_analysis_tools import *\n",
    "from tools.plots import get_dendro_heatmap, get_expression_hist\n",
    "from tools.get_predictive_power import gene_predictive_accuracy\n",
    "\n",
    "#import plotly\n",
    "from plotly.offline import iplot, init_notebook_mode\n",
    "init_notebook_mode(connected=True) # run at the start of every ipython notebook"
   ]
  },
  {
   "cell_type": "code",
   "execution_count": 2,
   "metadata": {},
   "outputs": [
    {
     "data": {
      "application/javascript": [
       "IPython.OutputArea.prototype._should_scroll = function(lines) {\n",
       "    return false;\n",
       "}\n",
       "var kernel = IPython.notebook.kernel;\n",
       "var thename = window.document.getElementById(\"notebook_name\").innerHTML;\n",
       "var command = \"theNotebook = \" + \"'\"+thename+\"'\";\n",
       "kernel.execute(command);"
      ],
      "text/plain": [
       "<IPython.core.display.Javascript object>"
      ]
     },
     "metadata": {},
     "output_type": "display_data"
    }
   ],
   "source": [
    "%%javascript\n",
    "IPython.OutputArea.prototype._should_scroll = function(lines) {\n",
    "    return false;\n",
    "}\n",
    "var kernel = IPython.notebook.kernel;\n",
    "var thename = window.document.getElementById(\"notebook_name\").innerHTML;\n",
    "var command = \"theNotebook = \" + \"'\"+thename+\"'\";\n",
    "kernel.execute(command);"
   ]
  },
  {
   "cell_type": "code",
   "execution_count": 3,
   "metadata": {},
   "outputs": [
    {
     "name": "stdout",
     "output_type": "stream",
     "text": [
      "All these experiments belong to experiment: PAN_CANCER_regressor_TS\n"
     ]
    }
   ],
   "source": [
    "output = collect_run_output(14475, 21000, 'PAN_CANCER_regressor_TS', verbose=1)"
   ]
  },
  {
   "cell_type": "code",
   "execution_count": 4,
   "metadata": {},
   "outputs": [
    {
     "data": {
      "text/html": [
       "<div>\n",
       "<style scoped>\n",
       "    .dataframe tbody tr th:only-of-type {\n",
       "        vertical-align: middle;\n",
       "    }\n",
       "\n",
       "    .dataframe tbody tr th {\n",
       "        vertical-align: top;\n",
       "    }\n",
       "\n",
       "    .dataframe thead th {\n",
       "        text-align: right;\n",
       "    }\n",
       "</style>\n",
       "<table border=\"1\" class=\"dataframe\">\n",
       "  <thead>\n",
       "    <tr style=\"text-align: right;\">\n",
       "      <th></th>\n",
       "      <th>id</th>\n",
       "      <th>#runs</th>\n",
       "    </tr>\n",
       "    <tr>\n",
       "      <th>name</th>\n",
       "      <th></th>\n",
       "      <th></th>\n",
       "    </tr>\n",
       "  </thead>\n",
       "  <tbody>\n",
       "    <tr>\n",
       "      <th>LinearSVR</th>\n",
       "      <td>[14617, 14623, 14629, 14633, 14640, 14642, 146...</td>\n",
       "      <td>707</td>\n",
       "    </tr>\n",
       "    <tr>\n",
       "      <th>RandomForestRegressor</th>\n",
       "      <td>[14475, 14488, 14526, 14572, 14606, 14652, 147...</td>\n",
       "      <td>182</td>\n",
       "    </tr>\n",
       "  </tbody>\n",
       "</table>\n",
       "</div>"
      ],
      "text/plain": [
       "                                                                      id  \\\n",
       "name                                                                       \n",
       "LinearSVR              [14617, 14623, 14629, 14633, 14640, 14642, 146...   \n",
       "RandomForestRegressor  [14475, 14488, 14526, 14572, 14606, 14652, 147...   \n",
       "\n",
       "                       #runs  \n",
       "name                          \n",
       "LinearSVR                707  \n",
       "RandomForestRegressor    182  "
      ]
     },
     "execution_count": 4,
     "metadata": {},
     "output_type": "execute_result"
    }
   ],
   "source": [
    "runs_per_classifier(output)"
   ]
  },
  {
   "cell_type": "code",
   "execution_count": null,
   "metadata": {},
   "outputs": [],
   "source": []
  },
  {
   "cell_type": "code",
   "execution_count": 5,
   "metadata": {},
   "outputs": [
    {
     "name": "stdout",
     "output_type": "stream",
     "text": [
      "For the label tumor_stage_float we have 7728 samples\n"
     ]
    },
    {
     "name": "stderr",
     "output_type": "stream",
     "text": [
      "/usr/bin/anaconda3/lib/python3.6/site-packages/matplotlib/axes/_axes.py:6462: UserWarning:\n",
      "\n",
      "The 'normed' kwarg is deprecated, and has been replaced by the 'density' kwarg.\n",
      "\n"
     ]
    },
    {
     "data": {
      "image/png": "[encoded data removed]",
      "text/plain": [
       "<Figure size 432x288 with 1 Axes>"
      ]
     },
     "metadata": {},
     "output_type": "display_data"
    }
   ],
   "source": [
    "predict_label = output[0]['config']['predict_label']\n",
    "data_latex(predict_label, regression=True)"
   ]
  },
  {
   "cell_type": "code",
   "execution_count": 6,
   "metadata": {},
   "outputs": [
    {
     "name": "stdout",
     "output_type": "stream",
     "text": [
      "\\textbf{Gene analysis:}\\\\\n",
      "The models selected have the following number of genes:\\\\\n",
      "RandomForestRegressor: 5259\\\\\n",
      "LinearSVR: 5956\\\\\n",
      "Intersection: 1972\\\\\n"
     ]
    },
    {
     "data": {
      "text/plain": [
       "{'LinearSVR': [0.4616160764474513,\n",
       "  0.2682645324347185,\n",
       "  0.49330357142858045,\n",
       "  0.4856549323451862,\n",
       "  0.43915909345897686,\n",
       "  0.6650765606596071,\n",
       "  0.30103956511992885,\n",
       "  0.5337031433854519,\n",
       "  0.22147016011645476,\n",
       "  0.5129421311842453],\n",
       " 'RandomForestRegressor': [0.17666215257625673,\n",
       "  0.5946765976655723,\n",
       "  0.16900765322529,\n",
       "  0.19280171860972298,\n",
       "  0.049129353233830976,\n",
       "  0.8910543436662842,\n",
       "  0.15013663806800445,\n",
       "  0.8925135049253267,\n",
       "  0.1383818216390988,\n",
       "  0.6009982886480334]}"
      ]
     },
     "execution_count": 6,
     "metadata": {},
     "output_type": "execute_result"
    }
   ],
   "source": [
    "selected_genes_ids, similarities = compute_gene_importance(output, similarity=10, latex=True)\n",
    "similarities"
   ]
  },
  {
   "cell_type": "code",
   "execution_count": 7,
   "metadata": {},
   "outputs": [
    {
     "name": "stdout",
     "output_type": "stream",
     "text": [
      "These are the top 1972 genes in order of importance:\\\\\n",
      "CNGB1$\\text{\\textbar}$1258, ARHGEF38$\\text{\\textbar}$54848, TH$\\text{\\textbar}$7054, GFRA3$\\text{\\textbar}$2676, WISP2$\\text{\\textbar}$8839, MYL1$\\text{\\textbar}$4632, DRP2$\\text{\\textbar}$1821, GLIS1$\\text{\\textbar}$148979, WBP2NL$\\text{\\textbar}$164684, CNTN2$\\text{\\textbar}$6900, CLEC9A$\\text{\\textbar}$283420, SHOX2$\\text{\\textbar}$6474, FAM83A$\\text{\\textbar}$84985, NRSN1$\\text{\\textbar}$140767, RTL4$\\text{\\textbar}$340595, DEGS2$\\text{\\textbar}$123099, CPA5$\\text{\\textbar}$93979, NAPSA$\\text{\\textbar}$9476, SERPIND1$\\text{\\textbar}$3053, FAM19A3$\\text{\\textbar}$284467, GRB14$\\text{\\textbar}$2888, CNMD$\\text{\\textbar}$11061, AP001931.1$\\text{\\textbar}$nan, CHGB$\\text{\\textbar}$1114, ACTN2$\\text{\\textbar}$88, IDO2$\\text{\\textbar}$169355, ESPN$\\text{\\textbar}$83715, IGFN1$\\text{\\textbar}$91156, ANKRD66$\\text{\\textbar}$100287718, NSG2$\\text{\\textbar}$51617, MAB21L1$\\text{\\textbar}$4081, COL12A1$\\text{\\textbar}$1303, SYNE4$\\text{\\textbar}$163183, UTF1$\\text{\\textbar}$8433, ARC$\\text{\\textbar}$23237, NPIPB5$\\text{\\textbar}$100132247, SFN$\\text{\\textbar}$2810, MAP3K19$\\text{\\textbar}$80122, STC1$\\text{\\textbar}$6781, DNAI2$\\text{\\textbar}$64446, SLC17A7$\\text{\\textbar}$57030, PRR32$\\text{\\textbar}$100130613, DPP4$\\text{\\textbar}$1803, SLFNL1$\\text{\\textbar}$200172, NKX3-2$\\text{\\textbar}$579, DNAJC22$\\text{\\textbar}$79962, CLEC12B$\\text{\\textbar}$387837, LIPG$\\text{\\textbar}$9388, TMEM158$\\text{\\textbar}$25907, MFAP2$\\text{\\textbar}$4237, KRT20$\\text{\\textbar}$54474, SRRM3$\\text{\\textbar}$222183, GGTLC1$\\text{\\textbar}$92086, SLC34A1$\\text{\\textbar}$6569, SLC27A2$\\text{\\textbar}$11001, CHIA$\\text{\\textbar}$27159, TBX5$\\text{\\textbar}$6910, PTGFR$\\text{\\textbar}$5737, DCDC1$\\text{\\textbar}$341019, DPYS$\\text{\\textbar}$1807, ELAVL2$\\text{\\textbar}$1993, VGF$\\text{\\textbar}$7425, ELOVL3$\\text{\\textbar}$83401, RYR3$\\text{\\textbar}$6263, CILP$\\text{\\textbar}$8483, CD1A$\\text{\\textbar}$909, IL36B$\\text{\\textbar}$27177, OSR2$\\text{\\textbar}$116039, CROCC2$\\text{\\textbar}$728763, TMSB15A$\\text{\\textbar}$11013, NANOGP8$\\text{\\textbar}$388112, SDR9C7$\\text{\\textbar}$121214, IL36RN$\\text{\\textbar}$26525, KRTDAP$\\text{\\textbar}$388533, DNAH8$\\text{\\textbar}$1769, PRSS1$\\text{\\textbar}$5644, FABP7$\\text{\\textbar}$2173, NR6A1$\\text{\\textbar}$2649, SNAP91$\\text{\\textbar}$9892, ADRA1B$\\text{\\textbar}$147, FNDC5$\\text{\\textbar}$252995, ZNF728$\\text{\\textbar}$388523, ARHGDIG$\\text{\\textbar}$398, DGAT2L6$\\text{\\textbar}$347516, LGALS7$\\text{\\textbar}$3963, PKDREJ$\\text{\\textbar}$10343, SFTPA1$\\text{\\textbar}$653509, TTBK1$\\text{\\textbar}$84630, AKR1D1$\\text{\\textbar}$6718, VIPR1$\\text{\\textbar}$7433, BMP5$\\text{\\textbar}$653, PIFO$\\text{\\textbar}$128344, AC099811.2$\\text{\\textbar}$nan, GIMAP2$\\text{\\textbar}$26157, SIGLEC8$\\text{\\textbar}$27181, TMEM139$\\text{\\textbar}$135932, OMD$\\text{\\textbar}$4958, FBLL1$\\text{\\textbar}$345630, MYOZ1$\\text{\\textbar}$58529, TBX18$\\text{\\textbar}$9096, DUOXA1$\\text{\\textbar}$90527, TMEM198$\\text{\\textbar}$130612, SOAT2$\\text{\\textbar}$8435, TPTE2$\\text{\\textbar}$93492, NELL2$\\text{\\textbar}$4753, EPHB3$\\text{\\textbar}$2049, APOD$\\text{\\textbar}$347, ZNF695$\\text{\\textbar}$57116, CACNG2$\\text{\\textbar}$10369, SPX$\\text{\\textbar}$80763, SPATA18$\\text{\\textbar}$132671, TSPAN2$\\text{\\textbar}$10100, JPH4$\\text{\\textbar}$84502, APCDD1$\\text{\\textbar}$147495, CLUL1$\\text{\\textbar}$27098, CUX2$\\text{\\textbar}$23316, RSPH4A$\\text{\\textbar}$345895, ARHGEF26$\\text{\\textbar}$26084, CPNE5$\\text{\\textbar}$57699, FAM57B$\\text{\\textbar}$83723, DES$\\text{\\textbar}$1674, NKX2-3$\\text{\\textbar}$159296, CD38$\\text{\\textbar}$952, ZNF730$\\text{\\textbar}$100129543, C12orf74$\\text{\\textbar}$338809, TSKS$\\text{\\textbar}$60385, CECR2$\\text{\\textbar}$27443, FOXI3$\\text{\\textbar}$344167, TMPRSS11E$\\text{\\textbar}$28983, CADM1$\\text{\\textbar}$23705, SHISA7$\\text{\\textbar}$729956, LOC105369239$\\text{\\textbar}$105369239, GGN$\\text{\\textbar}$199720, MAP9$\\text{\\textbar}$79884, LOC101927531$\\text{\\textbar}$101927531, PTCHD4$\\text{\\textbar}$442213, ASPDH$\\text{\\textbar}$554235, CSMD1$\\text{\\textbar}$64478, LRRC63$\\text{\\textbar}$220416, CCDC74A$\\text{\\textbar}$90557, SFTPA2$\\text{\\textbar}$729238, TTC39A$\\text{\\textbar}$22996, RFPL2$\\text{\\textbar}$10739, ADAM12$\\text{\\textbar}$8038, TERT$\\text{\\textbar}$7015, UTS2R$\\text{\\textbar}$2837, CFHR1$\\text{\\textbar}$3078, CATIP$\\text{\\textbar}$375307, SMIM6$\\text{\\textbar}$100130933, LILRA4$\\text{\\textbar}$23547, CABP7$\\text{\\textbar}$164633, MYF6$\\text{\\textbar}$4618, KCNV2$\\text{\\textbar}$169522, ZDHHC22$\\text{\\textbar}$283576, LECT2$\\text{\\textbar}$3950, TMEM269$\\text{\\textbar}$100129924, MTAP$\\text{\\textbar}$4507, CSMD3$\\text{\\textbar}$114788, PHOX2B$\\text{\\textbar}$8929, CDH19$\\text{\\textbar}$28513, SNTN$\\text{\\textbar}$132203, TUBB2B$\\text{\\textbar}$347733, SCN7A$\\text{\\textbar}$6332, S100A14$\\text{\\textbar}$57402, FRMD3$\\text{\\textbar}$257019, RRAD$\\text{\\textbar}$6236, GPR62$\\text{\\textbar}$118442, CERS3$\\text{\\textbar}$204219, TCHH$\\text{\\textbar}$7062, SLC10A1$\\text{\\textbar}$6554, LCNL1$\\text{\\textbar}$401562, SNX31$\\text{\\textbar}$169166, GAP43$\\text{\\textbar}$2596, CACNA1S$\\text{\\textbar}$779, TEX22$\\text{\\textbar}$647310, LEFTY1$\\text{\\textbar}$10637, FAM83C$\\text{\\textbar}$128876, GJB4$\\text{\\textbar}$127534, SLC2A12$\\text{\\textbar}$154091, CD5L$\\text{\\textbar}$922, PHF24$\\text{\\textbar}$23349, CORO6$\\text{\\textbar}$84940, F11$\\text{\\textbar}$2160, VWA2$\\text{\\textbar}$340706, CCL23$\\text{\\textbar}$6368, CDH8$\\text{\\textbar}$1006, TMEM189-UBE2V1$\\text{\\textbar}$387522, ANO4$\\text{\\textbar}$121601, KRBA2$\\text{\\textbar}$124751, SEMA3A$\\text{\\textbar}$10371, ITIH4$\\text{\\textbar}$3700, SFTPC$\\text{\\textbar}$6440, CKM$\\text{\\textbar}$1158, RAB17$\\text{\\textbar}$64284, DNASE1L3$\\text{\\textbar}$1776, KLB$\\text{\\textbar}$152831, ACY3$\\text{\\textbar}$91703, ZPBP$\\text{\\textbar}$11055, SRD5A2$\\text{\\textbar}$6716, C2orf73$\\text{\\textbar}$129852, RORC$\\text{\\textbar}$6097, TINCR$\\text{\\textbar}$nan, GABRR1$\\text{\\textbar}$2569, SYT1$\\text{\\textbar}$6857, LRRC15$\\text{\\textbar}$131578, SRPX2$\\text{\\textbar}$27286, INSM2$\\text{\\textbar}$84684, SLC6A12$\\text{\\textbar}$6539, COLCA2$\\text{\\textbar}$120376, FGG$\\text{\\textbar}$2266, PON3$\\text{\\textbar}$5446, RIPPLY2$\\text{\\textbar}$134701, GRP$\\text{\\textbar}$2922, KRT84$\\text{\\textbar}$3890, SPIC$\\text{\\textbar}$121599, RGN$\\text{\\textbar}$9104, TTC16$\\text{\\textbar}$158248, TMIE$\\text{\\textbar}$259236, SERPINE3$\\text{\\textbar}$647174, C11orf94$\\text{\\textbar}$143678, SPOCK1$\\text{\\textbar}$6695, CCDC85A$\\text{\\textbar}$114800, NEUROD2$\\text{\\textbar}$4761, SYCP3$\\text{\\textbar}$50511, CYP4A22$\\text{\\textbar}$284541, CILP2$\\text{\\textbar}$148113, ZNF750$\\text{\\textbar}$79755, MYH7$\\text{\\textbar}$4625, IL12B$\\text{\\textbar}$3593, TCP10L$\\text{\\textbar}$140290, LGR5$\\text{\\textbar}$8549, PTH2$\\text{\\textbar}$113091, LCN8$\\text{\\textbar}$138307, TNNC1$\\text{\\textbar}$7134, IL12A$\\text{\\textbar}$3592, POM121L2$\\text{\\textbar}$94026, FGF10$\\text{\\textbar}$2255, C9$\\text{\\textbar}$735, FAM166B$\\text{\\textbar}$730112, DACT2$\\text{\\textbar}$168002, RGS4$\\text{\\textbar}$5999, OXER1$\\text{\\textbar}$165140, ANKRD55$\\text{\\textbar}$79722, CARD11$\\text{\\textbar}$84433, NKX2-2$\\text{\\textbar}$4821, KLHL40$\\text{\\textbar}$131377, VIT$\\text{\\textbar}$5212, SLC7A5$\\text{\\textbar}$8140, F2RL3$\\text{\\textbar}$9002, ELL2$\\text{\\textbar}$22936, OR14I1$\\text{\\textbar}$401994, LRRN4CL$\\text{\\textbar}$221091, KRT16$\\text{\\textbar}$3868, MYH3$\\text{\\textbar}$4621, KRT5$\\text{\\textbar}$3852, CFTR$\\text{\\textbar}$1080, RASL10B$\\text{\\textbar}$91608, STX19$\\text{\\textbar}$415117, SGCG$\\text{\\textbar}$6445, LOC101929777$\\text{\\textbar}$101929777, CACNG7$\\text{\\textbar}$59284, PITX2$\\text{\\textbar}$5308, MTRNR2L8$\\text{\\textbar}$100463486, RASL11B$\\text{\\textbar}$65997, ISL1$\\text{\\textbar}$3670, FLNC$\\text{\\textbar}$2318, PTPRN$\\text{\\textbar}$5798, NODAL$\\text{\\textbar}$4838, GNRH1$\\text{\\textbar}$2796, EN1$\\text{\\textbar}$2019, ACSS3$\\text{\\textbar}$79611, DNAH12$\\text{\\textbar}$201625, USP44$\\text{\\textbar}$84101, ERC2$\\text{\\textbar}$26059, FBXO17$\\text{\\textbar}$115290, TRH$\\text{\\textbar}$7200, CIDEA$\\text{\\textbar}$1149, ADAMTS15$\\text{\\textbar}$170689, VWA3A$\\text{\\textbar}$146177, PTGES3L$\\text{\\textbar}$100885848, ACTL6B$\\text{\\textbar}$51412, WFDC3$\\text{\\textbar}$140686, MYO16$\\text{\\textbar}$23026, ATP5MF-PTCD1$\\text{\\textbar}$100526740, KRT1$\\text{\\textbar}$3848, ERVW-1$\\text{\\textbar}$30816, CPB1$\\text{\\textbar}$1360, SCTR$\\text{\\textbar}$6344, PLEKHG6$\\text{\\textbar}$55200, SERPINF2$\\text{\\textbar}$5345, HIST1H2BF$\\text{\\textbar}$8343, ADORA1$\\text{\\textbar}$134, AGR3$\\text{\\textbar}$155465, PADI4$\\text{\\textbar}$23569, MB$\\text{\\textbar}$4151, KLHDC7A$\\text{\\textbar}$127707, DLX4$\\text{\\textbar}$1748, LRRC39$\\text{\\textbar}$127495, MOV10L1$\\text{\\textbar}$54456, SLC6A2$\\text{\\textbar}$6530, NIPAL4$\\text{\\textbar}$348938, CCDC148$\\text{\\textbar}$130940, AC009119.2$\\text{\\textbar}$nan, CLEC17A$\\text{\\textbar}$388512, EPHA10$\\text{\\textbar}$284656, KCNK7$\\text{\\textbar}$10089, NPIPB11$\\text{\\textbar}$728888, CCDC68$\\text{\\textbar}$80323, DLX3$\\text{\\textbar}$1747, RXFP1$\\text{\\textbar}$59350, GPR1$\\text{\\textbar}$2825, UTS2B$\\text{\\textbar}$257313, SEC14L3$\\text{\\textbar}$266629, OPLAH$\\text{\\textbar}$26873, MYEF2$\\text{\\textbar}$50804, GPER1$\\text{\\textbar}$2852, NCMAP$\\text{\\textbar}$400746, SLC39A8$\\text{\\textbar}$64116, PPM1N$\\text{\\textbar}$147699, STAB2$\\text{\\textbar}$55576, PRTN3$\\text{\\textbar}$5657, LHX8$\\text{\\textbar}$431707, SYNGR1$\\text{\\textbar}$9145, HSPB1$\\text{\\textbar}$3315, FOXA3$\\text{\\textbar}$3171, ADGRB3$\\text{\\textbar}$577, GPRC5D$\\text{\\textbar}$55507, AC068896.1$\\text{\\textbar}$nan, TSPAN15$\\text{\\textbar}$23555, TBPL2$\\text{\\textbar}$387332, PRRT4$\\text{\\textbar}$401399, SPTLC3$\\text{\\textbar}$55304, SOSTDC1$\\text{\\textbar}$25928, KCNK10$\\text{\\textbar}$54207, SHC3$\\text{\\textbar}$53358, TENM3$\\text{\\textbar}$55714, TMEM72$\\text{\\textbar}$643236, KCNMB2$\\text{\\textbar}$10242, HIST1H1E$\\text{\\textbar}$3008, C22orf15$\\text{\\textbar}$150248, PI15$\\text{\\textbar}$51050, MYH2$\\text{\\textbar}$4620, ORM2$\\text{\\textbar}$5005, SMCO3$\\text{\\textbar}$440087, OLAH$\\text{\\textbar}$55301, DGCR6$\\text{\\textbar}$8214, TMEM255B$\\text{\\textbar}$348013, PYY$\\text{\\textbar}$5697, SOX11$\\text{\\textbar}$6664, MS4A15$\\text{\\textbar}$219995, C16orf89$\\text{\\textbar}$146556, ART4$\\text{\\textbar}$420, REP15$\\text{\\textbar}$387849, SPSB4$\\text{\\textbar}$92369, LHX9$\\text{\\textbar}$56956, TTC36$\\text{\\textbar}$143941, CCDC173$\\text{\\textbar}$129881, GPR87$\\text{\\textbar}$53836, ADGRV1$\\text{\\textbar}$84059, CACNG1$\\text{\\textbar}$786, RPH3A$\\text{\\textbar}$22895, FREM2$\\text{\\textbar}$341640, TPSD1$\\text{\\textbar}$23430, RNF165$\\text{\\textbar}$494470, NR0B2$\\text{\\textbar}$8431, SPATA12$\\text{\\textbar}$353324, SFTPD$\\text{\\textbar}$6441, C1QL1$\\text{\\textbar}$10882, ADGRF4$\\text{\\textbar}$221393, IL13$\\text{\\textbar}$3596, F2$\\text{\\textbar}$2147, AJAP1$\\text{\\textbar}$55966, TSPAN32$\\text{\\textbar}$10077, DDN$\\text{\\textbar}$23109, RYR1$\\text{\\textbar}$6261, ZNF69$\\text{\\textbar}$7620, POU3F4$\\text{\\textbar}$5456, GRIN2D$\\text{\\textbar}$2906, HSF2BP$\\text{\\textbar}$11077, HLA-G$\\text{\\textbar}$3135, BTNL2$\\text{\\textbar}$56244, GSPT2$\\text{\\textbar}$23708, GRIK3$\\text{\\textbar}$2899, TRPC5$\\text{\\textbar}$7224, RIMKLA$\\text{\\textbar}$284716, LEFTY2$\\text{\\textbar}$7044, DBH$\\text{\\textbar}$1621, EDN3$\\text{\\textbar}$1908, ITGBL1$\\text{\\textbar}$9358, HOXC6$\\text{\\textbar}$3223, ARHGAP40$\\text{\\textbar}$343578, S100A2$\\text{\\textbar}$6273, BEND4$\\text{\\textbar}$389206, CHGA$\\text{\\textbar}$1113, SLC34A2$\\text{\\textbar}$10568, DISP3$\\text{\\textbar}$57540, PINLYP$\\text{\\textbar}$390940, DNAJA4$\\text{\\textbar}$55466, COL11A1$\\text{\\textbar}$1301, SOX17$\\text{\\textbar}$64321, ENPP5$\\text{\\textbar}$59084, ZNF534$\\text{\\textbar}$147658, EFNA5$\\text{\\textbar}$1946, HNF1B$\\text{\\textbar}$6928, CELA2A$\\text{\\textbar}$63036, FLG$\\text{\\textbar}$2312, SYCE1$\\text{\\textbar}$93426, PNCK$\\text{\\textbar}$139728, C11orf21$\\text{\\textbar}$29125, ATCAY$\\text{\\textbar}$85300, NPIPB3$\\text{\\textbar}$23117, JPH2$\\text{\\textbar}$57158, KRT14$\\text{\\textbar}$3861, SYT2$\\text{\\textbar}$127833, APOF$\\text{\\textbar}$319, MYCL$\\text{\\textbar}$4610, PLA2G4B$\\text{\\textbar}$100137049, ALPL$\\text{\\textbar}$249, MESP2$\\text{\\textbar}$145873, RADIL$\\text{\\textbar}$55698, TUBA3D$\\text{\\textbar}$113457, UNC5A$\\text{\\textbar}$90249, PSORS1C2$\\text{\\textbar}$170680, MS4A14$\\text{\\textbar}$84689, TUBA3C$\\text{\\textbar}$7278, SPRR1B$\\text{\\textbar}$6699, PHYHD1$\\text{\\textbar}$254295, AGTR1$\\text{\\textbar}$185, CNGA4$\\text{\\textbar}$1262, LPAR5$\\text{\\textbar}$57121, ATP8A2$\\text{\\textbar}$51761, MMP17$\\text{\\textbar}$4326, ALB$\\text{\\textbar}$213, TCP11$\\text{\\textbar}$6954, SFRP2$\\text{\\textbar}$6423, TNNC2$\\text{\\textbar}$7125, AREG$\\text{\\textbar}$374, ACOXL$\\text{\\textbar}$55289, WIF1$\\text{\\textbar}$11197, AC004076.1$\\text{\\textbar}$nan, SGIP1$\\text{\\textbar}$84251, SERPINI1$\\text{\\textbar}$5274, CFHR3$\\text{\\textbar}$10878, FRMPD2$\\text{\\textbar}$143162, KIR2DL4$\\text{\\textbar}$3805, SLC7A3$\\text{\\textbar}$84889, GPLD1$\\text{\\textbar}$2822, FOXA2$\\text{\\textbar}$3170, SMPDL3B$\\text{\\textbar}$27293, HPN$\\text{\\textbar}$3249, CCDC180$\\text{\\textbar}$100499483, B3GNT4$\\text{\\textbar}$79369, METTL7A$\\text{\\textbar}$25840, ANKRD1$\\text{\\textbar}$27063, KLK11$\\text{\\textbar}$11012, CYP19A1$\\text{\\textbar}$1588, ZNF229$\\text{\\textbar}$7772, TMEM45B$\\text{\\textbar}$120224, FAM162B$\\text{\\textbar}$221303, FAM25A$\\text{\\textbar}$643161, CGN$\\text{\\textbar}$57530, REC114$\\text{\\textbar}$283677, CSPG4$\\text{\\textbar}$1464, C11orf53$\\text{\\textbar}$341032, FOXR1$\\text{\\textbar}$283150, P3H3$\\text{\\textbar}$10536, ITPRIPL1$\\text{\\textbar}$150771, PEBP4$\\text{\\textbar}$157310, GPR78$\\text{\\textbar}$27201, NKAIN1$\\text{\\textbar}$79570, DUSP9$\\text{\\textbar}$1852, BNIPL$\\text{\\textbar}$149428, ERVV-2$\\text{\\textbar}$100271846, TPSG1$\\text{\\textbar}$25823, SLC4A8$\\text{\\textbar}$9498, NMUR1$\\text{\\textbar}$10316, KLK8$\\text{\\textbar}$11202, LRP4$\\text{\\textbar}$4038, ANGPT1$\\text{\\textbar}$284, COMP$\\text{\\textbar}$1311, GAS1$\\text{\\textbar}$2619, ADGRG6$\\text{\\textbar}$57211, RIMBP2$\\text{\\textbar}$23504, TNFRSF19$\\text{\\textbar}$55504, KLRC1$\\text{\\textbar}$3821, SV2C$\\text{\\textbar}$22987, TDO2$\\text{\\textbar}$6999, LRRIQ3$\\text{\\textbar}$127255, PROCA1$\\text{\\textbar}$147011, CTSE$\\text{\\textbar}$1510, OPRK1$\\text{\\textbar}$4986, CDKL2$\\text{\\textbar}$8999, KCNA6$\\text{\\textbar}$3742, WNT11$\\text{\\textbar}$7481, FAM69C$\\text{\\textbar}$125704, KCNQ5$\\text{\\textbar}$56479, HIF3A$\\text{\\textbar}$64344, KCNQ2$\\text{\\textbar}$3785, HSPB6$\\text{\\textbar}$126393, CA12$\\text{\\textbar}$771, SLC10A4$\\text{\\textbar}$201780, ZNF729$\\text{\\textbar}$100287226, DCC$\\text{\\textbar}$1630, CAMK2B$\\text{\\textbar}$816, ACKR1$\\text{\\textbar}$2532, IGFBP1$\\text{\\textbar}$3484, DNAH7$\\text{\\textbar}$56171, AL096711.2$\\text{\\textbar}$nan, GPC1$\\text{\\textbar}$2817, TUBB4A$\\text{\\textbar}$10382, PLP1$\\text{\\textbar}$5354, KCNJ12$\\text{\\textbar}$3768, AC134669.2$\\text{\\textbar}$nan, H1F0$\\text{\\textbar}$3005, HES7$\\text{\\textbar}$84667, ATP5EP2$\\text{\\textbar}$nan, ZNF607$\\text{\\textbar}$84775, TNMD$\\text{\\textbar}$64102, PAX8$\\text{\\textbar}$7849, GDF1$\\text{\\textbar}$2657, MFAP5$\\text{\\textbar}$8076, NEB$\\text{\\textbar}$4703, FAM71F1$\\text{\\textbar}$84691, ITPR2$\\text{\\textbar}$3709, SLC22A31$\\text{\\textbar}$146429, B3GALT1$\\text{\\textbar}$8708, DSG2$\\text{\\textbar}$1829, APOLD1$\\text{\\textbar}$81575, SH2D5$\\text{\\textbar}$400745, ADAM32$\\text{\\textbar}$203102, VNN2$\\text{\\textbar}$8875, CASR$\\text{\\textbar}$846, L3MBTL4$\\text{\\textbar}$91133, SPATC1$\\text{\\textbar}$375686, C19orf57$\\text{\\textbar}$79173, FAM86B1$\\text{\\textbar}$85002, SYT8$\\text{\\textbar}$90019, CFAP221$\\text{\\textbar}$200373, TFAP2C$\\text{\\textbar}$7022, GAL3ST2$\\text{\\textbar}$64090, FLT3$\\text{\\textbar}$2322, MMP15$\\text{\\textbar}$4324, ASGR2$\\text{\\textbar}$433, SPP2$\\text{\\textbar}$6694, TCF15$\\text{\\textbar}$6939, MEST$\\text{\\textbar}$4232, MYOM3$\\text{\\textbar}$127294, RNF112$\\text{\\textbar}$7732, GDF7$\\text{\\textbar}$151449, ACMSD$\\text{\\textbar}$130013, STMN2$\\text{\\textbar}$11075, MTSS1$\\text{\\textbar}$9788, ALAS2$\\text{\\textbar}$212, ANKRD45$\\text{\\textbar}$339416, TM4SF19$\\text{\\textbar}$116211, ACSM1$\\text{\\textbar}$116285, SORCS1$\\text{\\textbar}$114815, CABLES1$\\text{\\textbar}$91768, CLDN16$\\text{\\textbar}$10686, CAV1$\\text{\\textbar}$857, TULP1$\\text{\\textbar}$7287, SLC44A5$\\text{\\textbar}$204962, PAH$\\text{\\textbar}$5053, CLEC4C$\\text{\\textbar}$170482, RNF43$\\text{\\textbar}$54894, ATRNL1$\\text{\\textbar}$26033, ZNF671$\\text{\\textbar}$79891, PTGER3$\\text{\\textbar}$5733, COLEC10$\\text{\\textbar}$10584, NYAP1$\\text{\\textbar}$222950, CAPN8$\\text{\\textbar}$388743, RSPO2$\\text{\\textbar}$340419, DHRS7C$\\text{\\textbar}$201140, FAM216B$\\text{\\textbar}$144809, FAM178B$\\text{\\textbar}$51252, CCDC177$\\text{\\textbar}$56936, SPRR2D$\\text{\\textbar}$6703, SLC35G2$\\text{\\textbar}$80723, GLDC$\\text{\\textbar}$2731, RIPPLY1$\\text{\\textbar}$92129, NEFL$\\text{\\textbar}$4747, TMEM132D$\\text{\\textbar}$121256, SLC18A3$\\text{\\textbar}$6572, WFDC6$\\text{\\textbar}$140870, SHANK2$\\text{\\textbar}$22941, ADAMTSL5$\\text{\\textbar}$339366, SYT5$\\text{\\textbar}$6861, UBL4B$\\text{\\textbar}$164153, TCEAL7$\\text{\\textbar}$56849, SLC16A5$\\text{\\textbar}$9121, CABYR$\\text{\\textbar}$26256, C9orf24$\\text{\\textbar}$84688, TEX29$\\text{\\textbar}$121793, SDC2$\\text{\\textbar}$6383, HBEGF$\\text{\\textbar}$1839, SLC6A17$\\text{\\textbar}$388662, SHOX$\\text{\\textbar}$6473, ISM2$\\text{\\textbar}$145501, STK26$\\text{\\textbar}$51765, NRIP3$\\text{\\textbar}$56675, PXT1$\\text{\\textbar}$222659, ZNF114$\\text{\\textbar}$163071, HSPA1A$\\text{\\textbar}$3303, OR13A1$\\text{\\textbar}$79290, TYRO3$\\text{\\textbar}$7301, DTNA$\\text{\\textbar}$1837, DCAF12L1$\\text{\\textbar}$139170, C1orf116$\\text{\\textbar}$79098, ALKAL2$\\text{\\textbar}$285016, NOV$\\text{\\textbar}$4856, DDX25$\\text{\\textbar}$29118, HRH4$\\text{\\textbar}$59340, WNT8A$\\text{\\textbar}$7478, RFPL3S$\\text{\\textbar}$nan, SLC8A3$\\text{\\textbar}$6547, HLA-DQB2$\\text{\\textbar}$3120, NR1D1$\\text{\\textbar}$9572, WT1$\\text{\\textbar}$7490, KCNJ1$\\text{\\textbar}$3758, SFRP4$\\text{\\textbar}$6424, AGBL1$\\text{\\textbar}$123624, GNG7$\\text{\\textbar}$2788, RORB$\\text{\\textbar}$6096, ELAVL3$\\text{\\textbar}$1995, MYL2$\\text{\\textbar}$4633, RASAL1$\\text{\\textbar}$8437, PPP1R14C$\\text{\\textbar}$81706, TUBB1$\\text{\\textbar}$81027, PCOLCE2$\\text{\\textbar}$26577, C4orf19$\\text{\\textbar}$55286, IL12RB2$\\text{\\textbar}$3595, LCE3E$\\text{\\textbar}$353145, GUCY2D$\\text{\\textbar}$3000, DNASE1L2$\\text{\\textbar}$1775, LOC102724197$\\text{\\textbar}$102724197, CRYBG2$\\text{\\textbar}$55057, SLC43A1$\\text{\\textbar}$8501, KLK7$\\text{\\textbar}$5650, TEX11$\\text{\\textbar}$56159, CHRND$\\text{\\textbar}$1144, DLEC1$\\text{\\textbar}$9940, TTC34$\\text{\\textbar}$100287898, RSPO4$\\text{\\textbar}$343637, TMEM130$\\text{\\textbar}$222865, GJB3$\\text{\\textbar}$2707, KNDC1$\\text{\\textbar}$85442, GPR150$\\text{\\textbar}$285601, ADAMTS16$\\text{\\textbar}$170690, AD000671.2$\\text{\\textbar}$nan, ZNF583$\\text{\\textbar}$147949, C19orf33$\\text{\\textbar}$64073, LOC100996709$\\text{\\textbar}$100996709, CFAP57$\\text{\\textbar}$149465, NMU$\\text{\\textbar}$10874, CD1D$\\text{\\textbar}$912, SALL1$\\text{\\textbar}$6299, NRTN$\\text{\\textbar}$4902, TAS1R1$\\text{\\textbar}$80835, CCDC187$\\text{\\textbar}$399693, BIRC7$\\text{\\textbar}$79444, PHOX2A$\\text{\\textbar}$401, GSTA1$\\text{\\textbar}$2938, ADAM33$\\text{\\textbar}$80332, DDIT4$\\text{\\textbar}$54541, CRYM$\\text{\\textbar}$1428, FAM180B$\\text{\\textbar}$399888, MTCL1$\\text{\\textbar}$23255, TUBA3E$\\text{\\textbar}$112714, SPATA6$\\text{\\textbar}$54558, ZNF382$\\text{\\textbar}$84911, NEURL1$\\text{\\textbar}$9148, DISP2$\\text{\\textbar}$85455, PZP$\\text{\\textbar}$5858, PPP1R14A$\\text{\\textbar}$94274, CIART$\\text{\\textbar}$148523, CLLU1$\\text{\\textbar}$574028, LUM$\\text{\\textbar}$4060, TMEM252$\\text{\\textbar}$169693, NLRP14$\\text{\\textbar}$338323, APLP1$\\text{\\textbar}$333, MS4A12$\\text{\\textbar}$54860, GSC$\\text{\\textbar}$145258, DTHD1$\\text{\\textbar}$401124, SLC35D3$\\text{\\textbar}$340146, SEL1L3$\\text{\\textbar}$23231, AARD$\\text{\\textbar}$441376, PPDPFL$\\text{\\textbar}$492307, ALDH1L2$\\text{\\textbar}$160428, AL357673.1$\\text{\\textbar}$nan, MEIS2$\\text{\\textbar}$4212, LHFPL4$\\text{\\textbar}$375323, ONECUT2$\\text{\\textbar}$9480, ADGRD2$\\text{\\textbar}$nan, COL11A2$\\text{\\textbar}$1302, QPRT$\\text{\\textbar}$23475, CD160$\\text{\\textbar}$11126, ADGRG5$\\text{\\textbar}$221188, DAND5$\\text{\\textbar}$199699, CAMK2N2$\\text{\\textbar}$94032, NHLH1$\\text{\\textbar}$4807, LYPD3$\\text{\\textbar}$27076, ALDH3B2$\\text{\\textbar}$222, TEKT1$\\text{\\textbar}$83659, HMX1$\\text{\\textbar}$3166, ENTPD3$\\text{\\textbar}$956, INSRR$\\text{\\textbar}$3645, SDR42E2$\\text{\\textbar}$nan, FMO3$\\text{\\textbar}$2328, RPL39L$\\text{\\textbar}$116832, IQUB$\\text{\\textbar}$154865, C1QTNF12$\\text{\\textbar}$388581, WTIP$\\text{\\textbar}$126374, QRFPR$\\text{\\textbar}$84109, CLEC6A$\\text{\\textbar}$93978, AZU1$\\text{\\textbar}$566, OPRL1$\\text{\\textbar}$4987, ALPK3$\\text{\\textbar}$57538, CLEC18A$\\text{\\textbar}$348174, XG$\\text{\\textbar}$7499, TRPV5$\\text{\\textbar}$56302, TMEM151B$\\text{\\textbar}$441151, STAR$\\text{\\textbar}$6770, KANK1$\\text{\\textbar}$23189, IER5L$\\text{\\textbar}$389792, ETNK2$\\text{\\textbar}$55224, IRF6$\\text{\\textbar}$3664, CCDC38$\\text{\\textbar}$120935, TFRC$\\text{\\textbar}$7037, MSH4$\\text{\\textbar}$4438, STK33$\\text{\\textbar}$65975, TTLL10$\\text{\\textbar}$254173, HIST1H1T$\\text{\\textbar}$3010, ST6GAL1$\\text{\\textbar}$6480, GNG8$\\text{\\textbar}$94235, CPM$\\text{\\textbar}$1368, PDZRN3$\\text{\\textbar}$23024, IL1A$\\text{\\textbar}$3552, HIST1H2AD$\\text{\\textbar}$3013, GALNT17$\\text{\\textbar}$64409, EDN2$\\text{\\textbar}$1907, TRIM40$\\text{\\textbar}$135644, PRR19$\\text{\\textbar}$284338, PIGR$\\text{\\textbar}$5284, ADGRG7$\\text{\\textbar}$84873, PLIN1$\\text{\\textbar}$5346, FGL1$\\text{\\textbar}$2267, TWIST1$\\text{\\textbar}$7291, MSC$\\text{\\textbar}$9242, IGSF1$\\text{\\textbar}$3547, ZNF256$\\text{\\textbar}$10172, CFAP74$\\text{\\textbar}$85452, SLC6A8$\\text{\\textbar}$6535, LY6K$\\text{\\textbar}$54742, KLRF1$\\text{\\textbar}$51348, SLC23A1$\\text{\\textbar}$9963, CCL28$\\text{\\textbar}$56477, SHROOM3$\\text{\\textbar}$57619, PCDHGC4$\\text{\\textbar}$56098, CELF4$\\text{\\textbar}$56853, C12orf56$\\text{\\textbar}$115749, ADGRD1$\\text{\\textbar}$283383, VSTM2L$\\text{\\textbar}$128434, TUB$\\text{\\textbar}$7275, WDR66$\\text{\\textbar}$144406, GAD1$\\text{\\textbar}$2571, ST8SIA3$\\text{\\textbar}$51046, DPPA4$\\text{\\textbar}$55211, SLC36A2$\\text{\\textbar}$153201, RNASEK-C17orf49$\\text{\\textbar}$nan, IVL$\\text{\\textbar}$3713, CRIP3$\\text{\\textbar}$401262, MMP28$\\text{\\textbar}$79148, CACNA1B$\\text{\\textbar}$774, SMIM23$\\text{\\textbar}$644994, IGFL2$\\text{\\textbar}$147920, GPR55$\\text{\\textbar}$9290, PGR$\\text{\\textbar}$5241, MYPN$\\text{\\textbar}$84665, FOLH1$\\text{\\textbar}$2346, BRSK2$\\text{\\textbar}$9024, DHRS3$\\text{\\textbar}$9249, CATSPERB$\\text{\\textbar}$79820, SLC14A2$\\text{\\textbar}$8170, TTPA$\\text{\\textbar}$7274, ITGAD$\\text{\\textbar}$3681, VENTX$\\text{\\textbar}$27287, LRRTM4$\\text{\\textbar}$80059, CTHRC1$\\text{\\textbar}$115908, IL11$\\text{\\textbar}$3589, SULT2B1$\\text{\\textbar}$6820, MYF5$\\text{\\textbar}$4617, CCL17$\\text{\\textbar}$6361, TNFRSF13C$\\text{\\textbar}$115650, EYA1$\\text{\\textbar}$2138, CRISP3$\\text{\\textbar}$10321, ZDHHC11B$\\text{\\textbar}$nan, LINGO2$\\text{\\textbar}$158038, GCNT7$\\text{\\textbar}$140687, SUCNR1$\\text{\\textbar}$56670, LRRC4$\\text{\\textbar}$64101, TNFRSF10C$\\text{\\textbar}$8794, STAG3$\\text{\\textbar}$10734, ANGPTL5$\\text{\\textbar}$253935, SLC10A6$\\text{\\textbar}$345274, C2orf72$\\text{\\textbar}$257407, PI3$\\text{\\textbar}$5266, MEFV$\\text{\\textbar}$4210, GDF3$\\text{\\textbar}$nan, SCRG1$\\text{\\textbar}$11341, MB21D2$\\text{\\textbar}$151963, KCNK9$\\text{\\textbar}$51305, PSG4$\\text{\\textbar}$5672, WFDC2$\\text{\\textbar}$10406, TRDN$\\text{\\textbar}$10345, SYTL4$\\text{\\textbar}$94121, ACTG2$\\text{\\textbar}$72, CELF5$\\text{\\textbar}$60680, CACNG8$\\text{\\textbar}$59283, HIST1H3B$\\text{\\textbar}$8358, OPN1SW$\\text{\\textbar}$611, ELOVL4$\\text{\\textbar}$6785, GPRC5C$\\text{\\textbar}$55890, GC$\\text{\\textbar}$2638, CYP3A5$\\text{\\textbar}$1577, SLC28A2$\\text{\\textbar}$9153, SDC1$\\text{\\textbar}$6382, CDR2L$\\text{\\textbar}$30850, AC004754.1$\\text{\\textbar}$nan, FAM131B$\\text{\\textbar}$9715, NEFM$\\text{\\textbar}$4741, TSPYL5$\\text{\\textbar}$85453, SLC5A10$\\text{\\textbar}$125206, GNG3$\\text{\\textbar}$2785, PROX2$\\text{\\textbar}$283571, LAMC2$\\text{\\textbar}$3918, BSND$\\text{\\textbar}$7809, ASIC1$\\text{\\textbar}$41, PRR9$\\text{\\textbar}$574414, C2CD6$\\text{\\textbar}$151254, ANK1$\\text{\\textbar}$286, TSC22D3$\\text{\\textbar}$1831, FZD9$\\text{\\textbar}$8326, ZNF99$\\text{\\textbar}$7652, SVOP$\\text{\\textbar}$55530, PRDM7$\\text{\\textbar}$11105, NPIPB12$\\text{\\textbar}$nan, KHDC1L$\\text{\\textbar}$100129128, SCG2$\\text{\\textbar}$7857, KRT6A$\\text{\\textbar}$3853, TMEM151A$\\text{\\textbar}$256472, RDH8$\\text{\\textbar}$50700, MIP$\\text{\\textbar}$4284, LINGO4$\\text{\\textbar}$339398, FYB2$\\text{\\textbar}$199920, ANXA8L1$\\text{\\textbar}$728113, LHX1$\\text{\\textbar}$3975, GATA2$\\text{\\textbar}$2624, GPR31$\\text{\\textbar}$2853, GJA10$\\text{\\textbar}$84694, ZNF516$\\text{\\textbar}$9658, HNF4G$\\text{\\textbar}$3174, ASCL5$\\text{\\textbar}$647219, GSTA2$\\text{\\textbar}$2939, SPZ1$\\text{\\textbar}$84654, SLC6A5$\\text{\\textbar}$9152, FOXD4$\\text{\\textbar}$2298, UNC5CL$\\text{\\textbar}$222643, CAVIN4$\\text{\\textbar}$347273, MAP2$\\text{\\textbar}$4133, AGAP2$\\text{\\textbar}$116986, ADM$\\text{\\textbar}$133, PTCRA$\\text{\\textbar}$171558, ZP1$\\text{\\textbar}$22917, FABP5$\\text{\\textbar}$2171, RGS2$\\text{\\textbar}$5997, VAX2$\\text{\\textbar}$25806, MYLK2$\\text{\\textbar}$85366, TEN1$\\text{\\textbar}$100134934, SLC15A1$\\text{\\textbar}$6564, RASGEF1A$\\text{\\textbar}$221002, FAM47E$\\text{\\textbar}$100129583, A1BG$\\text{\\textbar}$1, SOX30$\\text{\\textbar}$11063, PQLC2L$\\text{\\textbar}$152078, LDLRAD1$\\text{\\textbar}$388633, SCRT1$\\text{\\textbar}$83482, PLPPR4$\\text{\\textbar}$9890, TMPRSS3$\\text{\\textbar}$64699, OR2AT4$\\text{\\textbar}$341152, FBXO32$\\text{\\textbar}$114907, EGFL6$\\text{\\textbar}$25975, SERTM2$\\text{\\textbar}$401613, AC068533.4$\\text{\\textbar}$nan, PRR15$\\text{\\textbar}$222171, PLD5$\\text{\\textbar}$200150, GBP7$\\text{\\textbar}$388646, STMND1$\\text{\\textbar}$401236, SLFN12$\\text{\\textbar}$55106, RBM46$\\text{\\textbar}$166863, NR2F1$\\text{\\textbar}$7025, NBL1$\\text{\\textbar}$4681, MMP3$\\text{\\textbar}$4314, PTGDR2$\\text{\\textbar}$11251, LIMCH1$\\text{\\textbar}$22998, CST6$\\text{\\textbar}$1474, ABCC12$\\text{\\textbar}$94160, HIST1H3A$\\text{\\textbar}$8350, DRICH1$\\text{\\textbar}$51233, GADD45B$\\text{\\textbar}$4616, CXCL2$\\text{\\textbar}$2920, MUC4$\\text{\\textbar}$4585, C9orf50$\\text{\\textbar}$375759, ANKRD2$\\text{\\textbar}$26287, PROS1$\\text{\\textbar}$5627, ILDR2$\\text{\\textbar}$387597, WFDC10B$\\text{\\textbar}$280664, SYN2$\\text{\\textbar}$6854, FKBP1B$\\text{\\textbar}$2281, FGA$\\text{\\textbar}$2243, LOC107984057$\\text{\\textbar}$107984057, CYP2C9$\\text{\\textbar}$1559, FBN2$\\text{\\textbar}$2201, KERA$\\text{\\textbar}$11081, SAMD15$\\text{\\textbar}$161394, MASP2$\\text{\\textbar}$10747, CCDC74B$\\text{\\textbar}$91409, MYBPH$\\text{\\textbar}$4608, HOXD13$\\text{\\textbar}$3239, SOX1$\\text{\\textbar}$6656, SHD$\\text{\\textbar}$56961, OTOF$\\text{\\textbar}$9381, AMZ1$\\text{\\textbar}$155185, ADRA2C$\\text{\\textbar}$152, TP53$\\text{\\textbar}$7157, SLC35F3$\\text{\\textbar}$148641, PHEX$\\text{\\textbar}$5251, L1CAM$\\text{\\textbar}$3897, SPATA45$\\text{\\textbar}$149643, LAX1$\\text{\\textbar}$54900, EREG$\\text{\\textbar}$2069, LOC107984085$\\text{\\textbar}$107984085, ANK2$\\text{\\textbar}$287, SLC47A1$\\text{\\textbar}$55244, CACNB1$\\text{\\textbar}$782, GCM1$\\text{\\textbar}$8521, TPPP2$\\text{\\textbar}$122664, SLC7A8$\\text{\\textbar}$23428, PROZ$\\text{\\textbar}$8858, HIST1H2AG$\\text{\\textbar}$8969, TSACC$\\text{\\textbar}$128229, HOXA9$\\text{\\textbar}$3205, RTL8B$\\text{\\textbar}$441518, AC138811.2$\\text{\\textbar}$nan, ZNF155$\\text{\\textbar}$7711, SKIDA1$\\text{\\textbar}$387640, MYO1H$\\text{\\textbar}$283446, GSG1L$\\text{\\textbar}$146395, TNNT1$\\text{\\textbar}$7138, KIAA1210$\\text{\\textbar}$57481, GJA5$\\text{\\textbar}$2702, TMEM200B$\\text{\\textbar}$399474, SORT1$\\text{\\textbar}$6272, MEGF11$\\text{\\textbar}$84465, TTC22$\\text{\\textbar}$55001, SPATA6L$\\text{\\textbar}$55064, CD300E$\\text{\\textbar}$342510, F2RL2$\\text{\\textbar}$2151, CADM3$\\text{\\textbar}$57863, GFI1$\\text{\\textbar}$2672, HOXA4$\\text{\\textbar}$3201, NFASC$\\text{\\textbar}$23114, IQGAP2$\\text{\\textbar}$10788, CTNND2$\\text{\\textbar}$1501, ATP10D$\\text{\\textbar}$57205, TCTE1$\\text{\\textbar}$202500, SPDYE5$\\text{\\textbar}$442590, NME5$\\text{\\textbar}$8382, HAND1$\\text{\\textbar}$9421, ISL2$\\text{\\textbar}$64843, ZNF492$\\text{\\textbar}$57615, GRIA2$\\text{\\textbar}$2891, GLP1R$\\text{\\textbar}$2740, MMP7$\\text{\\textbar}$4316, HSPA1B$\\text{\\textbar}$3304, IGFBP6$\\text{\\textbar}$3489, HMGCLL1$\\text{\\textbar}$54511, AL031708.1$\\text{\\textbar}$nan, IGFLR1$\\text{\\textbar}$79713, FBN3$\\text{\\textbar}$84467, FAXC$\\text{\\textbar}$84553, TLE4$\\text{\\textbar}$7091, SLC26A5$\\text{\\textbar}$375611, BST1$\\text{\\textbar}$683, ZNF418$\\text{\\textbar}$147686, SLC17A3$\\text{\\textbar}$10786, DNAI1$\\text{\\textbar}$27019, GOLGA8R$\\text{\\textbar}$101059918, PRSS48$\\text{\\textbar}$345062, TMEM35A$\\text{\\textbar}$59353, NUDT11$\\text{\\textbar}$55190, MLPH$\\text{\\textbar}$79083, SERPINB7$\\text{\\textbar}$8710, GPR27$\\text{\\textbar}$2850, HAVCR1$\\text{\\textbar}$26762, APOBEC3A\\_B$\\text{\\textbar}$100913187, LONRF2$\\text{\\textbar}$164832, PRR18$\\text{\\textbar}$285800, LRRC3$\\text{\\textbar}$81543, KLKB1$\\text{\\textbar}$3818, OTX1$\\text{\\textbar}$5013, CXCL14$\\text{\\textbar}$9547, PRKAR1B$\\text{\\textbar}$5575, BAIAP2L2$\\text{\\textbar}$80115, OLFM1$\\text{\\textbar}$10439, RIMS4$\\text{\\textbar}$140730, NDNF$\\text{\\textbar}$79625, KRT76$\\text{\\textbar}$51350, PPEF1$\\text{\\textbar}$5475, IL27$\\text{\\textbar}$246778, FAM153B$\\text{\\textbar}$202134, DUSP26$\\text{\\textbar}$78986, GPC6$\\text{\\textbar}$10082, CCDC103$\\text{\\textbar}$388389, ZNF280B$\\text{\\textbar}$140883, TRIM71$\\text{\\textbar}$131405, CRNN$\\text{\\textbar}$49860, TFF3$\\text{\\textbar}$7033, MYO5C$\\text{\\textbar}$55930, TAS1R3$\\text{\\textbar}$83756, GPR179$\\text{\\textbar}$440435, SYNGR3$\\text{\\textbar}$9143, C5orf49$\\text{\\textbar}$134121, CGNL1$\\text{\\textbar}$84952, CACNA1A$\\text{\\textbar}$773, ADPRHL1$\\text{\\textbar}$113622, TMC5$\\text{\\textbar}$79838, RP1$\\text{\\textbar}$6101, PLEKHG4$\\text{\\textbar}$25894, C10orf99$\\text{\\textbar}$387695, G6PC$\\text{\\textbar}$2538, ADGRG1$\\text{\\textbar}$9289, MYT1L$\\text{\\textbar}$23040, THBS4$\\text{\\textbar}$7060, TEX19$\\text{\\textbar}$400629, SERPINB2$\\text{\\textbar}$5055, TMSB15B$\\text{\\textbar}$286527, TIMD4$\\text{\\textbar}$91937, MICB$\\text{\\textbar}$4277, CCDC158$\\text{\\textbar}$339965, SEMA3E$\\text{\\textbar}$9723, C2CD4C$\\text{\\textbar}$126567, PHOSPHO1$\\text{\\textbar}$162466, NOTUM$\\text{\\textbar}$147111, IL17RB$\\text{\\textbar}$55540, SIM2$\\text{\\textbar}$6493, CLCA4$\\text{\\textbar}$22802, PLEKHG7$\\text{\\textbar}$440107, PCDHGB1$\\text{\\textbar}$56104, HIST1H2BJ$\\text{\\textbar}$8970, PRCD$\\text{\\textbar}$768206, KIF1A$\\text{\\textbar}$547, COL6A5$\\text{\\textbar}$256076, BEST2$\\text{\\textbar}$54831, SLC22A7$\\text{\\textbar}$10864, FOXD3$\\text{\\textbar}$27022, CACNA1D$\\text{\\textbar}$776, CCNJL$\\text{\\textbar}$79616, TMEM108$\\text{\\textbar}$66000, NCKAP5$\\text{\\textbar}$344148, DLGAP2$\\text{\\textbar}$9228, CKB$\\text{\\textbar}$1152, SPRR1A$\\text{\\textbar}$6698, EPHB2$\\text{\\textbar}$2048, CPLX2$\\text{\\textbar}$10814, PNMA8B$\\text{\\textbar}$57469, NUGGC$\\text{\\textbar}$389643, PNPLA1$\\text{\\textbar}$285848, NGEF$\\text{\\textbar}$25791, HGD$\\text{\\textbar}$3081, GPC3$\\text{\\textbar}$2719, GRIN1$\\text{\\textbar}$2902, GDF10$\\text{\\textbar}$2662, CNR2$\\text{\\textbar}$1269, ENKUR$\\text{\\textbar}$219670, CD207$\\text{\\textbar}$50489, POMC$\\text{\\textbar}$5443, SYDE2$\\text{\\textbar}$84144, MYO5B$\\text{\\textbar}$4645, WDR63$\\text{\\textbar}$126820, PIP5K1B$\\text{\\textbar}$8395, LINC00672$\\text{\\textbar}$nan, GABRA3$\\text{\\textbar}$2556, FAM181A$\\text{\\textbar}$90050, OBSL1$\\text{\\textbar}$23363, KCTD14$\\text{\\textbar}$65987, CP$\\text{\\textbar}$1356, ZNF471$\\text{\\textbar}$57573, CLDN14$\\text{\\textbar}$23562, NAALADL2$\\text{\\textbar}$254827, CYP4V2$\\text{\\textbar}$285440, CORO7-PAM16$\\text{\\textbar}$100529144, FLRT3$\\text{\\textbar}$23767, PTPRD$\\text{\\textbar}$5789, ABCA8$\\text{\\textbar}$10351, GREB1L$\\text{\\textbar}$80000, CIDEC$\\text{\\textbar}$63924, AK7$\\text{\\textbar}$122481, AGBL4$\\text{\\textbar}$84871, TRPC6$\\text{\\textbar}$7225, SERPINA1$\\text{\\textbar}$5265, GLRB$\\text{\\textbar}$2743, ORM1$\\text{\\textbar}$5004, RAB3B$\\text{\\textbar}$5865, TCIM$\\text{\\textbar}$56892, FZD5$\\text{\\textbar}$7855, GNG4$\\text{\\textbar}$2786, PTHLH$\\text{\\textbar}$5744, KLRB1$\\text{\\textbar}$3820, ANKRD18B$\\text{\\textbar}$nan, MAB21L2$\\text{\\textbar}$10586, TMEM56-RWDD3$\\text{\\textbar}$100527978, RTN1$\\text{\\textbar}$6252, ZFAND2A$\\text{\\textbar}$90637, SEPT5$\\text{\\textbar}$5413, TPM2$\\text{\\textbar}$7169, KLK6$\\text{\\textbar}$5653, GDAP1L1$\\text{\\textbar}$78997, PLAGL1$\\text{\\textbar}$5325, FGF22$\\text{\\textbar}$27006, RAPSN$\\text{\\textbar}$5913, ERP27$\\text{\\textbar}$121506, SULT1C2$\\text{\\textbar}$6819, SLC4A9$\\text{\\textbar}$83697, RFK$\\text{\\textbar}$55312, SLC16A9$\\text{\\textbar}$220963, CRYGN$\\text{\\textbar}$155051, SEMA3C$\\text{\\textbar}$10512, LINGO1$\\text{\\textbar}$84894, ITLN1$\\text{\\textbar}$55600, LRRC36$\\text{\\textbar}$55282, ERRFI1$\\text{\\textbar}$54206, MMRN1$\\text{\\textbar}$22915, TNFSF11$\\text{\\textbar}$8600, OCM$\\text{\\textbar}$654231, TEC$\\text{\\textbar}$7006, GLIPR1L2$\\text{\\textbar}$144321, RBM11$\\text{\\textbar}$54033, CTAGE8$\\text{\\textbar}$100142659, P3H2$\\text{\\textbar}$55214, GHRL$\\text{\\textbar}$51738, ECM1$\\text{\\textbar}$1893, SCNN1G$\\text{\\textbar}$6340, SLC28A1$\\text{\\textbar}$9154, R3HDML$\\text{\\textbar}$140902, RBMXL2$\\text{\\textbar}$27288, S100P$\\text{\\textbar}$6286, MTERF1$\\text{\\textbar}$7978, MNS1$\\text{\\textbar}$55329, HIST1H4H$\\text{\\textbar}$8365, VGLL3$\\text{\\textbar}$389136, UCP3$\\text{\\textbar}$7352, SAA2$\\text{\\textbar}$6289, NETO1$\\text{\\textbar}$81832, ARSF$\\text{\\textbar}$416, CASC10$\\text{\\textbar}$399726, ENPP3$\\text{\\textbar}$5169, TNFRSF13B$\\text{\\textbar}$23495, TUNAR$\\text{\\textbar}$100507043, PCDHB9$\\text{\\textbar}$56127, CAPN6$\\text{\\textbar}$827, LRAT$\\text{\\textbar}$9227, C8orf89$\\text{\\textbar}$100130301, GULP1$\\text{\\textbar}$51454, MDH1B$\\text{\\textbar}$130752, AC003002.2$\\text{\\textbar}$nan, GYG2$\\text{\\textbar}$8908, LPAR2$\\text{\\textbar}$9170, HYAL1$\\text{\\textbar}$3373, CHST1$\\text{\\textbar}$8534, CD244$\\text{\\textbar}$51744, KLHL13$\\text{\\textbar}$90293, IL20RB$\\text{\\textbar}$53833, TOX$\\text{\\textbar}$9760, CX3CL1$\\text{\\textbar}$6376, MAST1$\\text{\\textbar}$22983, ACSL6$\\text{\\textbar}$23305, FAM46B$\\text{\\textbar}$115572, EEF1A2$\\text{\\textbar}$1917, PLTP$\\text{\\textbar}$5360, BCL2L2-PABPN1$\\text{\\textbar}$100529063, RHOV$\\text{\\textbar}$171177, P2RY4$\\text{\\textbar}$5030, UGT2B4$\\text{\\textbar}$7363, TACR1$\\text{\\textbar}$6869, SSTR1$\\text{\\textbar}$6751, HFE$\\text{\\textbar}$3077, LRG1$\\text{\\textbar}$116844, PNMT$\\text{\\textbar}$5409, MPZ$\\text{\\textbar}$4359, LAMB3$\\text{\\textbar}$3914, ZNF541$\\text{\\textbar}$84215, ARMCX2$\\text{\\textbar}$9823, DCHS2$\\text{\\textbar}$54798, USP27X$\\text{\\textbar}$389856, ZNF502$\\text{\\textbar}$91392, HIST2H2BF$\\text{\\textbar}$440689, PTPRR$\\text{\\textbar}$5801, PSG1$\\text{\\textbar}$5669, HUS1B$\\text{\\textbar}$135458, PARP6$\\text{\\textbar}$56965, MAP7D2$\\text{\\textbar}$256714, GLB1L3$\\text{\\textbar}$112937, CCK$\\text{\\textbar}$885, DDO$\\text{\\textbar}$8528, HTR1D$\\text{\\textbar}$3352, PSD$\\text{\\textbar}$5662, BSPRY$\\text{\\textbar}$54836, SMIM31$\\text{\\textbar}$100505989, DCDC2$\\text{\\textbar}$51473, BEGAIN$\\text{\\textbar}$57596, SOX8$\\text{\\textbar}$30812, RAB25$\\text{\\textbar}$57111, TMEM63C$\\text{\\textbar}$57156, NFIA$\\text{\\textbar}$4774, TNIP3$\\text{\\textbar}$79931, PHKA1$\\text{\\textbar}$5255, FAM163B$\\text{\\textbar}$642968, TRIM63$\\text{\\textbar}$84676, SLC12A8$\\text{\\textbar}$84561, ECEL1$\\text{\\textbar}$9427, SCUBE1$\\text{\\textbar}$80274, RAB11FIP4$\\text{\\textbar}$84440, GLT1D1$\\text{\\textbar}$144423, BPI$\\text{\\textbar}$671, BARX1$\\text{\\textbar}$56033, B4GALNT4$\\text{\\textbar}$338707, MPP2$\\text{\\textbar}$4355, MYO3B$\\text{\\textbar}$140469, LPA$\\text{\\textbar}$4018, ARHGAP36$\\text{\\textbar}$158763, GRAMD2A$\\text{\\textbar}$196996, POU2F3$\\text{\\textbar}$25833, SLC45A2$\\text{\\textbar}$51151, TRPV1$\\text{\\textbar}$7442, POU3F1$\\text{\\textbar}$5453, PIANP$\\text{\\textbar}$196500, ARHGAP29$\\text{\\textbar}$9411, ELANE$\\text{\\textbar}$1991, CHST8$\\text{\\textbar}$64377, C1orf21$\\text{\\textbar}$81563, RGL3$\\text{\\textbar}$57139, LRRC75B$\\text{\\textbar}$388886, KRTAP1-5$\\text{\\textbar}$83895, CYP4X1$\\text{\\textbar}$260293, CPLX1$\\text{\\textbar}$10815, VSX2$\\text{\\textbar}$338917, STAP1$\\text{\\textbar}$26228, ART1$\\text{\\textbar}$417, CCL18$\\text{\\textbar}$6362, RAB26$\\text{\\textbar}$25837, ZFHX4$\\text{\\textbar}$79776, MFSD2A$\\text{\\textbar}$84879, GPR17$\\text{\\textbar}$2840, IGF2BP1$\\text{\\textbar}$10642, STARD5$\\text{\\textbar}$80765, MAP10$\\text{\\textbar}$54627, SNCG$\\text{\\textbar}$6623, NR1I2$\\text{\\textbar}$8856, CD44$\\text{\\textbar}$960, CBLC$\\text{\\textbar}$23624, CD1B$\\text{\\textbar}$910, TWIST2$\\text{\\textbar}$117581, PDZD4$\\text{\\textbar}$57595, C11orf45$\\text{\\textbar}$219833, MT1E$\\text{\\textbar}$4493, BTC$\\text{\\textbar}$685, RNF151$\\text{\\textbar}$146310, EIF3CL$\\text{\\textbar}$728689, FGF16$\\text{\\textbar}$8823, HR$\\text{\\textbar}$55806, TC2N$\\text{\\textbar}$123036, HP$\\text{\\textbar}$3240, HDC$\\text{\\textbar}$3067, CHRM4$\\text{\\textbar}$1132, FEZ1$\\text{\\textbar}$9638, CCDC7$\\text{\\textbar}$79741, FMO2$\\text{\\textbar}$2327, EMILIN3$\\text{\\textbar}$90187, RETN$\\text{\\textbar}$56729, ARHGEF35$\\text{\\textbar}$445328, ADAMTS1$\\text{\\textbar}$9510, SLC39A4$\\text{\\textbar}$55630, DBP$\\text{\\textbar}$1628, TOMM20L$\\text{\\textbar}$387990, FOXD1$\\text{\\textbar}$2297, ACTA1$\\text{\\textbar}$58, MARCO$\\text{\\textbar}$8685, AC002310.5$\\text{\\textbar}$nan, MAP2K6$\\text{\\textbar}$5608, CLDN3$\\text{\\textbar}$1365, SLCO2A1$\\text{\\textbar}$6578, TPSB2$\\text{\\textbar}$64499, C16orf96$\\text{\\textbar}$342346, GRM8$\\text{\\textbar}$2918, TBX4$\\text{\\textbar}$9496, POLR2J3$\\text{\\textbar}$548644, FKBP10$\\text{\\textbar}$60681, C6orf201$\\text{\\textbar}$404220, PLPPR1$\\text{\\textbar}$54886, PCDHGB6$\\text{\\textbar}$56100, AMY2B$\\text{\\textbar}$280, PLA2G2F$\\text{\\textbar}$64600, CCL3L1$\\text{\\textbar}$6349, ABHD3$\\text{\\textbar}$171586, SNX32$\\text{\\textbar}$254122, NSG1$\\text{\\textbar}$27065, LOC107987479$\\text{\\textbar}$107987479, ARID3C$\\text{\\textbar}$138715, AQP6$\\text{\\textbar}$363, PRKCQ$\\text{\\textbar}$5588, PGBD5$\\text{\\textbar}$79605, TEKT2$\\text{\\textbar}$27285, MICU3$\\text{\\textbar}$286097, NOD2$\\text{\\textbar}$64127, GRAMD1C$\\text{\\textbar}$54762, TMEM266$\\text{\\textbar}$123591, TKTL2$\\text{\\textbar}$84076, BSN$\\text{\\textbar}$8927, H3F3C$\\text{\\textbar}$440093, MMP23B$\\text{\\textbar}$8510, AMDHD1$\\text{\\textbar}$144193, HOXA10$\\text{\\textbar}$3206, SCGB3A1$\\text{\\textbar}$92304, SLC5A8$\\text{\\textbar}$160728, TTYH1$\\text{\\textbar}$57348, CEL$\\text{\\textbar}$1056, PAX3$\\text{\\textbar}$5077, TSPAN11$\\text{\\textbar}$441631, PLA2G4E$\\text{\\textbar}$123745, NTF3$\\text{\\textbar}$4908, TPPP3$\\text{\\textbar}$51673, PLEKHA4$\\text{\\textbar}$57664, C1orf94$\\text{\\textbar}$84970, IL26$\\text{\\textbar}$55801, IL18RAP$\\text{\\textbar}$8807, ASTL$\\text{\\textbar}$431705, SHROOM2$\\text{\\textbar}$357, HTR1F$\\text{\\textbar}$3355, ZNF559-ZNF177$\\text{\\textbar}$100529215, KBTBD8$\\text{\\textbar}$84541, FGF17$\\text{\\textbar}$8822, KCNJ16$\\text{\\textbar}$3773, RTN4RL1$\\text{\\textbar}$146760, GCNT2$\\text{\\textbar}$2651, FCGBP$\\text{\\textbar}$8857, PRSS3$\\text{\\textbar}$5646, KCNG2$\\text{\\textbar}$26251, GAL$\\text{\\textbar}$51083, SPINK5$\\text{\\textbar}$11005, NPL$\\text{\\textbar}$80896, ANKRD13B$\\text{\\textbar}$124930, AC092143.1$\\text{\\textbar}$nan, SCN1A$\\text{\\textbar}$6323, PGF$\\text{\\textbar}$5228, C11orf97$\\text{\\textbar}$643037, ARPP21$\\text{\\textbar}$10777, MAOA$\\text{\\textbar}$4128, STMN4$\\text{\\textbar}$81551, REEP2$\\text{\\textbar}$51308, LRRC2$\\text{\\textbar}$79442, CREB3L1$\\text{\\textbar}$90993, SYNPO2L$\\text{\\textbar}$79933, RHCE$\\text{\\textbar}$6006, FBXO15$\\text{\\textbar}$201456, NKD2$\\text{\\textbar}$85409, C17orf78$\\text{\\textbar}$284099, RIMS3$\\text{\\textbar}$9783, RHOU$\\text{\\textbar}$58480, PTGIS$\\text{\\textbar}$5740, EFHB$\\text{\\textbar}$151651, PKD1L3$\\text{\\textbar}$342372, TCF21$\\text{\\textbar}$6943, MUC21$\\text{\\textbar}$394263, KLRD1$\\text{\\textbar}$3824, SAA4$\\text{\\textbar}$6291, FABP3$\\text{\\textbar}$2170, LAMA3$\\text{\\textbar}$3909, SNTB1$\\text{\\textbar}$6641, LOX$\\text{\\textbar}$4015, SERHL2$\\text{\\textbar}$253190, ABCB5$\\text{\\textbar}$340273, ALPI$\\text{\\textbar}$248, ECHDC3$\\text{\\textbar}$79746, TBC1D3K$\\text{\\textbar}$101060351, RBFOX1$\\text{\\textbar}$54715, AC025165.3$\\text{\\textbar}$nan, CHI3L1$\\text{\\textbar}$1116, TRIM67$\\text{\\textbar}$440730, GPR143$\\text{\\textbar}$4935, DPCR1$\\text{\\textbar}$135656, ZNF773$\\text{\\textbar}$374928, BCL2L10$\\text{\\textbar}$10017, PRSS12$\\text{\\textbar}$8492, KHDRBS2$\\text{\\textbar}$202559, DPEP3$\\text{\\textbar}$64180, VWA5B2$\\text{\\textbar}$90113, SLC13A3$\\text{\\textbar}$64849, KRT10$\\text{\\textbar}$3858, LCN10$\\text{\\textbar}$414332, CTSH$\\text{\\textbar}$1512, HOXA5$\\text{\\textbar}$3202, CLTRN$\\text{\\textbar}$57393, FAM212A$\\text{\\textbar}$389119, ZKSCAN7$\\text{\\textbar}$55888, AGTR2$\\text{\\textbar}$186, PARD6B$\\text{\\textbar}$84612, PHYHIP$\\text{\\textbar}$9796, KLHL41$\\text{\\textbar}$10324, FAM131C$\\text{\\textbar}$348487, DOC2B$\\text{\\textbar}$8447, SLC28A3$\\text{\\textbar}$64078, PEX5L$\\text{\\textbar}$51555, UCN$\\text{\\textbar}$7349, MUC5B$\\text{\\textbar}$727897, RGS16$\\text{\\textbar}$6004, NMNAT2$\\text{\\textbar}$23057, MAGEC3$\\text{\\textbar}$139081, TRIM7$\\text{\\textbar}$81786, NMUR2$\\text{\\textbar}$56923, FOSB$\\text{\\textbar}$2354, ACKR2$\\text{\\textbar}$1238, SLC39A2$\\text{\\textbar}$29986, GHDC$\\text{\\textbar}$84514, PIPOX$\\text{\\textbar}$51268, CDK5R2$\\text{\\textbar}$8941, IL22RA1$\\text{\\textbar}$58985, ABHD14A-ACY1$\\text{\\textbar}$100526760, GJB6$\\text{\\textbar}$10804, TMEM105$\\text{\\textbar}$284186, AC069503.2$\\text{\\textbar}$nan, AMOT$\\text{\\textbar}$154796, FAM182B$\\text{\\textbar}$nan, CABCOCO1$\\text{\\textbar}$219621, UCHL1$\\text{\\textbar}$7345, RAMP1$\\text{\\textbar}$10267, MYO15A$\\text{\\textbar}$51168, ZSCAN1$\\text{\\textbar}$284312, RANBP17$\\text{\\textbar}$64901, WNT10B$\\text{\\textbar}$7480, P2RX3$\\text{\\textbar}$5024, KIAA1324$\\text{\\textbar}$57535, AL136531.2$\\text{\\textbar}$nan, MANSC4$\\text{\\textbar}$100287284, MRGPRX3$\\text{\\textbar}$117195, SLC6A16$\\text{\\textbar}$28968, NTRK1$\\text{\\textbar}$4914, MGARP$\\text{\\textbar}$84709, SMIM10L2B$\\text{\\textbar}$644596, GATD3A$\\text{\\textbar}$8209, GRIA3$\\text{\\textbar}$2892, DKKL1$\\text{\\textbar}$27120, UGT2B10$\\text{\\textbar}$7365, TRIM54$\\text{\\textbar}$57159, TEX30$\\text{\\textbar}$93081, EGF$\\text{\\textbar}$1950, ZNF154$\\text{\\textbar}$7710, SCN4A$\\text{\\textbar}$6329, ME1$\\text{\\textbar}$4199, GJB2$\\text{\\textbar}$2706, ERVMER34-1$\\text{\\textbar}$100288413, CES3$\\text{\\textbar}$23491, C2orf80$\\text{\\textbar}$389073, MSTN$\\text{\\textbar}$2660, C17orf47$\\text{\\textbar}$284083, UGT1A4$\\text{\\textbar}$54657, SORBS1$\\text{\\textbar}$10580, CAMK2A$\\text{\\textbar}$815, BRINP1$\\text{\\textbar}$1620, ZNF879$\\text{\\textbar}$345462, SPON2$\\text{\\textbar}$10417, NEIL3$\\text{\\textbar}$55247, CSRP2$\\text{\\textbar}$1466, GOLGA8S$\\text{\\textbar}$nan, SDR42E1$\\text{\\textbar}$93517, GPR157$\\text{\\textbar}$80045, NR4A3$\\text{\\textbar}$8013, TNFSF15$\\text{\\textbar}$9966, EPYC$\\text{\\textbar}$1833, TOX3$\\text{\\textbar}$27324, CHRM1$\\text{\\textbar}$1128, LEF1$\\text{\\textbar}$51176, TIFAB$\\text{\\textbar}$497189, S100A1$\\text{\\textbar}$6271, EPS8L3$\\text{\\textbar}$79574, ULBP2$\\text{\\textbar}$80328, CPA6$\\text{\\textbar}$57094, LRRC10B$\\text{\\textbar}$390205, CPEB1$\\text{\\textbar}$64506, AD000671.1$\\text{\\textbar}$nan, LHFPL3$\\text{\\textbar}$375612, RCOR2$\\text{\\textbar}$283248, TCEAL2$\\text{\\textbar}$140597, LMO1$\\text{\\textbar}$4004, HES2$\\text{\\textbar}$54626, FHDC1$\\text{\\textbar}$85462, PPP1R1A$\\text{\\textbar}$5502, BANK1$\\text{\\textbar}$55024, TMEM169$\\text{\\textbar}$92691, SCG5$\\text{\\textbar}$6447, ZNF214$\\text{\\textbar}$7761, PSTPIP2$\\text{\\textbar}$9050, JPH3$\\text{\\textbar}$57338, RNF208$\\text{\\textbar}$727800, LPO$\\text{\\textbar}$4025, IGFBP3$\\text{\\textbar}$3486, DMBT1$\\text{\\textbar}$1755, DCN$\\text{\\textbar}$1634, CBLN4$\\text{\\textbar}$140689, GSTO2$\\text{\\textbar}$119391, KRT80$\\text{\\textbar}$144501, IQCA1$\\text{\\textbar}$79781, CDRT1$\\text{\\textbar}$374286, CASQ2$\\text{\\textbar}$845, RAET1L$\\text{\\textbar}$154064, TEX45$\\text{\\textbar}$374877, CCDC36$\\text{\\textbar}$339834, RIMKLB$\\text{\\textbar}$57494, CTAGE1$\\text{\\textbar}$64693, TMEM145$\\text{\\textbar}$284339, SLC30A3$\\text{\\textbar}$7781, SYCE1L$\\text{\\textbar}$100130958, PIGZ$\\text{\\textbar}$80235, CTSG$\\text{\\textbar}$1511, S100A10$\\text{\\textbar}$6281, FLVCR2$\\text{\\textbar}$55640, CALML6$\\text{\\textbar}$163688, PRR5L$\\text{\\textbar}$79899, ABCB1$\\text{\\textbar}$5243, SOX2$\\text{\\textbar}$6657, RBP1$\\text{\\textbar}$5947, GPC2$\\text{\\textbar}$221914, S100A5$\\text{\\textbar}$6276, EPHA7$\\text{\\textbar}$2045, NKX2-8$\\text{\\textbar}$26257, WNT3A$\\text{\\textbar}$89780, ISM1$\\text{\\textbar}$140862, SEC14L4$\\text{\\textbar}$284904, PDXP$\\text{\\textbar}$57026, AC233992.2$\\text{\\textbar}$nan, RSAD2$\\text{\\textbar}$91543, RAB4B-EGLN2$\\text{\\textbar}$nan, CCL25$\\text{\\textbar}$6370, RBM14-RBM4$\\text{\\textbar}$100526737, MPL$\\text{\\textbar}$4352, SIGLEC11$\\text{\\textbar}$114132, PLA2G12B$\\text{\\textbar}$84647, NLRP1$\\text{\\textbar}$22861, FUT9$\\text{\\textbar}$10690, SYN1$\\text{\\textbar}$6853, B3GALNT1$\\text{\\textbar}$8706, PLPPR5$\\text{\\textbar}$163404, MTRNR2L2$\\text{\\textbar}$100462981, CTCFL$\\text{\\textbar}$140690, TULP2$\\text{\\textbar}$7288, IGFALS$\\text{\\textbar}$3483, STEAP1B$\\text{\\textbar}$256227, IL1RL2$\\text{\\textbar}$8808, ST8SIA5$\\text{\\textbar}$29906, KRT4$\\text{\\textbar}$3851, C1orf194$\\text{\\textbar}$127003, KIF12$\\text{\\textbar}$113220, GYS2$\\text{\\textbar}$2998, SH3RF2$\\text{\\textbar}$153769, HIST1H2BN$\\text{\\textbar}$8341, FGF6$\\text{\\textbar}$2251, SFRP5$\\text{\\textbar}$6425, CFI$\\text{\\textbar}$3426, TP73$\\text{\\textbar}$7161, FZD1$\\text{\\textbar}$8321, WIPF3$\\text{\\textbar}$644150, FHL1$\\text{\\textbar}$2273, MS4A5$\\text{\\textbar}$64232, MACC1$\\text{\\textbar}$346389, MTRNR2L10$\\text{\\textbar}$100463488, HYAL4$\\text{\\textbar}$23553, SMIM10L2A$\\text{\\textbar}$399668, YOD1$\\text{\\textbar}$55432, CLLU1OS$\\text{\\textbar}$574016, TCTEX1D4$\\text{\\textbar}$343521, PNOC$\\text{\\textbar}$5368, LOC105372240$\\text{\\textbar}$105372240, TOGARAM2$\\text{\\textbar}$165186, PLA2G1B$\\text{\\textbar}$5319, CHRFAM7A$\\text{\\textbar}$89832, CFAP100$\\text{\\textbar}$348807, ADGRB1$\\text{\\textbar}$575, ALDH8A1$\\text{\\textbar}$64577, KITLG$\\text{\\textbar}$4254, CNTNAP1$\\text{\\textbar}$8506, GDF6$\\text{\\textbar}$392255, ALOXE3$\\text{\\textbar}$59344, AC011005.1$\\text{\\textbar}$nan, DNTT$\\text{\\textbar}$1791, VWA3B$\\text{\\textbar}$200403, IGLL5$\\text{\\textbar}$100423062, CDKN2B$\\text{\\textbar}$1030, NKAIN4$\\text{\\textbar}$128414, FAM50B$\\text{\\textbar}$26240, STPG3$\\text{\\textbar}$441476, CEACAM21$\\text{\\textbar}$90273, RGS22$\\text{\\textbar}$26166, RCN3$\\text{\\textbar}$57333, ADA2$\\text{\\textbar}$51816, SMKR1$\\text{\\textbar}$100287482, ZNF558$\\text{\\textbar}$148156, ZNF440$\\text{\\textbar}$126070, SERPINA4$\\text{\\textbar}$5267, L3MBTL1$\\text{\\textbar}$26013, AC112229.3$\\text{\\textbar}$nan, MEI4$\\text{\\textbar}$101928601, DPEP2NB$\\text{\\textbar}$100131303, SLC16A11$\\text{\\textbar}$162515, PTGS1$\\text{\\textbar}$5742, DNALI1$\\text{\\textbar}$7802, OTUB2$\\text{\\textbar}$78990, MEF2B$\\text{\\textbar}$100271849, XIRP1$\\text{\\textbar}$165904, SSPO$\\text{\\textbar}$23145, CD55$\\text{\\textbar}$1604, CATSPER1$\\text{\\textbar}$117144, EPB41L4B$\\text{\\textbar}$54566, ZBTB7C$\\text{\\textbar}$201501, TNNI1$\\text{\\textbar}$7135, RINL$\\text{\\textbar}$126432, RAET1G$\\text{\\textbar}$353091, UGT2B11$\\text{\\textbar}$10720, RGCC$\\text{\\textbar}$28984, PCDHA2$\\text{\\textbar}$56146, CMYA5$\\text{\\textbar}$202333, AC120114.5$\\text{\\textbar}$nan, AR$\\text{\\textbar}$367, ACR$\\text{\\textbar}$49, ADAMTS4$\\text{\\textbar}$9507, C2orf92$\\text{\\textbar}$728537, XKR9$\\text{\\textbar}$389668, PRR29$\\text{\\textbar}$92340, PAPLN$\\text{\\textbar}$89932, CFAP161$\\text{\\textbar}$161502, KCNH4$\\text{\\textbar}$23415, HS3ST2$\\text{\\textbar}$9956, CALB2$\\text{\\textbar}$794, LOC101930059$\\text{\\textbar}$101930059, FAM3D$\\text{\\textbar}$131177, CD164L2$\\text{\\textbar}$388611, RAB9B$\\text{\\textbar}$51209, PLEKHD1$\\text{\\textbar}$400224, DGKI$\\text{\\textbar}$9162, NYX$\\text{\\textbar}$60506, TIGD4$\\text{\\textbar}$201798, LEXM$\\text{\\textbar}$163747, HMX2$\\text{\\textbar}$3167, FBLIM1$\\text{\\textbar}$54751, PLA2G2A$\\text{\\textbar}$5320, SPATA32$\\text{\\textbar}$124783, NEDD8-MDP1$\\text{\\textbar}$nan, HIST1H2BG$\\text{\\textbar}$8339, GOLGA7B$\\text{\\textbar}$401647, AVIL$\\text{\\textbar}$10677, AC137834.1$\\text{\\textbar}$nan, AADAC$\\text{\\textbar}$13, TSKU$\\text{\\textbar}$25987, PTGES$\\text{\\textbar}$9536, SESTD1$\\text{\\textbar}$91404, C1QTNF3-AMACR$\\text{\\textbar}$nan, TTLL13P$\\text{\\textbar}$440307, TMEM71$\\text{\\textbar}$137835, CRISPLD2$\\text{\\textbar}$83716, FXYD6$\\text{\\textbar}$53826, SCUBE3$\\text{\\textbar}$222663, RASSF10$\\text{\\textbar}$644943, SYNDIG1L$\\text{\\textbar}$646658, TRNP1$\\text{\\textbar}$388610, FNDC10$\\text{\\textbar}$643988, NDRG4$\\text{\\textbar}$65009, LHX6$\\text{\\textbar}$26468, HOXB7$\\text{\\textbar}$3217, SNAI1$\\text{\\textbar}$6615, ROS1$\\text{\\textbar}$6098, FAM83D$\\text{\\textbar}$81610, GRIK5$\\text{\\textbar}$2901, GJC3$\\text{\\textbar}$349149, GBX2$\\text{\\textbar}$2637, SLC9B1$\\text{\\textbar}$150159, PERP$\\text{\\textbar}$64065, FOXB1$\\text{\\textbar}$27023, SLC9A2$\\text{\\textbar}$6549, ROPN1L$\\text{\\textbar}$83853, SIRPA$\\text{\\textbar}$140885, CABS1$\\text{\\textbar}$85438, AMACR$\\text{\\textbar}$23600, ARG2$\\text{\\textbar}$384, SPEG$\\text{\\textbar}$10290, CCDC154$\\text{\\textbar}$645811, GRIA1$\\text{\\textbar}$2890, CLMP$\\text{\\textbar}$79827, NANOS3$\\text{\\textbar}$342977, GOLGA8T$\\text{\\textbar}$653075, ARHGEF33$\\text{\\textbar}$100271715, RHBDL1$\\text{\\textbar}$9028, HPR$\\text{\\textbar}$3250, CCDC42$\\text{\\textbar}$146849, ACSL4$\\text{\\textbar}$2182, HIST3H2BB$\\text{\\textbar}$128312, SLC2A9$\\text{\\textbar}$56606, TMC1$\\text{\\textbar}$117531, RYR2$\\text{\\textbar}$6262, LBH$\\text{\\textbar}$81606, MCOLN2$\\text{\\textbar}$255231, SLC25A43$\\text{\\textbar}$203427, C5orf46$\\text{\\textbar}$389336, MYH14$\\text{\\textbar}$79784, KRT23$\\text{\\textbar}$25984, FBLN5$\\text{\\textbar}$10516, SLITRK5$\\text{\\textbar}$26050, RUFY4$\\text{\\textbar}$285180, PALM$\\text{\\textbar}$5064, ZNF287$\\text{\\textbar}$57336, PCDHGB5$\\text{\\textbar}$56101, KRTCAP3$\\text{\\textbar}$200634, ACKR3$\\text{\\textbar}$57007, ZNF497$\\text{\\textbar}$162968, NFE2L3$\\text{\\textbar}$9603, XKR6$\\text{\\textbar}$286046, TSPAN5$\\text{\\textbar}$10098, PYROXD2$\\text{\\textbar}$84795, SLC17A2$\\text{\\textbar}$10246, KCNV1$\\text{\\textbar}$27012, MAOB$\\text{\\textbar}$4129, EVC2$\\text{\\textbar}$132884, CKMT1B$\\text{\\textbar}$1159, CCL7$\\text{\\textbar}$6354, SYNM$\\text{\\textbar}$23336, IGDCC4$\\text{\\textbar}$57722, NPIPA3$\\text{\\textbar}$642778, CELSR1$\\text{\\textbar}$9620, PTX3$\\text{\\textbar}$5806, CASC1$\\text{\\textbar}$55259, C11orf16$\\text{\\textbar}$56673, HSD17B13$\\text{\\textbar}$345275, PTGER1$\\text{\\textbar}$5731, PDIA2$\\text{\\textbar}$64714, RIC3$\\text{\\textbar}$79608, HIST1H2BC$\\text{\\textbar}$8347, CPB2$\\text{\\textbar}$1361, MAPK12$\\text{\\textbar}$6300, B4GALNT1$\\text{\\textbar}$2583, PNLDC1$\\text{\\textbar}$154197, CAMKV$\\text{\\textbar}$79012, SMIM2$\\text{\\textbar}$79024, STXBP5L$\\text{\\textbar}$9515, SYPL2$\\text{\\textbar}$284612, MED12L$\\text{\\textbar}$116931, VSIG1$\\text{\\textbar}$340547, TMEM154$\\text{\\textbar}$201799, ATP1A2$\\text{\\textbar}$477, ANP32D$\\text{\\textbar}$23519, GP1BA$\\text{\\textbar}$2811, CDH22$\\text{\\textbar}$64405, C1QTNF4$\\text{\\textbar}$114900, CDH26$\\text{\\textbar}$60437, WNT16$\\text{\\textbar}$51384, SPDYA$\\text{\\textbar}$245711, SULT4A1$\\text{\\textbar}$25830, PTPRU$\\text{\\textbar}$10076, TCEAL5$\\text{\\textbar}$340543, AK5$\\text{\\textbar}$26289, DHRS9$\\text{\\textbar}$10170, BOK$\\text{\\textbar}$666, PLCB4$\\text{\\textbar}$5332, ELOVL6$\\text{\\textbar}$79071, ZFP3$\\text{\\textbar}$124961, CLVS1$\\text{\\textbar}$157807, ST6GAL2$\\text{\\textbar}$84620, MLNR$\\text{\\textbar}$2862, AL355102.2$\\text{\\textbar}$nan, TFPI$\\text{\\textbar}$7035, LZTS3$\\text{\\textbar}$9762, ALPPL2$\\text{\\textbar}$251, RHPN2$\\text{\\textbar}$85415, PTPRZ1$\\text{\\textbar}$5803, CLDN10$\\text{\\textbar}$9071, SLC7A4$\\text{\\textbar}$6545, FOXN1$\\text{\\textbar}$8456, BARX2$\\text{\\textbar}$8538, ZNF648$\\text{\\textbar}$127665, ANO7$\\text{\\textbar}$50636, CNKSR2$\\text{\\textbar}$22866, LMO4$\\text{\\textbar}$8543, TMEM178B$\\text{\\textbar}$100507421, FOXP2$\\text{\\textbar}$93986, SPAG6$\\text{\\textbar}$9576, PSG6$\\text{\\textbar}$5675, SIK1B$\\text{\\textbar}$102724428, MLC1$\\text{\\textbar}$23209, KCNJ2$\\text{\\textbar}$3759, AKAP12$\\text{\\textbar}$9590, SLC2A14$\\text{\\textbar}$144195, WNT7A$\\text{\\textbar}$7476, TMEM132B$\\text{\\textbar}$114795, SOHLH1$\\text{\\textbar}$402381, MYT1$\\text{\\textbar}$4661, AMBP$\\text{\\textbar}$259, TMEM255A$\\text{\\textbar}$55026, CXorf58$\\text{\\textbar}$254158, GUCA1B$\\text{\\textbar}$2979, SPINK9$\\text{\\textbar}$643394, UBD$\\text{\\textbar}$10537, CCZ1$\\text{\\textbar}$51622, SLC22A1$\\text{\\textbar}$6580, SGK1$\\text{\\textbar}$6446, TGIF2-C20orf24$\\text{\\textbar}$100527943, SERP2$\\text{\\textbar}$387923, TRIM36$\\text{\\textbar}$55521, SCIN$\\text{\\textbar}$85477, CTSV$\\text{\\textbar}$1515, ADARB2$\\text{\\textbar}$105, TREH$\\text{\\textbar}$11181, GTF2H2$\\text{\\textbar}$2966, S100Z$\\text{\\textbar}$170591, SLCO1B1$\\text{\\textbar}$10599, DNAH11$\\text{\\textbar}$8701, C5orf67$\\text{\\textbar}$101928448, AC093525.1$\\text{\\textbar}$nan, SAA1$\\text{\\textbar}$6288, FSD2$\\text{\\textbar}$123722, OR10AD1$\\text{\\textbar}$121275, LRRN1$\\text{\\textbar}$57633, DSCAM$\\text{\\textbar}$1826, ATP6V1C2$\\text{\\textbar}$245973, CYP26B1$\\text{\\textbar}$56603, AKR1E2$\\text{\\textbar}$83592, TMEM240$\\text{\\textbar}$339453, FOXA1$\\text{\\textbar}$3169, REELD1$\\text{\\textbar}$345051, TAS2R5$\\text{\\textbar}$54429, CD19$\\text{\\textbar}$930, NPIPB2$\\text{\\textbar}$nan, LYG1$\\text{\\textbar}$129530, CHRNA5$\\text{\\textbar}$1138, CNTN3$\\text{\\textbar}$5067, OIT3$\\text{\\textbar}$170392, ESRRG$\\text{\\textbar}$2104, TMEM61$\\text{\\textbar}$199964, S1PR3$\\text{\\textbar}$1903, PAG1$\\text{\\textbar}$55824, FAM19A5$\\text{\\textbar}$25817, DDX11$\\text{\\textbar}$1663, TMEM98$\\text{\\textbar}$26022, PRDM8$\\text{\\textbar}$56978, TSLP$\\text{\\textbar}$85480, RHBDL3$\\text{\\textbar}$162494, RDM1$\\text{\\textbar}$201299, PRG2$\\text{\\textbar}$5553, HCRTR2$\\text{\\textbar}$3062, COL1A2$\\text{\\textbar}$1278, FOXC2$\\text{\\textbar}$2303, GSTT2B$\\text{\\textbar}$653689, ACOT11$\\text{\\textbar}$26027, EFNA2$\\text{\\textbar}$1943, CLDN15$\\text{\\textbar}$24146, KCNJ14$\\text{\\textbar}$3770, DKK2$\\text{\\textbar}$27123, CCDC110$\\text{\\textbar}$256309, TMSB4Y$\\text{\\textbar}$9087, CAPN9$\\text{\\textbar}$10753, SHANK1$\\text{\\textbar}$50944, FRMD5$\\text{\\textbar}$84978, C2orf74$\\text{\\textbar}$339804, C1GALT1C1L$\\text{\\textbar}$728819, COCH$\\text{\\textbar}$1690, BCAS1$\\text{\\textbar}$8537, UROC1$\\text{\\textbar}$131669, ZFP69$\\text{\\textbar}$339559, PARP8$\\text{\\textbar}$79668, OLIG2$\\text{\\textbar}$10215, HPSE2$\\text{\\textbar}$60495, CCR7$\\text{\\textbar}$1236, TGM2$\\text{\\textbar}$7052, THEM5$\\text{\\textbar}$284486, GNGT2$\\text{\\textbar}$2793, GLRA4$\\text{\\textbar}$441509, PPFIA4$\\text{\\textbar}$8497, CPS1$\\text{\\textbar}$1373, THSD1$\\text{\\textbar}$55901, C1orf189$\\text{\\textbar}$388701, PDLIM4$\\text{\\textbar}$8572, C6orf223$\\text{\\textbar}$221416, AL139260.3$\\text{\\textbar}$nan, ST8SIA2$\\text{\\textbar}$8128, TLCD1$\\text{\\textbar}$116238, PDLIM3$\\text{\\textbar}$27295, DBNDD1$\\text{\\textbar}$79007, BEND5$\\text{\\textbar}$79656, PIWIL2$\\text{\\textbar}$55124, HPSE$\\text{\\textbar}$10855, SMTNL1$\\text{\\textbar}$219537, SLC35E2B$\\text{\\textbar}$728661, SLC18A2$\\text{\\textbar}$6571, U2AF1L5$\\text{\\textbar}$102724594, CDC20B$\\text{\\textbar}$166979, DCX$\\text{\\textbar}$1641, BFSP1$\\text{\\textbar}$631, CYFIP2$\\text{\\textbar}$26999, DSG1$\\text{\\textbar}$1828, NRG1$\\text{\\textbar}$3084, OAT$\\text{\\textbar}$4942, MYRFL$\\text{\\textbar}$196446, SERTAD4$\\text{\\textbar}$56256, C16orf86$\\text{\\textbar}$388284, IL13RA1$\\text{\\textbar}$3597, SNAP25$\\text{\\textbar}$6616, COL9A1$\\text{\\textbar}$1297, TMEM200C$\\text{\\textbar}$645369, CXCL3$\\text{\\textbar}$2921, MBOAT4$\\text{\\textbar}$619373, TMEM253$\\text{\\textbar}$643382, STATH$\\text{\\textbar}$6779, FGFBP2$\\text{\\textbar}$83888, FAM72A$\\text{\\textbar}$729533, LPAR1$\\text{\\textbar}$1902, ST8SIA1$\\text{\\textbar}$6489, SCN5A$\\text{\\textbar}$6331, MGLL$\\text{\\textbar}$11343, LRP3$\\text{\\textbar}$4037, TLR3$\\text{\\textbar}$7098, USP18$\\text{\\textbar}$11274, CPA1$\\text{\\textbar}$1357, KCNS1$\\text{\\textbar}$3787, REN$\\text{\\textbar}$5972, CHAD$\\text{\\textbar}$1101, LOC101928718$\\text{\\textbar}$101928718, DMRT2$\\text{\\textbar}$10655, SLC25A34$\\text{\\textbar}$284723, PPBP$\\text{\\textbar}$5473, PRDM14$\\text{\\textbar}$63978, ST8SIA6$\\text{\\textbar}$338596, PNMA3$\\text{\\textbar}$29944, FAM43A$\\text{\\textbar}$131583, CFHR4$\\text{\\textbar}$10877, NUTM2B$\\text{\\textbar}$729262, KCNMB3$\\text{\\textbar}$27094, RHOBTB1$\\text{\\textbar}$9886, NCAM1$\\text{\\textbar}$4684, SCNN1D$\\text{\\textbar}$6339, CEACAM8$\\text{\\textbar}$1088, PDGFRL$\\text{\\textbar}$5157, CLPS$\\text{\\textbar}$1208, PITX3$\\text{\\textbar}$5309, TRPC4$\\text{\\textbar}$7223, MCOLN3$\\text{\\textbar}$55283, IFFO1$\\text{\\textbar}$25900, GPR156$\\text{\\textbar}$165829, UNC80$\\text{\\textbar}$285175, KCNJ13$\\text{\\textbar}$3769, EBLN2$\\text{\\textbar}$55096, MTRNR2L6$\\text{\\textbar}$100463482, ESM1$\\text{\\textbar}$11082, KIAA0513$\\text{\\textbar}$9764, BPIFB2$\\text{\\textbar}$80341, CYSLTR1$\\text{\\textbar}$10800, SCARA3$\\text{\\textbar}$51435, TAS2R10$\\text{\\textbar}$50839\\\\\n"
     ]
    }
   ],
   "source": [
    "latex_genes(selected_genes_ids)"
   ]
  },
  {
   "cell_type": "code",
   "execution_count": 9,
   "metadata": {},
   "outputs": [
    {
     "data": {
      "text/plain": [
       "{'LinearSVR': {'explained_variance_score': -0.1238235597619297,\n",
       "  'explained_variance_score_variance': 0.0007229149391792014,\n",
       "  'mean_absolute_error': 0.9016674216713342,\n",
       "  'mean_absolute_error_variance': 0.0004543440622828077,\n",
       "  'mean_squared_error': 1.2821934525914047,\n",
       "  'mean_squared_error_variance': 0.003044476771182819,\n",
       "  'mean_squared_log_error': 0.13362882472155682,\n",
       "  'mean_squared_log_error_variance': 0.00012037370860643363,\n",
       "  'median_absolute_error': 0.7616042958198078,\n",
       "  'median_absolute_error_variance': 0.0006784631376937634,\n",
       "  'r2_score': -0.1466850942024413,\n",
       "  'r2_score_variance': 0.002434971538966572},\n",
       " 'RandomForestRegressor': {'explained_variance_score': 0.2613184343627309,\n",
       "  'explained_variance_score_variance': 0.0001463524579444045,\n",
       "  'mean_absolute_error': 0.7503748604412608,\n",
       "  'mean_absolute_error_variance': 3.8820395158576275e-05,\n",
       "  'mean_squared_error': 0.8261350319887051,\n",
       "  'mean_squared_error_variance': 0.00018252978586239663,\n",
       "  'mean_squared_log_error': 0.07941430009740354,\n",
       "  'mean_squared_log_error_variance': 1.6226702961276123e-06,\n",
       "  'median_absolute_error': 0.7014697802197802,\n",
       "  'median_absolute_error_variance': 0.00012926144940224616,\n",
       "  'r2_score': 0.2611748835050514,\n",
       "  'r2_score_variance': 0.00014598726382002348}}"
      ]
     },
     "execution_count": 9,
     "metadata": {},
     "output_type": "execute_result"
    }
   ],
   "source": [
    "avg_per_class = compute_averages_per_classifier(output)\n",
    "avg_per_class"
   ]
  },
  {
   "cell_type": "code",
   "execution_count": 10,
   "metadata": {},
   "outputs": [
    {
     "name": "stdout",
     "output_type": "stream",
     "text": [
      "\\textbf{Framework configuration:}\\\\\n",
      "Data subset:\\\\\n",
      "Predict label: tumor\\_stage\\_float\\\\\n",
      "Split label: tumor\\_stage\\_float\\\\\n",
      "Train test split: 0.25\\\\\n",
      "Classifiers: LinearSVC and RandomForestClassifier\\\\\n",
      "Stop running: similarity $> 0.8$, for 10 consecutive runs\\\\\n",
      "Number of genes selected per algorithm: 250\\\\\n"
     ]
    }
   ],
   "source": [
    "print_latex_config(output)"
   ]
  },
  {
   "cell_type": "code",
   "execution_count": null,
   "metadata": {},
   "outputs": [],
   "source": []
  },
  {
   "cell_type": "code",
   "execution_count": 11,
   "metadata": {
    "scrolled": true
   },
   "outputs": [
    {
     "name": "stdout",
     "output_type": "stream",
     "text": [
      "\\textbf{Prediction metrics:}\\\\\n",
      "Average MAE: 0.8707 (0.0041)\\\\\n",
      "Average MSE: 1.1888 (0.0363)\\\\\n",
      "Average MSLE: 0.1225 (0.0006)\\\\\n",
      "Average MdAE: 0.7493 (0.0012)\\\\\n",
      "Average $r^2$: -0.0632 (0.0291)\\\\\n",
      "Average MSE LSVM: 1.2822 (0.003)\\\\\n",
      "Average MdAE LSVM: 0.7616 (0.0007)\\\\\n",
      "Average $r^2$ LSVM: -0.1467 (0.0024)\\\\\n",
      "Average MSE RandomForestRegressor: 0.8261 (0.0002)\\\\\n",
      "Average MdAE RandomForestRegressor: 0.7015 (0.0001)\\\\\n",
      "Average $r^2$ RandomForestRegressor: 0.2612 (0.0001)\\\\\n"
     ]
    }
   ],
   "source": [
    "print_latex_prediction_metrics(output)"
   ]
  },
  {
   "cell_type": "code",
   "execution_count": null,
   "metadata": {},
   "outputs": [],
   "source": []
  },
  {
   "cell_type": "code",
   "execution_count": 12,
   "metadata": {},
   "outputs": [],
   "source": []
  },
  {
   "cell_type": "code",
   "execution_count": 22,
   "metadata": {},
   "outputs": [
    {
     "name": "stdout",
     "output_type": "stream",
     "text": [
      "Reading data\n",
      "Predicting and evaluating RandomForestRegressor\n",
      "Predicting and evaluating RandomForestRegressor\n",
      "Predicting and evaluating RandomForestRegressor\n",
      "Predicting and evaluating RandomForestRegressor\n",
      "Predicting and evaluating RandomForestRegressor\n",
      "Predicting and evaluating RandomForestRegressor\n",
      "Predicting and evaluating RandomForestRegressor\n",
      "Predicting and evaluating RandomForestRegressor\n",
      "Predicting and evaluating RandomForestRegressor\n",
      "Predicting and evaluating RandomForestRegressor\n",
      "Predicting and evaluating LinearSVR\n",
      "Predicting and evaluating LinearSVR\n",
      "Predicting and evaluating LinearSVR\n",
      "Predicting and evaluating LinearSVR\n",
      "Predicting and evaluating LinearSVR\n",
      "Predicting and evaluating LinearSVR\n",
      "Predicting and evaluating LinearSVR\n",
      "Predicting and evaluating LinearSVR\n",
      "Predicting and evaluating LinearSVR\n",
      "Predicting and evaluating LinearSVR\n",
      "We have 1972 selected genes as a result, doing the same prediction again but only with these genes we get the following accuracies averaged over 10 folds:\n",
      "RandomForestRegressor: 0.2897 (0.0000)\n",
      "LinearSVR: -0.0465 (0.0392)\n"
     ]
    },
    {
     "data": {
      "text/plain": [
       "{'LinearSVR': [-0.11065190778928913,\n",
       "  0.04217160323083602,\n",
       "  0.08596071857021803,\n",
       "  -0.19418255017598396,\n",
       "  0.0699412547441498,\n",
       "  0.05689436205136689,\n",
       "  0.02797747619669333,\n",
       "  0.08575902912492228,\n",
       "  -0.579241989747056,\n",
       "  0.05000722105188027],\n",
       " 'LinearSVR_avr': -0.046536478274226245,\n",
       " 'RandomForestRegressor': [0.28322965892961194,\n",
       "  0.2915916300053477,\n",
       "  0.29601228677042557,\n",
       "  0.2844045372737978,\n",
       "  0.292364409545525,\n",
       "  0.28695772299670874,\n",
       "  0.2856831018719632,\n",
       "  0.2899987492439533,\n",
       "  0.2932345594403668,\n",
       "  0.29320853482191955],\n",
       " 'RandomForestRegressor_avr': 0.289668519089962}"
      ]
     },
     "execution_count": 22,
     "metadata": {},
     "output_type": "execute_result"
    }
   ],
   "source": [
    "gene_predictive_accuracy(output, selected_genes_ids, latex=True)"
   ]
  },
  {
   "cell_type": "code",
   "execution_count": 31,
   "metadata": {},
   "outputs": [
    {
     "name": "stdout",
     "output_type": "stream",
     "text": [
      "These are the top 50 genes in order of importance:\\\\\n",
      "CNGB1$\\text{\\textbar}$1258, ARHGEF38$\\text{\\textbar}$54848, TH$\\text{\\textbar}$7054, GFRA3$\\text{\\textbar}$2676, WISP2$\\text{\\textbar}$8839, MYL1$\\text{\\textbar}$4632, DRP2$\\text{\\textbar}$1821, GLIS1$\\text{\\textbar}$148979, WBP2NL$\\text{\\textbar}$164684, CNTN2$\\text{\\textbar}$6900, CLEC9A$\\text{\\textbar}$283420, SHOX2$\\text{\\textbar}$6474, FAM83A$\\text{\\textbar}$84985, NRSN1$\\text{\\textbar}$140767, RTL4$\\text{\\textbar}$340595, DEGS2$\\text{\\textbar}$123099, CPA5$\\text{\\textbar}$93979, NAPSA$\\text{\\textbar}$9476, SERPIND1$\\text{\\textbar}$3053, FAM19A3$\\text{\\textbar}$284467, GRB14$\\text{\\textbar}$2888, CNMD$\\text{\\textbar}$11061, AP001931.1$\\text{\\textbar}$nan, CHGB$\\text{\\textbar}$1114, ACTN2$\\text{\\textbar}$88, IDO2$\\text{\\textbar}$169355, ESPN$\\text{\\textbar}$83715, IGFN1$\\text{\\textbar}$91156, ANKRD66$\\text{\\textbar}$100287718, NSG2$\\text{\\textbar}$51617, MAB21L1$\\text{\\textbar}$4081, COL12A1$\\text{\\textbar}$1303, SYNE4$\\text{\\textbar}$163183, UTF1$\\text{\\textbar}$8433, ARC$\\text{\\textbar}$23237, NPIPB5$\\text{\\textbar}$100132247, SFN$\\text{\\textbar}$2810, MAP3K19$\\text{\\textbar}$80122, STC1$\\text{\\textbar}$6781, DNAI2$\\text{\\textbar}$64446, SLC17A7$\\text{\\textbar}$57030, PRR32$\\text{\\textbar}$100130613, DPP4$\\text{\\textbar}$1803, SLFNL1$\\text{\\textbar}$200172, NKX3-2$\\text{\\textbar}$579, DNAJC22$\\text{\\textbar}$79962, CLEC12B$\\text{\\textbar}$387837, LIPG$\\text{\\textbar}$9388, TMEM158$\\text{\\textbar}$25907, MFAP2$\\text{\\textbar}$4237\\\\\n"
     ]
    }
   ],
   "source": [
    "latex_genes(selected_genes_ids[:50])"
   ]
  },
  {
   "cell_type": "code",
   "execution_count": 7,
   "metadata": {},
   "outputs": [],
   "source": [
    "selected_genes_data, selected_genes_ids, sample_to_label = get_dendro_data(predict_label, selected_genes_ids)\n",
    "\n",
    "heatmap, legend, color_scale = get_dendro_heatmap(selected_genes_data, selected_genes_ids, sample_to_label, color_option=1, nb_genes_used=50)\n",
    "histogram = get_expression_hist(selected_genes_data, decimals=2, drop_zero=True, log=False, color_scale=color_scale)"
   ]
  },
  {
   "cell_type": "code",
   "execution_count": 8,
   "metadata": {},
   "outputs": [],
   "source": [
    "#iplot(heatmap)"
   ]
  },
  {
   "cell_type": "code",
   "execution_count": 9,
   "metadata": {},
   "outputs": [],
   "source": [
    "#iplot(histogram)"
   ]
  },
  {
   "cell_type": "code",
   "execution_count": 11,
   "metadata": {},
   "outputs": [
    {
     "name": "stdout",
     "output_type": "stream",
     "text": [
      "Succeeded in saving T_regressor_TS_hist.png\n",
      "The dendro-heatmap can be found in figure \\ref{fig:heat-TS}. The top 50 most enriched pathways can be found in table \\ref{tab:pw-TS}.\n",
      "\n",
      "\\begin{figure}[H]\n",
      "\\centering\n",
      "\\includegraphics[height=5cm]{T_regressor_TS_heat.png}\n",
      "\\caption{Dendro-heatmap for the top genes}\n",
      "\\label{fig:heat-TS}\n",
      "\\end{figure}\n"
     ]
    }
   ],
   "source": [
    "\n",
    "\n",
    "latex_heatmap(heatmap, histogram, theNotebook)"
   ]
  },
  {
   "cell_type": "code",
   "execution_count": 27,
   "metadata": {},
   "outputs": [
    {
     "data": {
      "image/png": "[encoded data removed]",
      "text/plain": [
       "<Figure size 72x18 with 1 Axes>"
      ]
     },
     "execution_count": 27,
     "metadata": {},
     "output_type": "execute_result"
    }
   ],
   "source": [
    "path = '../plots/figures/'\n",
    "leg_name = '{}_legend.png'.format(theNotebook)\n",
    "legend.savefig(os.path.join(path, leg_name)) \n",
    "legend"
   ]
  },
  {
   "cell_type": "code",
   "execution_count": 30,
   "metadata": {},
   "outputs": [
    {
     "name": "stdout",
     "output_type": "stream",
     "text": [
      "querying 1-50...done. [ from cache ]\n",
      "querying 0/245\n",
      "querying 50/245\n",
      "querying 100/245\n",
      "querying 150/245\n",
      "querying 200/245\n",
      "collected the 50 most enriched pathways\n",
      "The top 50 most enriched pathways based on these genes are:\\\\\n",
      "\\begin{tabular}{llr}\n",
      "\\toprule\n",
      "{} &                                               name &   p\\_value \\\\\n",
      "\\midrule\n",
      "0  &           p38 signaling mediated by MAPKAP kinases &  0.001185 \\\\\n",
      "1  &                        Striated Muscle Contraction &  0.003285 \\\\\n",
      "2  &                        Striated Muscle Contraction &  0.003864 \\\\\n",
      "3  &      Aromatic L-Aminoacid Decarboxylase Deficiency &  0.009707 \\\\\n",
      "4  &                    Tyrosine hydroxylase deficiency &  0.009707 \\\\\n",
      "5  &                         Catecholamine Biosynthesis &  0.009707 \\\\\n",
      "6  &                         catecholamine biosynthesis &  0.009707 \\\\\n",
      "7  &                         Catecholamine biosynthesis &  0.009707 \\\\\n",
      "8  &       Amphetamine addiction - Homo sapiens (human) &  0.011952 \\\\\n",
      "9  &                                 NrCAM interactions &  0.016926 \\\\\n",
      "10 &  tryptophan degradation to 2-amino-3-carboxymuc... &  0.016926 \\\\\n",
      "11 &              NCAM signaling for neurite out-growth &  0.018480 \\\\\n",
      "12 &               ceramide <i>de novo</i> biosynthesis &  0.019321 \\\\\n",
      "13 &  Protein digestion and absorption - Homo sapien... &  0.020313 \\\\\n",
      "14 &                             tryptophan degradation &  0.021710 \\\\\n",
      "15 &                         Organic anion transporters &  0.024093 \\\\\n",
      "16 &        Activation of the phototransduction cascade &  0.026471 \\\\\n",
      "17 &  Sympathetic Nerve Pathway (Pre- and Post- Gang... &  0.028843 \\\\\n",
      "18 &  Chk1/Chk2(Cds1) mediated inactivation of Cycli... &  0.028843 \\\\\n",
      "19 &                           L-kynurenine degradation &  0.031210 \\\\\n",
      "20 &   TP53 Regulates Transcription of Cell Cycle Genes &  0.031210 \\\\\n",
      "21 &                                Dopamine metabolism &  0.031210 \\\\\n",
      "22 &                    NAD <i>de novo</i> biosynthesis &  0.031210 \\\\\n",
      "23 &                              Tryptophan catabolism &  0.031210 \\\\\n",
      "24 &               Serotonin and anxiety-related events &  0.031210 \\\\\n",
      "25 &                        triacylglycerol degradation &  0.033571 \\\\\n",
      "26 &                           Biogenic Amine Synthesis &  0.035926 \\\\\n",
      "27 &  Activation of BAD and translocation to mitocho... &  0.035926 \\\\\n",
      "28 &  estrogen responsive protein efp controls cell ... &  0.038276 \\\\\n",
      "29 &  CREB phosphorylation through the activation of... &  0.040619 \\\\\n",
      "30 &  Unblocking of NMDA receptor, glutamate binding... &  0.040619 \\\\\n",
      "31 &                              Serotonin and anxiety &  0.040619 \\\\\n",
      "32 &                         Digestion of dietary lipid &  0.040619 \\\\\n",
      "33 &                                     Tie2 Signaling &  0.042958 \\\\\n",
      "34 &                             Amine-derived hormones &  0.042958 \\\\\n",
      "35 &                ucalpain and friends in cell spread &  0.042958 \\\\\n",
      "36 &  Ras activation uopn Ca2+ infux through NMDA re... &  0.045291 \\\\\n",
      "37 &  TP53 Regulates Transcription of Genes Involved... &  0.045291 \\\\\n",
      "38 &          Nicotine Activity on Dopaminergic Neurons &  0.049939 \\\\\n",
      "\\bottomrule\n",
      "\\end{tabular}\n",
      "\n"
     ]
    }
   ],
   "source": [
    "pw_latex(selected_genes_ids)"
   ]
  },
  {
   "cell_type": "code",
   "execution_count": null,
   "metadata": {},
   "outputs": [],
   "source": []
  },
  {
   "cell_type": "code",
   "execution_count": null,
   "metadata": {},
   "outputs": [],
   "source": []
  },
  {
   "cell_type": "code",
   "execution_count": null,
   "metadata": {},
   "outputs": [],
   "source": []
  },
  {
   "cell_type": "code",
   "execution_count": null,
   "metadata": {},
   "outputs": [],
   "source": []
  }
 ],
 "metadata": {
  "kernelspec": {
   "display_name": "Python 3",
   "language": "python",
   "name": "python3"
  },
  "language_info": {
   "codemirror_mode": {
    "name": "ipython",
    "version": 3
   },
   "file_extension": ".py",
   "mimetype": "text/x-python",
   "name": "python",
   "nbconvert_exporter": "python",
   "pygments_lexer": "ipython3",
   "version": "3.6.4"
  }
 },
 "nbformat": 4,
 "nbformat_minor": 2
}
