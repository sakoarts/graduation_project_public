{
 "cells": [
  {
   "cell_type": "code",
   "execution_count": 1,
   "metadata": {},
   "outputs": [],
   "source": [
    "import sys, os\n",
    "import numpy as np\n",
    "import pandas as pd\n",
    "\n",
    "sys.path.append('../')\n",
    "from tools.mongo_analysis_tools import *"
   ]
  },
  {
   "cell_type": "code",
   "execution_count": 2,
   "metadata": {},
   "outputs": [
    {
     "data": {
      "application/javascript": [
       "IPython.OutputArea.prototype._should_scroll = function(lines) {\n",
       "    return false;\n",
       "}"
      ],
      "text/plain": [
       "<IPython.core.display.Javascript object>"
      ]
     },
     "metadata": {},
     "output_type": "display_data"
    }
   ],
   "source": [
    "%%javascript\n",
    "IPython.OutputArea.prototype._should_scroll = function(lines) {\n",
    "    return false;\n",
    "}"
   ]
  },
  {
   "cell_type": "code",
   "execution_count": 3,
   "metadata": {},
   "outputs": [
    {
     "name": "stdout",
     "output_type": "stream",
     "text": [
      "All these experiments belong to experiment: PCA_RF\n"
     ]
    }
   ],
   "source": [
    "output = collect_run_output(3384, 3510, 'PCA_RF', verbose=1)"
   ]
  },
  {
   "cell_type": "code",
   "execution_count": 5,
   "metadata": {},
   "outputs": [
    {
     "data": {
      "text/plain": [
       "['100 &    0.9202 (0.0) &    0.7495 (0.0) &    0.7304 (0.0) &    -27821.8746 (122.3628) &    -27711.7184 (184.7521) &    11 \\\\\\\\',\n",
       " '1000 &    0.9089 (0.0) &    0.4558 (0.0) &    0.3293 (0.0) &    -23294.3828 (440.7775) &    -21971.2909 (291.3614) &    13 \\\\\\\\',\n",
       " '1500 &    0.9032 (0.0) &    0.4042 (0.0) &    0.2483 (0.0) &    -22350.9821 (820.9033) &    -20347.9898 (217.5464) &    11 \\\\\\\\',\n",
       " '2500 &    0.8961 (0.0) &    0.3317 (0.0) &    0.144 (0.0) &    -21126.1154 (2868.0442) &    -17497.3303 (478.5371) &    11 \\\\\\\\',\n",
       " '5000 &    0.8818 (0.0) &    0.2113 (0.0) &    0.0326 (0.0) &    -21006.298 (5073.4589) &    -11118.7796 (238.8744) &    11 \\\\\\\\',\n",
       " '7500 &    0.8651 (0.0004) &    0.1828 (0.0088) &    0.0418 (0.0065) &    -28733.5187 (12268262.2941) &    -7182.1355 (34845292.7535) &    10 \\\\\\\\',\n",
       " '500 &    0.9148 (0.0) &    0.5294 (0.0) &    0.4538 (0.0) &    -24633.7656 (196.1301) &    -24004.849 (208.254) &    10 \\\\\\\\']"
      ]
     },
     "execution_count": 5,
     "metadata": {},
     "output_type": "execute_result"
    }
   ],
   "source": [
    "tab"
   ]
  },
  {
   "cell_type": "code",
   "execution_count": 6,
   "metadata": {},
   "outputs": [
    {
     "name": "stdout",
     "output_type": "stream",
     "text": [
      "RUNNING\n",
      "Experiment 3494 skipped since it failed\n",
      "RUNNING\n",
      "Experiment 3497 skipped since it failed\n",
      "\n",
      "\\begin{table}[]\n",
      "\\centering\n",
      "\\caption{PCA scores for diffrent dimensions}\n",
      "\\label{tab:pca_scores}\n",
      "\\begin{tabular}{lllll}\n",
      "index &    RF\\_subtype\\_accuracy (var) &    mse\\_test (var) &    mse\\_train (var) &    folds \\\\\n",
      "100 &    0.9202 (0.0) &    0.7495 (0.0) &    0.7304 (0.0) &    11 \\\\\n",
      "500 &    0.9148 (0.0) &    0.5294 (0.0) &    0.4538 (0.0) &    10 \\\\\n",
      "1000 &    0.9089 (0.0) &    0.4558 (0.0) &    0.3293 (0.0) &    13 \\\\\n",
      "1500 &    0.9032 (0.0) &    0.4042 (0.0) &    0.2483 (0.0) &    11 \\\\\n",
      "2500 &    0.8961 (0.0) &    0.3317 (0.0) &    0.144 (0.0) &    11 \\\\\n",
      "5000 &    0.8818 (0.0) &    0.2113 (0.0) &    0.0326 (0.0) &    11 \\\\\n",
      "7500 &    0.8651 (0.0004) &    0.1828 (0.0088) &    0.0418 (0.0065) &    10 \\\\\n",
      "\\end{tabular}\n",
      "\\end{table}\n"
     ]
    }
   ],
   "source": [
    "tab = make_latex_table(get_results_config(output, 'n_components', drop_labels=['test_score', 'train_score']), table=True)\n",
    "print_latex_table(tab, 'PCA scores for diffrent dimensions', 'tab:pca_scores', sort_int=True)"
   ]
  },
  {
   "cell_type": "code",
   "execution_count": null,
   "metadata": {},
   "outputs": [],
   "source": [
    "\n",
    "\n"
   ]
  },
  {
   "cell_type": "code",
   "execution_count": 15,
   "metadata": {},
   "outputs": [],
   "source": [
    "#get_results_config(output, 'n_components', drop_labels=['test_score_samples', 'train_score_samples'])"
   ]
  },
  {
   "cell_type": "code",
   "execution_count": 4,
   "metadata": {},
   "outputs": [
    {
     "name": "stdout",
     "output_type": "stream",
     "text": [
      "RUNNING\n",
      "Experiment 3494 skipped since it failed\n",
      "RUNNING\n",
      "Experiment 3497 skipped since it failed\n",
      "n_components: 100\n",
      "support: 11\n",
      "RF_subtype_accuracy: 0.9202207257762814\n",
      "RF_subtype_accuracy_variance: 6.506168376356318e-06\n",
      "mse_test: 0.7495123447365704\n",
      "mse_test_variance: 9.739677409273103e-06\n",
      "mse_train: 0.7303572477725847\n",
      "mse_train_variance: 1.020077792011597e-06\n",
      "test_score: -27821.874636934244\n",
      "test_score_variance: 122.3627590893369\n",
      "train_score: -27711.71839175302\n",
      "train_score_variance: 184.75209167031687\n",
      "\n",
      "\n",
      "n_components: 1000\n",
      "support: 13\n",
      "RF_subtype_accuracy: 0.9088582884879182\n",
      "RF_subtype_accuracy_variance: 1.6485545290175608e-05\n",
      "mse_test: 0.4558055520099763\n",
      "mse_test_variance: 5.330330703185416e-06\n",
      "mse_train: 0.3293216288713649\n",
      "mse_train_variance: 3.335023716048242e-07\n",
      "test_score: -23294.38278534572\n",
      "test_score_variance: 440.7775270899914\n",
      "train_score: -21971.29091122141\n",
      "train_score_variance: 291.361447806304\n",
      "\n",
      "\n",
      "n_components: 1500\n",
      "support: 11\n",
      "RF_subtype_accuracy: 0.9031986531986533\n",
      "RF_subtype_accuracy_variance: 9.175116443502164e-06\n",
      "mse_test: 0.4042454260905219\n",
      "mse_test_variance: 4.792881784029732e-06\n",
      "mse_train: 0.248307165619263\n",
      "mse_train_variance: 1.3484370194658593e-07\n",
      "test_score: -22350.982105865507\n",
      "test_score_variance: 820.9032577808288\n",
      "train_score: -20347.989824265765\n",
      "train_score_variance: 217.5464335124684\n",
      "\n",
      "\n",
      "n_components: 2500\n",
      "support: 11\n",
      "RF_subtype_accuracy: 0.8960905349794239\n",
      "RF_subtype_accuracy_variance: 1.2637167796442263e-05\n",
      "mse_test: 0.3317186488153612\n",
      "mse_test_variance: 6.043131038244734e-06\n",
      "mse_train: 0.14399278321752454\n",
      "mse_train_variance: 1.0376491036949828e-07\n",
      "test_score: -21126.115409786642\n",
      "test_score_variance: 2868.044160699841\n",
      "train_score: -17497.330292501298\n",
      "train_score_variance: 478.53710660923167\n",
      "\n",
      "\n",
      "n_components: 5000\n",
      "support: 11\n",
      "RF_subtype_accuracy: 0.8818119466267614\n",
      "RF_subtype_accuracy_variance: 8.024339126859476e-06\n",
      "mse_test: 0.2112866988885129\n",
      "mse_test_variance: 1.008516880353626e-06\n",
      "mse_train: 0.03255916001658313\n",
      "mse_train_variance: 3.002421908974881e-09\n",
      "test_score: -21006.29803085234\n",
      "test_score_variance: 5073.458861040827\n",
      "train_score: -11118.779589052765\n",
      "train_score_variance: 238.8744442787705\n",
      "\n",
      "\n",
      "n_components: 7500\n",
      "support: 10\n",
      "RF_subtype_accuracy: 0.8651234567901234\n",
      "RF_subtype_accuracy_variance: 0.0003850392141366585\n",
      "mse_test: 0.18276318699624589\n",
      "mse_test_variance: 0.008828918218436248\n",
      "mse_train: 0.04180647137013445\n",
      "mse_train_variance: 0.0065127733012317795\n",
      "test_score: -28733.51873710879\n",
      "test_score_variance: 12268262.294060897\n",
      "train_score: -7182.135463806306\n",
      "train_score_variance: 34845292.75351123\n",
      "\n",
      "\n",
      "n_components: 500\n",
      "support: 10\n",
      "RF_subtype_accuracy: 0.9147805212620028\n",
      "RF_subtype_accuracy_variance: 5.392179000114807e-06\n",
      "mse_test: 0.5294125683035772\n",
      "mse_test_variance: 5.208342204886664e-06\n",
      "mse_train: 0.45375562978474704\n",
      "mse_train_variance: 4.505407212222023e-07\n",
      "test_score: -24633.76556491619\n",
      "test_score_variance: 196.13011328488247\n",
      "train_score: -24004.849035092964\n",
      "train_score_variance: 208.25397459823634\n",
      "\n",
      "\n"
     ]
    }
   ],
   "source": [
    "print_avg_config(output, 'n_components')"
   ]
  },
  {
   "cell_type": "code",
   "execution_count": null,
   "metadata": {},
   "outputs": [],
   "source": []
  },
  {
   "cell_type": "code",
   "execution_count": 7,
   "metadata": {},
   "outputs": [
    {
     "data": {
      "text/plain": [
       "{'RF_subtype_accuracy': 0.9047470590680468,\n",
       " 'RF_subtype_accuracy_variance': 0.00015435826696454108,\n",
       " 'mse_test': 0.4515066392216792,\n",
       " 'mse_test_variance': 0.026549460729428275,\n",
       " 'mse_train': 0.32733824615497736,\n",
       " 'mse_train_variance': 0.048499627044555044,\n",
       " 'test_score': -23392.2473336281,\n",
       " 'test_score_variance': 5379963.330300466,\n",
       " 'train_score': -20671.115280333095,\n",
       " 'train_score_variance': 24585373.977514975}"
      ]
     },
     "execution_count": 7,
     "metadata": {},
     "output_type": "execute_result"
    }
   ],
   "source": [
    "compute_averages(output, plot=False)"
   ]
  },
  {
   "cell_type": "code",
   "execution_count": null,
   "metadata": {},
   "outputs": [],
   "source": []
  },
  {
   "cell_type": "code",
   "execution_count": null,
   "metadata": {},
   "outputs": [],
   "source": []
  }
 ],
 "metadata": {
  "kernelspec": {
   "display_name": "Python 3",
   "language": "python",
   "name": "python3"
  },
  "language_info": {
   "codemirror_mode": {
    "name": "ipython",
    "version": 3
   },
   "file_extension": ".py",
   "mimetype": "text/x-python",
   "name": "python",
   "nbconvert_exporter": "python",
   "pygments_lexer": "ipython3",
   "version": "3.6.4"
  }
 },
 "nbformat": 4,
 "nbformat_minor": 2
}
