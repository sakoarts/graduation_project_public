{
 "cells": [
  {
   "cell_type": "code",
   "execution_count": 1,
   "metadata": {},
   "outputs": [],
   "source": [
    "import sys, os\n",
    "import numpy as np\n",
    "import pandas as pd\n",
    "\n",
    "sys.path.append('../')\n",
    "from tools.mongo_analysis_tools import *"
   ]
  },
  {
   "cell_type": "code",
   "execution_count": 2,
   "metadata": {},
   "outputs": [
    {
     "data": {
      "application/javascript": [
       "IPython.OutputArea.prototype._should_scroll = function(lines) {\n",
       "    return false;\n",
       "}"
      ],
      "text/plain": [
       "<IPython.core.display.Javascript object>"
      ]
     },
     "metadata": {},
     "output_type": "display_data"
    }
   ],
   "source": [
    "%%javascript\n",
    "IPython.OutputArea.prototype._should_scroll = function(lines) {\n",
    "    return false;\n",
    "}"
   ]
  },
  {
   "cell_type": "code",
   "execution_count": 9,
   "metadata": {},
   "outputs": [
    {
     "name": "stdout",
     "output_type": "stream",
     "text": [
      "Run 3391 did not finish\n",
      "Run 3393 did not finish\n",
      "Run 3394 did not finish\n",
      "Run 3395 did not finish\n",
      "Run 3399 did not finish\n",
      "Run 3404 did not finish\n",
      "Run 3410 skipped since experiment name does not match set parameter: PCA_RF\n",
      "All these experiments belong to experiment: TCGA_deep_autoencoder_RF\n",
      "WARNING: there are multiple experiments present in given range\n",
      "It is advised to set the experiment_name parameter to filter just one\n",
      "(array([], dtype=float64), array([], dtype=int64))\n",
      "WARNING: there are multiple experiments present in given range\n",
      "It is advised to set the experiment_name parameter to filter just one\n",
      "(array([], dtype=float64), array([], dtype=int64))\n"
     ]
    }
   ],
   "source": [
    "output_deep = collect_run_output(3390, 3511, 'TCGA_deep_autoencoder_RF', verbose=10)\n",
    "output_denoising = collect_run_output(3390, 3511, 'TCGA_denoising_AE_RF', verbose=1)\n",
    "output_sparse = collect_run_output(3390, 3511, 'TCGA_sparse_AE_RF', verbose=1)"
   ]
  },
  {
   "cell_type": "code",
   "execution_count": 13,
   "metadata": {},
   "outputs": [
    {
     "name": "stdout",
     "output_type": "stream",
     "text": [
      "3397\n"
     ]
    },
    {
     "data": {
      "text/plain": [
       "{'batch_size': 32,\n",
       " 'data_fname': 'exp_TCGA_coded_normalized.hdf5',\n",
       " 'data_path': '../data/normalized/exp_TCGA_coded_normalized.hdf5',\n",
       " 'dataset_name': 'TCGA',\n",
       " 'datasubset_name': '_coded',\n",
       " 'encoding_dim': 1500,\n",
       " 'genes_to_select': None,\n",
       " 'label_options': ['tumor',\n",
       "  'project',\n",
       "  'primary_site',\n",
       "  'subtype_tumor',\n",
       "  'site_tumor',\n",
       "  'tumor_stage',\n",
       "  'bmi_category',\n",
       "  'tumor_stage_float'],\n",
       " 'label_path': '../data/TCGA/exp_TCGA_coded_labels_add.csv',\n",
       " 'layers': [5000],\n",
       " 'nb_epoch': 200,\n",
       " 'nb_val_samples': 8,\n",
       " 'predict_label': 'subtype_tumor',\n",
       " 'samples_per_epoch': 8,\n",
       " 'seed': 991264052,\n",
       " 'split_label': 'subtype_tumor',\n",
       " 'subset_label': 'subtype_tumor',\n",
       " 'subset_query': 'All',\n",
       " 'subset_query_options': ['All', ['Kidney'], ['Eye']],\n",
       " 'tt_split': 0.25}"
      ]
     },
     "execution_count": 13,
     "metadata": {},
     "output_type": "execute_result"
    }
   ],
   "source": [
    "print(output_deep[3]['_id'])\n",
    "output_deep[3]['config']"
   ]
  },
  {
   "cell_type": "code",
   "execution_count": 5,
   "metadata": {},
   "outputs": [
    {
     "name": "stdout",
     "output_type": "stream",
     "text": [
      "\n",
      "\\begin{table}[]\n",
      "\\centering\n",
      "\\caption{Autoencoder scores for diffrent dimensions}\n",
      "\\label{tab:ae_scores}\n",
      "\\begin{tabular}{lllllll}\n",
      "index &    RF\\_subtype\\_accuracy (var) &    acc (var) &    loss (var) &    val\\_acc (var) &    val\\_loss (var) &    folds \\\\\n",
      "100 &    0.5253 (0.0026) &    0.0545 (0.0) &    -95.1981 (0.1381) &    0.0546 (0.0) &    -95.036 (0.0836) &    3 \\\\\n",
      "250 &    0.6626 (0.0) &    0.048 (0.0) &    -95.0993 (0.0) &    0.0485 (0.0) &    -95.2386 (0.0) &    1 \\\\\n",
      "500 &    0.6667 (0.0) &    0.0466 (0.0) &    -94.9112 (0.0) &    0.0469 (0.0) &    -95.2987 (0.0) &    1 \\\\\n",
      "750 &    0.6879 (0.0) &    0.0479 (0.0) &    -95.1709 (0.0) &    0.048 (0.0) &    -94.8388 (0.0) &    1 \\\\\n",
      "1000 &    0.6857 (0.0095) &    0.0494 (0.0) &    -95.3658 (0.0167) &    0.0494 (0.0) &    -95.3116 (0.0002) &    2 \\\\\n",
      "1500 &    0.6998 (0.0077) &    0.0483 (0.0) &    -95.3232 (0.0005) &    0.0485 (0.0) &    -95.3193 (0.0188) &    2 \\\\\n",
      "2500 &    0.7212 (0.0072) &    0.0465 (0.0) &    -95.1558 (0.012) &    0.0466 (0.0) &    -95.2259 (0.0123) &    2 \\\\\n",
      "5000 &    0.8189 (0.0) &    0.0509 (0.0) &    -95.3023 (0.0) &    0.0507 (0.0) &    -95.4721 (0.0) &    1 \\\\\n",
      "7500 &    0.6626 (0.0) &    0.0526 (0.0) &    -95.185 (0.0) &    0.0528 (0.0) &    -95.2271 (0.0) &    1 \\\\\n",
      "\\end{tabular}\n",
      "\\end{table}\n"
     ]
    }
   ],
   "source": [
    "tab = make_latex_table(get_results_config(output_deep, 'encoding_dim'), table=True)\n",
    "print_latex_table(tab, 'Autoencoder scores for diffrent dimensions', 'tab:ae_scores', sort_int=True)"
   ]
  },
  {
   "cell_type": "code",
   "execution_count": 4,
   "metadata": {},
   "outputs": [
    {
     "name": "stdout",
     "output_type": "stream",
     "text": [
      "\n",
      "\\begin{table}[]\n",
      "\\centering\n",
      "\\caption{PCA scores for diffrent dimensions}\n",
      "\\label{tab:pca_scores}\n",
      "\\begin{tabular}{lllllll}\n",
      "index &    RF\\_subtype\\_accuracy (var) &    acc (var) &    loss (var) &    val\\_acc (var) &    val\\_loss (var) &    folds \\\\\n",
      "100 &    0.3927 (0.0884) &    0.0264 (0.0007) &    nan (nan) &    0.0265 (0.0007) &    nan (nan) &    2 \\\\\n",
      "500 &    0.0953 (0.0) &    0.0 (0.0) &    nan (nan) &    0.0 (0.0) &    nan (nan) &    2 \\\\\n",
      "1000 &    0.0953 (0.0) &    0.0 (0.0) &    nan (nan) &    0.0 (0.0) &    nan (nan) &    2 \\\\\n",
      "1500 &    0.0953 (0.0) &    0.0367 (0.0013) &    nan (nan) &    0.0365 (0.0013) &    nan (nan) &    2 \\\\\n",
      "2500 &    0.0953 (0.0) &    0.0731 (0.0) &    nan (nan) &    0.0728 (0.0) &    nan (nan) &    2 \\\\\n",
      "5000 &    0.0953 (0.0) &    0.0724 (0.0) &    nan (nan) &    0.0721 (0.0) &    nan (nan) &    2 \\\\\n",
      "7500 &    0.0953 (0.0) &    0.0717 (0.0) &    nan (nan) &    0.0712 (0.0) &    nan (nan) &    2 \\\\\n",
      "\\end{tabular}\n",
      "\\end{table}\n"
     ]
    }
   ],
   "source": [
    "tab = make_latex_table(get_results_config(output_denoising, 'encoding_dim'), table=True)\n",
    "print_latex_table(tab, 'PCA scores for diffrent dimensions', 'tab:pca_scores', sort_int=True)"
   ]
  },
  {
   "cell_type": "code",
   "execution_count": 6,
   "metadata": {},
   "outputs": [
    {
     "name": "stdout",
     "output_type": "stream",
     "text": [
      "\n",
      "\\begin{table}[]\n",
      "\\centering\n",
      "\\caption{PCA scores for diffrent dimensions}\n",
      "\\label{tab:pca_scores}\n",
      "\\begin{tabular}{lllllll}\n",
      "index &    RF\\_subtype\\_accuracy (var) &    acc (var) &    loss (var) &    val\\_acc (var) &    val\\_loss (var) &    folds \\\\\n",
      "100 &    0.0953 (0.0) &    0.0535 (0.0) &    -9.2762 (0.0) &    0.0532 (0.0) &    -9.3146 (0.0) &    1 \\\\\n",
      "500 &    0.0953 (0.0) &    0.0529 (0.0) &    -9.2171 (0.0) &    0.0532 (0.0) &    -9.2844 (0.0) &    1 \\\\\n",
      "1000 &    0.0953 (0.0) &    0.0532 (0.0) &    -9.2699 (0.0) &    0.0537 (0.0) &    -9.2539 (0.0) &    1 \\\\\n",
      "1500 &    0.0953 (0.0) &    0.0529 (0.0) &    -9.263 (0.0) &    0.0532 (0.0) &    -9.262 (0.0) &    1 \\\\\n",
      "2500 &    0.0953 (0.0) &    0.0531 (0.0) &    -9.2717 (0.0) &    0.0534 (0.0) &    -9.2515 (0.0) &    1 \\\\\n",
      "5000 &    0.0953 (0.0) &    0.0527 (0.0) &    -9.243 (0.0) &    0.0531 (0.0) &    -9.2672 (0.0) &    1 \\\\\n",
      "\\end{tabular}\n",
      "\\end{table}\n"
     ]
    }
   ],
   "source": [
    "tab = make_latex_table(get_results_config(output_sparse, 'encoding_dim'), table=True)\n",
    "print_latex_table(tab, 'PCA scores for diffrent dimensions', 'tab:pca_scores', sort_int=True)"
   ]
  },
  {
   "cell_type": "code",
   "execution_count": 7,
   "metadata": {},
   "outputs": [
    {
     "name": "stdout",
     "output_type": "stream",
     "text": [
      "{'RF_subtype_accuracy': 0.6899862825788752, 'acc': 0.05272245593369007, 'loss': -95.44385719299316, 'val_acc': 0.05302519863471389, 'val_loss': -95.35140037536621}\n",
      "\n",
      "{'RF_subtype_accuracy': 0.0953360768175583, 'acc': 0.0, 'loss': nan, 'val_acc': 0.0, 'val_loss': nan}\n",
      "\n",
      "{'RF_subtype_accuracy': 0.0953360768175583, 'acc': 0.0, 'loss': nan, 'val_acc': 0.0, 'val_loss': nan}\n",
      "\n",
      "{'RF_subtype_accuracy': 0.0953360768175583, 'acc': 0.0, 'loss': nan, 'val_acc': 0.0, 'val_loss': nan}\n",
      "\n",
      "{'RF_subtype_accuracy': 0.0953360768175583, 'acc': 0.0, 'loss': nan, 'val_acc': 0.0, 'val_loss': nan}\n",
      "\n",
      "{'RF_subtype_accuracy': 0.0953360768175583, 'acc': 0.07303619384765625, 'loss': nan, 'val_acc': 0.072723388671875, 'val_loss': nan}\n",
      "\n",
      "{'RF_subtype_accuracy': 0.0953360768175583, 'acc': 0.0720977783203125, 'loss': nan, 'val_acc': 0.072113037109375, 'val_loss': nan}\n",
      "\n",
      "{'RF_subtype_accuracy': 0.0953360768175583, 'acc': 0.07157135009765625, 'loss': nan, 'val_acc': 0.07120513916015625, 'val_loss': nan}\n",
      "\n",
      "{'RF_subtype_accuracy': 0.0953360768175583, 'acc': 0.0, 'loss': nan, 'val_acc': 0.0, 'val_loss': nan}\n",
      "\n",
      "{'RF_subtype_accuracy': 0.0953360768175583, 'acc': 0.0, 'loss': nan, 'val_acc': 0.0, 'val_loss': nan}\n",
      "\n",
      "{'RF_subtype_accuracy': 0.0953360768175583, 'acc': 0.07334136962890625, 'loss': nan, 'val_acc': 0.0729522705078125, 'val_loss': nan}\n",
      "\n",
      "{'RF_subtype_accuracy': 0.0953360768175583, 'acc': 0.07314300537109375, 'loss': nan, 'val_acc': 0.07285308837890625, 'val_loss': nan}\n",
      "\n",
      "{'RF_subtype_accuracy': 0.0953360768175583, 'acc': 0.0727996826171875, 'loss': nan, 'val_acc': 0.07218170166015625, 'val_loss': nan}\n",
      "\n",
      "{'RF_subtype_accuracy': 0.0953360768175583, 'acc': 0.0718841552734375, 'loss': nan, 'val_acc': 0.071197509765625, 'val_loss': nan}\n",
      "\n"
     ]
    }
   ],
   "source": [
    "for o in output_denoising:\n",
    "    print(o['result'])\n",
    "    print()"
   ]
  },
  {
   "cell_type": "code",
   "execution_count": null,
   "metadata": {},
   "outputs": [],
   "source": []
  },
  {
   "cell_type": "code",
   "execution_count": 12,
   "metadata": {},
   "outputs": [
    {
     "name": "stdout",
     "output_type": "stream",
     "text": [
      "encoding_dim: 100\n",
      "support: 1\n",
      "RF_subtype_accuracy: 0.0953360768175583\n",
      "RF_subtype_accuracy_variance: 0.0\n",
      "acc: 0.05353791359812021\n",
      "acc_variance: 0.0\n",
      "loss: -9.276165008544922\n",
      "loss_variance: 0.0\n",
      "val_acc: 0.05322166346013546\n",
      "val_acc_variance: 0.0\n",
      "val_loss: -9.314552664756775\n",
      "val_loss_variance: 0.0\n",
      "\n",
      "\n",
      "encoding_dim: 500\n",
      "support: 1\n",
      "RF_subtype_accuracy: 0.0953360768175583\n",
      "RF_subtype_accuracy_variance: 0.0\n",
      "acc: 0.05292348889634013\n",
      "acc_variance: 0.0\n",
      "loss: -9.217097043991089\n",
      "loss_variance: 0.0\n",
      "val_acc: 0.053210738115012646\n",
      "val_acc_variance: 0.0\n",
      "val_loss: -9.284403085708618\n",
      "val_loss_variance: 0.0\n",
      "\n",
      "\n",
      "encoding_dim: 1000\n",
      "support: 1\n",
      "RF_subtype_accuracy: 0.0953360768175583\n",
      "RF_subtype_accuracy_variance: 0.0\n",
      "acc: 0.05319663276895881\n",
      "acc_variance: 0.0\n",
      "loss: -9.269946217536926\n",
      "loss_variance: 0.0\n",
      "val_acc: 0.053695641458034515\n",
      "val_acc_variance: 0.0\n",
      "val_loss: -9.253889799118042\n",
      "val_loss_variance: 0.0\n",
      "\n",
      "\n",
      "encoding_dim: 1500\n",
      "support: 1\n",
      "RF_subtype_accuracy: 0.0953360768175583\n",
      "RF_subtype_accuracy_variance: 0.0\n",
      "acc: 0.05285614635795355\n",
      "acc_variance: 0.0\n",
      "loss: -9.262956857681274\n",
      "loss_variance: 0.0\n",
      "val_acc: 0.05319186579436064\n",
      "val_acc_variance: 0.0\n",
      "val_loss: -9.262022018432617\n",
      "val_loss_variance: 0.0\n",
      "\n",
      "\n",
      "encoding_dim: 2500\n",
      "support: 1\n",
      "RF_subtype_accuracy: 0.0953360768175583\n",
      "RF_subtype_accuracy_variance: 0.0\n",
      "acc: 0.053128496278077364\n",
      "acc_variance: 0.0\n",
      "loss: -9.271690726280212\n",
      "loss_variance: 0.0\n",
      "val_acc: 0.053434614557772875\n",
      "val_acc_variance: 0.0\n",
      "val_loss: -9.251526713371277\n",
      "val_loss_variance: 0.0\n",
      "\n",
      "\n",
      "encoding_dim: 5000\n",
      "support: 1\n",
      "RF_subtype_accuracy: 0.0953360768175583\n",
      "RF_subtype_accuracy_variance: 0.0\n",
      "acc: 0.05274232104420662\n",
      "acc_variance: 0.0\n",
      "loss: -9.243024706840515\n",
      "loss_variance: 0.0\n",
      "val_acc: 0.05309691093862057\n",
      "val_acc_variance: 0.0\n",
      "val_loss: -9.267208456993103\n",
      "val_loss_variance: 0.0\n",
      "\n",
      "\n"
     ]
    }
   ],
   "source": [
    "print_avg_config(output_sparse, 'encoding_dim')"
   ]
  },
  {
   "cell_type": "code",
   "execution_count": 13,
   "metadata": {},
   "outputs": [
    {
     "name": "stdout",
     "output_type": "stream",
     "text": [
      "encoding_dim: 100\n",
      "support: 2\n",
      "RF_subtype_accuracy: 0.39266117969821673\n",
      "RF_subtype_accuracy_variance: 0.08840221680299412\n",
      "acc: 0.026361227966845036\n",
      "acc_variance: 0.0006949143399199728\n",
      "loss: nan\n",
      "loss_variance: nan\n",
      "val_acc: 0.026512599317356944\n",
      "val_acc_variance: 0.0007029179225627158\n",
      "val_loss: nan\n",
      "val_loss_variance: nan\n",
      "\n",
      "\n",
      "encoding_dim: 500\n",
      "support: 2\n",
      "RF_subtype_accuracy: 0.0953360768175583\n",
      "RF_subtype_accuracy_variance: 0.0\n",
      "acc: 0.0\n",
      "acc_variance: 0.0\n",
      "loss: nan\n",
      "loss_variance: nan\n",
      "val_acc: 0.0\n",
      "val_acc_variance: 0.0\n",
      "val_loss: nan\n",
      "val_loss_variance: nan\n",
      "\n",
      "\n",
      "encoding_dim: 1000\n",
      "support: 2\n",
      "RF_subtype_accuracy: 0.0953360768175583\n",
      "RF_subtype_accuracy_variance: 0.0\n",
      "acc: 0.0\n",
      "acc_variance: 0.0\n",
      "loss: nan\n",
      "loss_variance: nan\n",
      "val_acc: 0.0\n",
      "val_acc_variance: 0.0\n",
      "val_loss: nan\n",
      "val_loss_variance: nan\n",
      "\n",
      "\n",
      "encoding_dim: 1500\n",
      "support: 2\n",
      "RF_subtype_accuracy: 0.0953360768175583\n",
      "RF_subtype_accuracy_variance: 0.0\n",
      "acc: 0.036670684814453125\n",
      "acc_variance: 0.001344739124760963\n",
      "loss: nan\n",
      "loss_variance: nan\n",
      "val_acc: 0.03647613525390625\n",
      "val_acc_variance: 0.0013305084430612624\n",
      "val_loss: nan\n",
      "val_loss_variance: nan\n",
      "\n",
      "\n",
      "encoding_dim: 2500\n",
      "support: 2\n",
      "RF_subtype_accuracy: 0.0953360768175583\n",
      "RF_subtype_accuracy_variance: 0.0\n",
      "acc: 0.073089599609375\n",
      "acc_variance: 2.852175384759903e-09\n",
      "loss: nan\n",
      "loss_variance: nan\n",
      "val_acc: 0.07278823852539062\n",
      "val_acc_variance: 4.20550350099802e-09\n",
      "val_loss: nan\n",
      "val_loss_variance: nan\n",
      "\n",
      "\n",
      "encoding_dim: 5000\n",
      "support: 2\n",
      "RF_subtype_accuracy: 0.0953360768175583\n",
      "RF_subtype_accuracy_variance: 0.0\n",
      "acc: 0.07244873046875\n",
      "acc_variance: 1.2316741049289703e-07\n",
      "loss: nan\n",
      "loss_variance: nan\n",
      "val_acc: 0.07214736938476562\n",
      "val_acc_variance: 1.178705133497715e-09\n",
      "val_loss: nan\n",
      "val_loss_variance: nan\n",
      "\n",
      "\n",
      "encoding_dim: 7500\n",
      "support: 2\n",
      "RF_subtype_accuracy: 0.0953360768175583\n",
      "RF_subtype_accuracy_variance: 0.0\n",
      "acc: 0.07172775268554688\n",
      "acc_variance: 2.4461769498884678e-08\n",
      "loss: nan\n",
      "loss_variance: nan\n",
      "val_acc: 0.07120132446289062\n",
      "val_acc_variance: 1.4551915228366852e-11\n",
      "val_loss: nan\n",
      "val_loss_variance: nan\n",
      "\n",
      "\n"
     ]
    }
   ],
   "source": [
    "print_avg_config(output_denoising, 'encoding_dim')"
   ]
  },
  {
   "cell_type": "code",
   "execution_count": 14,
   "metadata": {},
   "outputs": [
    {
     "name": "stdout",
     "output_type": "stream",
     "text": [
      "encoding_dim: 100\n",
      "support: 3\n",
      "RF_subtype_accuracy: 0.5252629172382258\n",
      "RF_subtype_accuracy_variance: 0.0026451143630661198\n",
      "acc: 0.05445110658183694\n",
      "acc_variance: 7.752025919176864e-06\n",
      "loss: -95.19807211558025\n",
      "loss_variance: 0.1380889231248956\n",
      "val_acc: 0.054556788255771003\n",
      "val_acc_variance: 7.80773556142057e-06\n",
      "val_loss: -95.03599675496419\n",
      "val_loss_variance: 0.08364899911026037\n",
      "\n",
      "\n",
      "encoding_dim: 1000\n",
      "support: 2\n",
      "RF_subtype_accuracy: 0.6856995884773662\n",
      "RF_subtype_accuracy_variance: 0.009518960006849297\n",
      "acc: 0.049449005629867315\n",
      "acc_variance: 1.2933632165474176e-08\n",
      "loss: -95.36578750610352\n",
      "loss_variance: 0.01670150790596381\n",
      "val_acc: 0.04939377959817648\n",
      "val_acc_variance: 5.314549676119912e-08\n",
      "val_loss: -95.31161403656006\n",
      "val_loss_variance: 0.00017003087941702688\n",
      "\n",
      "\n",
      "encoding_dim: 1500\n",
      "support: 2\n",
      "RF_subtype_accuracy: 0.6997599451303156\n",
      "RF_subtype_accuracy_variance: 0.007737482853223595\n",
      "acc: 0.04831382050178945\n",
      "acc_variance: 6.95417206830973e-06\n",
      "loss: -95.32321166992188\n",
      "loss_variance: 0.0004562665744742844\n",
      "val_acc: 0.04851733706891537\n",
      "val_acc_variance: 5.511895658670421e-06\n",
      "val_loss: -95.31933546066284\n",
      "val_loss_variance: 0.01882380671327155\n",
      "\n",
      "\n",
      "encoding_dim: 2500\n",
      "support: 2\n",
      "RF_subtype_accuracy: 0.7211934156378601\n",
      "RF_subtype_accuracy_variance: 0.007174949806281411\n",
      "acc: 0.0464545579161495\n",
      "acc_variance: 6.810853515715079e-06\n",
      "loss: -95.15575933456421\n",
      "loss_variance: 0.012023988693044885\n",
      "val_acc: 0.046552292769774795\n",
      "val_acc_variance: 6.640850133483227e-06\n",
      "val_loss: -95.22590780258179\n",
      "val_loss_variance: 0.012306515284080888\n",
      "\n",
      "\n",
      "encoding_dim: 5000\n",
      "support: 1\n",
      "RF_subtype_accuracy: 0.8189300411522634\n",
      "RF_subtype_accuracy_variance: 0.0\n",
      "acc: 0.0509453359991312\n",
      "acc_variance: 0.0\n",
      "loss: -95.30232429504395\n",
      "loss_variance: 0.0\n",
      "val_acc: 0.05074370466172695\n",
      "val_acc_variance: 0.0\n",
      "val_loss: -95.4720687866211\n",
      "val_loss_variance: 0.0\n",
      "\n",
      "\n",
      "encoding_dim: 250\n",
      "support: 1\n",
      "RF_subtype_accuracy: 0.6625514403292181\n",
      "RF_subtype_accuracy_variance: 0.0\n",
      "acc: 0.04799677571281791\n",
      "acc_variance: 0.0\n",
      "loss: -95.0992546081543\n",
      "loss_variance: 0.0\n",
      "val_acc: 0.048458436504006386\n",
      "val_acc_variance: 0.0\n",
      "val_loss: -95.23857498168945\n",
      "val_loss_variance: 0.0\n",
      "\n",
      "\n",
      "encoding_dim: 500\n",
      "support: 1\n",
      "RF_subtype_accuracy: 0.6666666666666666\n",
      "RF_subtype_accuracy_variance: 0.0\n",
      "acc: 0.046612583100795746\n",
      "acc_variance: 0.0\n",
      "loss: -94.91120910644531\n",
      "loss_variance: 0.0\n",
      "val_acc: 0.04687182093039155\n",
      "val_acc_variance: 0.0\n",
      "val_loss: -95.29870223999023\n",
      "val_loss_variance: 0.0\n",
      "\n",
      "\n",
      "encoding_dim: 750\n",
      "support: 1\n",
      "RF_subtype_accuracy: 0.6879286694101509\n",
      "RF_subtype_accuracy_variance: 0.0\n",
      "acc: 0.04790897248312831\n",
      "acc_variance: 0.0\n",
      "loss: -95.17091178894043\n",
      "loss_variance: 0.0\n",
      "val_acc: 0.0479594306088984\n",
      "val_acc_variance: 0.0\n",
      "val_loss: -94.83882808685303\n",
      "val_loss_variance: 0.0\n",
      "\n",
      "\n",
      "encoding_dim: 7500\n",
      "support: 1\n",
      "RF_subtype_accuracy: 0.6625514403292181\n",
      "RF_subtype_accuracy_variance: 0.0\n",
      "acc: 0.052561549469828606\n",
      "acc_variance: 0.0\n",
      "loss: -95.1849775314331\n",
      "loss_variance: 0.0\n",
      "val_acc: 0.05284760519862175\n",
      "val_acc_variance: 0.0\n",
      "val_loss: -95.22708511352539\n",
      "val_loss_variance: 0.0\n",
      "\n",
      "\n"
     ]
    }
   ],
   "source": [
    "print_avg_config(output_deep, 'encoding_dim')"
   ]
  },
  {
   "cell_type": "code",
   "execution_count": null,
   "metadata": {},
   "outputs": [],
   "source": []
  },
  {
   "cell_type": "code",
   "execution_count": 5,
   "metadata": {},
   "outputs": [
    {
     "data": {
      "text/plain": [
       "{'RF_subtype_accuracy': 0.6634087791495199,\n",
       " 'RF_subtype_accuracy_variance': 0.010654702934366853,\n",
       " 'acc': 0.04984380747191608,\n",
       " 'acc_variance': 1.2046893154051385e-05,\n",
       " 'loss': -95.21088647842407,\n",
       " 'loss_variance': 0.04752298591480602,\n",
       " 'val_acc': 0.049962727253192236,\n",
       " 'val_acc_variance': 1.171437502783766e-05,\n",
       " 'val_loss': -95.20692600522723,\n",
       " 'val_loss_variance': 0.04748124156758515}"
      ]
     },
     "execution_count": 5,
     "metadata": {},
     "output_type": "execute_result"
    }
   ],
   "source": [
    "compute_averages(output, plot=False)"
   ]
  },
  {
   "cell_type": "code",
   "execution_count": null,
   "metadata": {},
   "outputs": [],
   "source": []
  },
  {
   "cell_type": "code",
   "execution_count": null,
   "metadata": {},
   "outputs": [],
   "source": []
  }
 ],
 "metadata": {
  "kernelspec": {
   "display_name": "Python 3",
   "language": "python",
   "name": "python3"
  },
  "language_info": {
   "codemirror_mode": {
    "name": "ipython",
    "version": 3
   },
   "file_extension": ".py",
   "mimetype": "text/x-python",
   "name": "python",
   "nbconvert_exporter": "python",
   "pygments_lexer": "ipython3",
   "version": "3.6.4"
  }
 },
 "nbformat": 4,
 "nbformat_minor": 2
}
