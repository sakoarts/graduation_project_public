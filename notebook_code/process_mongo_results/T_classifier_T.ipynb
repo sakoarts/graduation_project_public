{
 "cells": [
  {
   "cell_type": "code",
   "execution_count": 1,
   "metadata": {},
   "outputs": [
    {
     "data": {
      "text/html": [
       "<script>requirejs.config({paths: { 'plotly': ['https://cdn.plot.ly/plotly-latest.min']},});if(!window.Plotly) {{require(['plotly'],function(plotly) {window.Plotly=plotly;});}}</script>"
      ],
      "text/vnd.plotly.v1+html": [
       "<script>requirejs.config({paths: { 'plotly': ['https://cdn.plot.ly/plotly-latest.min']},});if(!window.Plotly) {{require(['plotly'],function(plotly) {window.Plotly=plotly;});}}</script>"
      ]
     },
     "metadata": {},
     "output_type": "display_data"
    }
   ],
   "source": [
    "import sys, os\n",
    "import numpy as np\n",
    "import pandas as pd\n",
    "\n",
    "sys.path.append('../')\n",
    "from tools.mongo_analysis_tools import *\n",
    "from tools.plots import get_dendro_heatmap, get_expression_hist\n",
    "from tools.get_predictive_power import gene_predictive_accuracy\n",
    "\n",
    "\n",
    "#import plotly\n",
    "from plotly.offline import iplot, init_notebook_mode\n",
    "init_notebook_mode(connected=True) # run at the start of every ipython notebook"
   ]
  },
  {
   "cell_type": "code",
   "execution_count": 2,
   "metadata": {},
   "outputs": [
    {
     "data": {
      "application/javascript": [
       "IPython.OutputArea.prototype._should_scroll = function(lines) {\n",
       "    return false;\n",
       "}\n",
       "var kernel = IPython.notebook.kernel;\n",
       "var thename = window.document.getElementById(\"notebook_name\").innerHTML;\n",
       "var command = \"theNotebook = \" + \"'\"+thename+\"'\";\n",
       "kernel.execute(command);"
      ],
      "text/plain": [
       "<IPython.core.display.Javascript object>"
      ]
     },
     "metadata": {},
     "output_type": "display_data"
    }
   ],
   "source": [
    "%%javascript\n",
    "IPython.OutputArea.prototype._should_scroll = function(lines) {\n",
    "    return false;\n",
    "}\n",
    "var kernel = IPython.notebook.kernel;\n",
    "var thename = window.document.getElementById(\"notebook_name\").innerHTML;\n",
    "var command = \"theNotebook = \" + \"'\"+thename+\"'\";\n",
    "kernel.execute(command);"
   ]
  },
  {
   "cell_type": "code",
   "execution_count": 3,
   "metadata": {},
   "outputs": [
    {
     "name": "stdout",
     "output_type": "stream",
     "text": [
      "All these experiments belong to experiment: PAN_CANCER_classifier_T\n"
     ]
    }
   ],
   "source": [
    "output = collect_run_output(7624, 15000, 'PAN_CANCER_classifier_T', verbose=1)"
   ]
  },
  {
   "cell_type": "code",
   "execution_count": 4,
   "metadata": {},
   "outputs": [
    {
     "data": {
      "text/html": [
       "<div>\n",
       "<style scoped>\n",
       "    .dataframe tbody tr th:only-of-type {\n",
       "        vertical-align: middle;\n",
       "    }\n",
       "\n",
       "    .dataframe tbody tr th {\n",
       "        vertical-align: top;\n",
       "    }\n",
       "\n",
       "    .dataframe thead th {\n",
       "        text-align: right;\n",
       "    }\n",
       "</style>\n",
       "<table border=\"1\" class=\"dataframe\">\n",
       "  <thead>\n",
       "    <tr style=\"text-align: right;\">\n",
       "      <th></th>\n",
       "      <th>id</th>\n",
       "      <th>#runs</th>\n",
       "    </tr>\n",
       "    <tr>\n",
       "      <th>name</th>\n",
       "      <th></th>\n",
       "      <th></th>\n",
       "    </tr>\n",
       "  </thead>\n",
       "  <tbody>\n",
       "    <tr>\n",
       "      <th>LinearSVC</th>\n",
       "      <td>[7631, 7638, 7643, 7648, 7654, 7658, 7665, 767...</td>\n",
       "      <td>636</td>\n",
       "    </tr>\n",
       "    <tr>\n",
       "      <th>RandomForestClassifier</th>\n",
       "      <td>[7624, 7625, 7627, 7628, 7629, 7630, 7632, 763...</td>\n",
       "      <td>2946</td>\n",
       "    </tr>\n",
       "  </tbody>\n",
       "</table>\n",
       "</div>"
      ],
      "text/plain": [
       "                                                                       id  \\\n",
       "name                                                                        \n",
       "LinearSVC               [7631, 7638, 7643, 7648, 7654, 7658, 7665, 767...   \n",
       "RandomForestClassifier  [7624, 7625, 7627, 7628, 7629, 7630, 7632, 763...   \n",
       "\n",
       "                        #runs  \n",
       "name                           \n",
       "LinearSVC                 636  \n",
       "RandomForestClassifier   2946  "
      ]
     },
     "execution_count": 4,
     "metadata": {},
     "output_type": "execute_result"
    }
   ],
   "source": [
    "runs_per_classifier(output)"
   ]
  },
  {
   "cell_type": "code",
   "execution_count": 5,
   "metadata": {},
   "outputs": [
    {
     "name": "stdout",
     "output_type": "stream",
     "text": [
      "For the label tumor we have 11572 samples and 2 different labels. The classes and their support are as follows:\\\\\n",
      "False: 741, True: 10831\n"
     ]
    }
   ],
   "source": [
    "predict_label = output[0]['config']['predict_label']\n",
    "data_latex(predict_label)"
   ]
  },
  {
   "cell_type": "code",
   "execution_count": 6,
   "metadata": {},
   "outputs": [
    {
     "name": "stdout",
     "output_type": "stream",
     "text": [
      "\\textbf{Gene analysis:}\\\\\n",
      "The models selected have the following number of genes:\\\\\n",
      "RandomForestClassifier: 7955\\\\\n",
      "LinearSVC: 1541\\\\\n",
      "Intersection: 652\\\\\n"
     ]
    },
    {
     "data": {
      "text/plain": [
       "{'LinearSVC': [0.9227233398226258,\n",
       "  0.9138979017953708,\n",
       "  0.803396063162449,\n",
       "  0.8778931429807485,\n",
       "  0.8854315379623624,\n",
       "  0.7956629894008229,\n",
       "  0.9127298291152928,\n",
       "  0.917261518494484,\n",
       "  0.8254921046939229,\n",
       "  0.7633463119186686],\n",
       " 'RandomForestClassifier': [0.4008573345072088,\n",
       "  0.8189598792604587,\n",
       "  0.8231333584874008,\n",
       "  0.34262635152123816,\n",
       "  0.7724038219763651,\n",
       "  0.7082558042075109,\n",
       "  0.7083773363506902,\n",
       "  0.6885508339619644,\n",
       "  0.7162183113345864,\n",
       "  0.8120175989943281]}"
      ]
     },
     "execution_count": 6,
     "metadata": {},
     "output_type": "execute_result"
    }
   ],
   "source": [
    "selected_genes_ids, similarities = compute_gene_importance(output, similarity=10, latex=True)\n",
    "similarities"
   ]
  },
  {
   "cell_type": "code",
   "execution_count": 7,
   "metadata": {},
   "outputs": [
    {
     "name": "stdout",
     "output_type": "stream",
     "text": [
      "These are the top 652 genes in order of importance:\\\\\n",
      "BMP5$\\text{\\textbar}$653, MYOC$\\text{\\textbar}$4653, CDKN2A$\\text{\\textbar}$1029, MARCO$\\text{\\textbar}$8685, XAGE2$\\text{\\textbar}$9502, SCNN1G$\\text{\\textbar}$6340, LYVE1$\\text{\\textbar}$10894, COL10A1$\\text{\\textbar}$1300, FXYD4$\\text{\\textbar}$53828, CAPN6$\\text{\\textbar}$827, MMP13$\\text{\\textbar}$4322, GABRD$\\text{\\textbar}$2563, KRT24$\\text{\\textbar}$192666, COMP$\\text{\\textbar}$1311, DLX1$\\text{\\textbar}$1745, OVCH2$\\text{\\textbar}$341277, GFRA3$\\text{\\textbar}$2676, SPP1$\\text{\\textbar}$6696, ALDH1A2$\\text{\\textbar}$8854, ODAM$\\text{\\textbar}$54959, C19orf81$\\text{\\textbar}$342918, NR0B2$\\text{\\textbar}$8431, ZIC5$\\text{\\textbar}$85416, WIF1$\\text{\\textbar}$11197, OR51E2$\\text{\\textbar}$81285, STAB2$\\text{\\textbar}$55576, HELT$\\text{\\textbar}$391723, SERPINA5$\\text{\\textbar}$5104, NXPH4$\\text{\\textbar}$11247, VSTM2A$\\text{\\textbar}$222008, PTCHD3$\\text{\\textbar}$374308, GREM2$\\text{\\textbar}$64388, CTNNA3$\\text{\\textbar}$29119, RBP4$\\text{\\textbar}$5950, CDH19$\\text{\\textbar}$28513, AQP3$\\text{\\textbar}$360, CHRND$\\text{\\textbar}$1144, BMP3$\\text{\\textbar}$651, SCARA5$\\text{\\textbar}$286133, CIDEC$\\text{\\textbar}$63924, CYP2A6$\\text{\\textbar}$1548, TERT$\\text{\\textbar}$7015, CAMK2N2$\\text{\\textbar}$94032, PI16$\\text{\\textbar}$221476, ATP6V0D2$\\text{\\textbar}$245972, THBS4$\\text{\\textbar}$7060, WNT9B$\\text{\\textbar}$7484, EEF1A2$\\text{\\textbar}$1917, NXPE4$\\text{\\textbar}$54827, CCL21$\\text{\\textbar}$6366, SERTM1$\\text{\\textbar}$400120, KISS1R$\\text{\\textbar}$84634, KRT13$\\text{\\textbar}$3860, ESM1$\\text{\\textbar}$11082, IRX1$\\text{\\textbar}$79192, ATP12A$\\text{\\textbar}$479, TDRD1$\\text{\\textbar}$56165, MAT1A$\\text{\\textbar}$4143, SEMG2$\\text{\\textbar}$6407, ATP6V1B1$\\text{\\textbar}$525, NTS$\\text{\\textbar}$4922, TMEM45B$\\text{\\textbar}$120224, CDH22$\\text{\\textbar}$64405, OLFM4$\\text{\\textbar}$10562, COL11A1$\\text{\\textbar}$1301, CFD$\\text{\\textbar}$1675, GLP2R$\\text{\\textbar}$9340, ATP6V0A4$\\text{\\textbar}$50617, TMEM151A$\\text{\\textbar}$256472, NXPE2$\\text{\\textbar}$120406, CST1$\\text{\\textbar}$1469, ESRRB$\\text{\\textbar}$2103, TMEM59L$\\text{\\textbar}$25789, EPYC$\\text{\\textbar}$1833, ADH1C$\\text{\\textbar}$126, TAC1$\\text{\\textbar}$6863, OXGR1$\\text{\\textbar}$27199, SYT4$\\text{\\textbar}$6860, SERPINA6$\\text{\\textbar}$866, MYMX$\\text{\\textbar}$101929726, LBX2$\\text{\\textbar}$85474, SIX3$\\text{\\textbar}$6496, MYL4$\\text{\\textbar}$4635, CNTFR$\\text{\\textbar}$1271, ANGPTL7$\\text{\\textbar}$10218, HIST1H3B$\\text{\\textbar}$8358, LPL$\\text{\\textbar}$4023, RNASE7$\\text{\\textbar}$84659, HMGCS2$\\text{\\textbar}$3158, ALX1$\\text{\\textbar}$8092, PLPP4$\\text{\\textbar}$196051, HSD17B13$\\text{\\textbar}$345275, MMRN1$\\text{\\textbar}$22915, CYP1A1$\\text{\\textbar}$1543, NPY5R$\\text{\\textbar}$4889, CPA1$\\text{\\textbar}$1357, ANKRD1$\\text{\\textbar}$27063, KLHL4$\\text{\\textbar}$56062, ASPN$\\text{\\textbar}$54829, ONECUT2$\\text{\\textbar}$9480, NDNF$\\text{\\textbar}$79625, XG$\\text{\\textbar}$7499, CST2$\\text{\\textbar}$1470, SLPI$\\text{\\textbar}$6590, OTC$\\text{\\textbar}$5009, MUC15$\\text{\\textbar}$143662, TMEM236$\\text{\\textbar}$653567, ROS1$\\text{\\textbar}$6098, GSTA2$\\text{\\textbar}$2939, PIGR$\\text{\\textbar}$5284, MMP27$\\text{\\textbar}$64066, FGFBP2$\\text{\\textbar}$83888, TDO2$\\text{\\textbar}$6999, SLC22A2$\\text{\\textbar}$6582, HIST1H2BL$\\text{\\textbar}$8340, DNER$\\text{\\textbar}$92737, SLC6A4$\\text{\\textbar}$6532, MUC21$\\text{\\textbar}$394263, HRCT1$\\text{\\textbar}$646962, MIOX$\\text{\\textbar}$55586, TSHB$\\text{\\textbar}$7252, SCEL$\\text{\\textbar}$8796, UPK1B$\\text{\\textbar}$7348, ITPKA$\\text{\\textbar}$3706, CDK5R2$\\text{\\textbar}$8941, TEPP$\\text{\\textbar}$374739, KRT23$\\text{\\textbar}$25984, VAX2$\\text{\\textbar}$25806, SERPINA4$\\text{\\textbar}$5267, SCN2A$\\text{\\textbar}$6326, MFAP5$\\text{\\textbar}$8076, VSTM2L$\\text{\\textbar}$128434, KLK1$\\text{\\textbar}$3816, FGA$\\text{\\textbar}$2243, CYP4F22$\\text{\\textbar}$126410, ENPP3$\\text{\\textbar}$5169, C14orf180$\\text{\\textbar}$400258, WISP2$\\text{\\textbar}$8839, SLC4A9$\\text{\\textbar}$83697, GGTLC1$\\text{\\textbar}$92086, DIRC1$\\text{\\textbar}$116093, CLIC6$\\text{\\textbar}$54102, TCEAL5$\\text{\\textbar}$340543, TM4SF4$\\text{\\textbar}$7104, SLC6A3$\\text{\\textbar}$6531, HAO2$\\text{\\textbar}$51179, AADACL2$\\text{\\textbar}$344752, RSPO1$\\text{\\textbar}$284654, PITX1$\\text{\\textbar}$5307, GNG3$\\text{\\textbar}$2785, MUC5B$\\text{\\textbar}$727897, SFRP1$\\text{\\textbar}$6422, DPYSL4$\\text{\\textbar}$10570, CST4$\\text{\\textbar}$1472, SEMA3D$\\text{\\textbar}$223117, ADIPOQ$\\text{\\textbar}$9370, VEGFD$\\text{\\textbar}$2277, RTBDN$\\text{\\textbar}$83546, KERA$\\text{\\textbar}$11081, TDGF1$\\text{\\textbar}$6997, UGT2B17$\\text{\\textbar}$7367, TRPV5$\\text{\\textbar}$56302, SCGB3A2$\\text{\\textbar}$117156, MLPH$\\text{\\textbar}$79083, LRFN5$\\text{\\textbar}$145581, MUC6$\\text{\\textbar}$4588, HIST1H2BE$\\text{\\textbar}$8344, DMRT2$\\text{\\textbar}$10655, A4GNT$\\text{\\textbar}$51146, GPER1$\\text{\\textbar}$2852, FABP1$\\text{\\textbar}$2168, VAT1L$\\text{\\textbar}$57687, KIF1A$\\text{\\textbar}$547, HAMP$\\text{\\textbar}$57817, DPT$\\text{\\textbar}$1805, WFDC12$\\text{\\textbar}$128488, P2RX2$\\text{\\textbar}$22953, GABRA2$\\text{\\textbar}$2555, SLC12A5$\\text{\\textbar}$57468, CXCL14$\\text{\\textbar}$9547, DACT2$\\text{\\textbar}$168002, BCAS1$\\text{\\textbar}$8537, C13orf42$\\text{\\textbar}$647166, OOEP$\\text{\\textbar}$441161, PGC$\\text{\\textbar}$5225, RSPO3$\\text{\\textbar}$84870, EPHA5$\\text{\\textbar}$2044, CYP4Z1$\\text{\\textbar}$199974, AC233992.2$\\text{\\textbar}$nan, TRPM8$\\text{\\textbar}$79054, SLC4A4$\\text{\\textbar}$8671, GP2$\\text{\\textbar}$2813, SDS$\\text{\\textbar}$10993, CNTD2$\\text{\\textbar}$79935, SP8$\\text{\\textbar}$221833, TMEM132C$\\text{\\textbar}$92293, CKM$\\text{\\textbar}$1158, APOH$\\text{\\textbar}$350, ERICH4$\\text{\\textbar}$nan, MYZAP$\\text{\\textbar}$100820829, TNMD$\\text{\\textbar}$64102, GDF15$\\text{\\textbar}$9518, C4BPA$\\text{\\textbar}$722, MYO3A$\\text{\\textbar}$53904, FUT6$\\text{\\textbar}$2528, SFTPA2$\\text{\\textbar}$729238, PRRG3$\\text{\\textbar}$79057, KRT20$\\text{\\textbar}$54474, GSTA1$\\text{\\textbar}$2938, SLC10A4$\\text{\\textbar}$201780, DCST1$\\text{\\textbar}$149095, CCBE1$\\text{\\textbar}$147372, LRRN4CL$\\text{\\textbar}$221091, EDAR$\\text{\\textbar}$10913, CD177$\\text{\\textbar}$57126, ALKAL2$\\text{\\textbar}$285016, SERPINA11$\\text{\\textbar}$256394, C5orf52$\\text{\\textbar}$100190949, CDH16$\\text{\\textbar}$1014, NPY$\\text{\\textbar}$4852, ELFN2$\\text{\\textbar}$114794, MS4A12$\\text{\\textbar}$54860, MROH2A$\\text{\\textbar}$339766, FGF10$\\text{\\textbar}$2255, PCSK9$\\text{\\textbar}$255738, MNX1$\\text{\\textbar}$3110, INSL5$\\text{\\textbar}$10022, MS4A15$\\text{\\textbar}$219995, HAPLN1$\\text{\\textbar}$1404, C6orf141$\\text{\\textbar}$135398, CTSG$\\text{\\textbar}$1511, HBB$\\text{\\textbar}$3043, BIRC7$\\text{\\textbar}$79444, SYT3$\\text{\\textbar}$84258, AGTR2$\\text{\\textbar}$186, WSCD2$\\text{\\textbar}$9671, SSTR1$\\text{\\textbar}$6751, OR2B6$\\text{\\textbar}$26212, SCRT1$\\text{\\textbar}$83482, NCAM1$\\text{\\textbar}$4684, HRASLS2$\\text{\\textbar}$54979, FXYD3$\\text{\\textbar}$5349, MAS1L$\\text{\\textbar}$116511, ETV4$\\text{\\textbar}$2118, CES1$\\text{\\textbar}$1066, MALRD1$\\text{\\textbar}$340895, SERPINE2$\\text{\\textbar}$5270, ITLN2$\\text{\\textbar}$142683, CT62$\\text{\\textbar}$196993, SLIT1$\\text{\\textbar}$6585, ATP4B$\\text{\\textbar}$496, ADAMTS14$\\text{\\textbar}$140766, TMEM139$\\text{\\textbar}$135932, MRGPRX3$\\text{\\textbar}$117195, FCER1A$\\text{\\textbar}$2205, DDN$\\text{\\textbar}$23109, TPO$\\text{\\textbar}$7173, SYT14$\\text{\\textbar}$255928, SLC4A1$\\text{\\textbar}$6521, MEP1A$\\text{\\textbar}$4224, VTCN1$\\text{\\textbar}$79679, PRG4$\\text{\\textbar}$10216, SLC7A3$\\text{\\textbar}$84889, HIST1H2BO$\\text{\\textbar}$8348, LTF$\\text{\\textbar}$4057, FAM72C$\\text{\\textbar}$554282, AMH$\\text{\\textbar}$268, NXF3$\\text{\\textbar}$56000, HP$\\text{\\textbar}$3240, STRA8$\\text{\\textbar}$346673, PITX2$\\text{\\textbar}$5308, PLA2G3$\\text{\\textbar}$50487, FRMD7$\\text{\\textbar}$90167, NEFM$\\text{\\textbar}$4741, PCOLCE2$\\text{\\textbar}$26577, CYP2B6$\\text{\\textbar}$1555, APELA$\\text{\\textbar}$100506013, DMBT1$\\text{\\textbar}$1755, IL1RL1$\\text{\\textbar}$9173, CRISP3$\\text{\\textbar}$10321, CHGA$\\text{\\textbar}$1113, CEACAM6$\\text{\\textbar}$4680, SLC38A4$\\text{\\textbar}$55089, FRMPD3$\\text{\\textbar}$84443, METTL7B$\\text{\\textbar}$196410, SLURP1$\\text{\\textbar}$57152, HS3ST6$\\text{\\textbar}$64711, NKX2-3$\\text{\\textbar}$159296, SLC45A2$\\text{\\textbar}$51151, MT1HL1$\\text{\\textbar}$645745, GPRC5A$\\text{\\textbar}$9052, RASSF10$\\text{\\textbar}$644943, APLN$\\text{\\textbar}$8862, IGSF10$\\text{\\textbar}$285313, COLEC10$\\text{\\textbar}$10584, SCG2$\\text{\\textbar}$7857, NKX2-2$\\text{\\textbar}$4821, LRRC15$\\text{\\textbar}$131578, PTX3$\\text{\\textbar}$5806, DLK1$\\text{\\textbar}$8788, GSDMC$\\text{\\textbar}$56169, GAD1$\\text{\\textbar}$2571, BTBD16$\\text{\\textbar}$118663, SLC9A3$\\text{\\textbar}$6550, GRAMD2A$\\text{\\textbar}$196996, TRDN$\\text{\\textbar}$10345, GRIN2D$\\text{\\textbar}$2906, PGPEP1L$\\text{\\textbar}$145814, HOXC6$\\text{\\textbar}$3223, NRK$\\text{\\textbar}$203447, ACSM1$\\text{\\textbar}$116285, KLK5$\\text{\\textbar}$25818, HIST1H2AJ$\\text{\\textbar}$8331, FAM107A$\\text{\\textbar}$11170, BCAN$\\text{\\textbar}$63827, GSTM5$\\text{\\textbar}$2949, FTCD$\\text{\\textbar}$10841, GPR37$\\text{\\textbar}$2861, NLRP2$\\text{\\textbar}$55655, PAH$\\text{\\textbar}$5053, EDA2R$\\text{\\textbar}$60401, CTHRC1$\\text{\\textbar}$115908, TMEM74B$\\text{\\textbar}$55321, DNASE1L3$\\text{\\textbar}$1776, SLC22A3$\\text{\\textbar}$6581, MISP$\\text{\\textbar}$126353, B4GALNT2$\\text{\\textbar}$124872, TRHDE$\\text{\\textbar}$29953, GALNT5$\\text{\\textbar}$11227, DOC2A$\\text{\\textbar}$8448, ARHGAP36$\\text{\\textbar}$158763, MFSD4A$\\text{\\textbar}$148808, MAGEE2$\\text{\\textbar}$139599, HOXC10$\\text{\\textbar}$3226, SLC17A8$\\text{\\textbar}$246213, SCD$\\text{\\textbar}$6319, ACAN$\\text{\\textbar}$176, C11orf97$\\text{\\textbar}$643037, HSD17B2$\\text{\\textbar}$3294, CCL11$\\text{\\textbar}$6356, MORN5$\\text{\\textbar}$254956, KLK4$\\text{\\textbar}$9622, ADTRP$\\text{\\textbar}$84830, SFRP4$\\text{\\textbar}$6424, IL13RA2$\\text{\\textbar}$3598, MCOLN3$\\text{\\textbar}$55283, ZIC2$\\text{\\textbar}$7546, DDC$\\text{\\textbar}$1644, CNDP1$\\text{\\textbar}$84735, FOLR1$\\text{\\textbar}$2348, FBP2$\\text{\\textbar}$8789, CA9$\\text{\\textbar}$768, PHGR1$\\text{\\textbar}$644844, CHAD$\\text{\\textbar}$1101, CCL13$\\text{\\textbar}$6357, CMA1$\\text{\\textbar}$1215, SFRP5$\\text{\\textbar}$6425, SCGB1D2$\\text{\\textbar}$10647, TMEM215$\\text{\\textbar}$401498, TINAG$\\text{\\textbar}$27283, SLC5A9$\\text{\\textbar}$200010, STC2$\\text{\\textbar}$8614, AQP4$\\text{\\textbar}$361, HHIP$\\text{\\textbar}$64399, CLRN3$\\text{\\textbar}$nan, C9orf135$\\text{\\textbar}$138255, WISP1$\\text{\\textbar}$8840, MEDAG$\\text{\\textbar}$84935, LGALS12$\\text{\\textbar}$85329, PAMR1$\\text{\\textbar}$25891, SORCS3$\\text{\\textbar}$22986, MATN3$\\text{\\textbar}$4148, GPR158$\\text{\\textbar}$57512, SFTPB$\\text{\\textbar}$6439, CSN3$\\text{\\textbar}$1448, TCEAL2$\\text{\\textbar}$140597, HOXD1$\\text{\\textbar}$3231, UGT1A8$\\text{\\textbar}$54576, SMIM31$\\text{\\textbar}$100505989, CALB2$\\text{\\textbar}$794, CDH4$\\text{\\textbar}$1002, C11orf16$\\text{\\textbar}$56673, OXT$\\text{\\textbar}$5020, HOXA5$\\text{\\textbar}$3202, DUOXA2$\\text{\\textbar}$405753, NOX4$\\text{\\textbar}$50507, PADI1$\\text{\\textbar}$29943, GCSAML$\\text{\\textbar}$148823, ALKAL1$\\text{\\textbar}$389658, PTCHD4$\\text{\\textbar}$442213, PRSS12$\\text{\\textbar}$8492, METTL11B$\\text{\\textbar}$149281, AC011498.4$\\text{\\textbar}$nan, SULT4A1$\\text{\\textbar}$25830, KCNJ16$\\text{\\textbar}$3773, RIMS4$\\text{\\textbar}$140730, GCGR$\\text{\\textbar}$2642, LPA$\\text{\\textbar}$4018, FBLL1$\\text{\\textbar}$345630, CHRDL2$\\text{\\textbar}$25884, TMEM178A$\\text{\\textbar}$130733, SEZ6L$\\text{\\textbar}$23544, LBP$\\text{\\textbar}$3929, SLITRK3$\\text{\\textbar}$22865, SCGB1A1$\\text{\\textbar}$7356, GNG13$\\text{\\textbar}$51764, CTNND2$\\text{\\textbar}$1501, UGT2B15$\\text{\\textbar}$7366, NELL1$\\text{\\textbar}$4745, LOC100509620$\\text{\\textbar}$100509620, ELAVL2$\\text{\\textbar}$1993, CPNE7$\\text{\\textbar}$27132, KCNE2$\\text{\\textbar}$9992, PTGER3$\\text{\\textbar}$5733, UGT2B4$\\text{\\textbar}$7363, DLX2$\\text{\\textbar}$1746, SNTG2$\\text{\\textbar}$54221, TSKS$\\text{\\textbar}$60385, SYN2$\\text{\\textbar}$6854, CYP1A2$\\text{\\textbar}$1544, MARCH11$\\text{\\textbar}$441061, LRP1B$\\text{\\textbar}$53353, RHBG$\\text{\\textbar}$57127, PRPH2$\\text{\\textbar}$5961, KRT6B$\\text{\\textbar}$3854, CPB2$\\text{\\textbar}$1361, BAALC$\\text{\\textbar}$79870, SMYD1$\\text{\\textbar}$150572, HAO1$\\text{\\textbar}$54363, PTGDS$\\text{\\textbar}$5730, AGRP$\\text{\\textbar}$181, OSTN$\\text{\\textbar}$344901, MARCH4$\\text{\\textbar}$57574, FABP6$\\text{\\textbar}$2172, CPLX2$\\text{\\textbar}$10814, C4BPB$\\text{\\textbar}$725, HDC$\\text{\\textbar}$3067, GPR15$\\text{\\textbar}$2838, BRSK2$\\text{\\textbar}$9024, KCNQ3$\\text{\\textbar}$3786, CSF3$\\text{\\textbar}$1440, TRIM40$\\text{\\textbar}$135644, FOXJ1$\\text{\\textbar}$2302, CRYBG2$\\text{\\textbar}$55057, AL049839.2$\\text{\\textbar}$nan, UGT3A2$\\text{\\textbar}$167127, MYO3B$\\text{\\textbar}$140469, C1QL1$\\text{\\textbar}$10882, TUBAL3$\\text{\\textbar}$79861, SLC15A1$\\text{\\textbar}$6564, KRT79$\\text{\\textbar}$338785, PADI2$\\text{\\textbar}$11240, ADM2$\\text{\\textbar}$79924, CYP2E1$\\text{\\textbar}$1571, FOXS1$\\text{\\textbar}$2307, PRH2$\\text{\\textbar}$5555, SLC5A5$\\text{\\textbar}$6528, PLG$\\text{\\textbar}$5340, GYPE$\\text{\\textbar}$2996, APOC1$\\text{\\textbar}$341, CABP7$\\text{\\textbar}$164633, SIGLEC11$\\text{\\textbar}$114132, PRAC2$\\text{\\textbar}$360205, SAPCD1$\\text{\\textbar}$401251, GCG$\\text{\\textbar}$2641, EPHB1$\\text{\\textbar}$2047, MRAP$\\text{\\textbar}$56246, FAM181A$\\text{\\textbar}$90050, DKK4$\\text{\\textbar}$27121, TBX15$\\text{\\textbar}$6913, ALOX15$\\text{\\textbar}$246, HIST1H2BF$\\text{\\textbar}$8343, SLC7A11$\\text{\\textbar}$23657, XDH$\\text{\\textbar}$7498, MRC1$\\text{\\textbar}$4360, KRT15$\\text{\\textbar}$3866, CYP17A1$\\text{\\textbar}$1586, BCHE$\\text{\\textbar}$590, NETO1$\\text{\\textbar}$81832, KRT5$\\text{\\textbar}$3852, SAA1$\\text{\\textbar}$6288, THRSP$\\text{\\textbar}$7069, PCSK1N$\\text{\\textbar}$27344, SHISA3$\\text{\\textbar}$152573, C1QTNF9$\\text{\\textbar}$338872, C10orf99$\\text{\\textbar}$387695, SCN4B$\\text{\\textbar}$6330, TRPC4$\\text{\\textbar}$7223, PRSS21$\\text{\\textbar}$10942, DHRS9$\\text{\\textbar}$10170, BPIFB1$\\text{\\textbar}$92747, SNAP91$\\text{\\textbar}$9892, GLB1L3$\\text{\\textbar}$112937, C10orf142$\\text{\\textbar}$100130539, SLC26A7$\\text{\\textbar}$115111, INHBA$\\text{\\textbar}$3624, CHRNA4$\\text{\\textbar}$1137, LRIT2$\\text{\\textbar}$340745, TPSB2$\\text{\\textbar}$64499, PACRG$\\text{\\textbar}$135138, HSPB3$\\text{\\textbar}$8988, HES5$\\text{\\textbar}$388585, ERFE$\\text{\\textbar}$151176, LGI1$\\text{\\textbar}$9211, L1CAM$\\text{\\textbar}$3897, LYPD2$\\text{\\textbar}$137797, UGT2B7$\\text{\\textbar}$7364, TM4SF5$\\text{\\textbar}$9032, MATN4$\\text{\\textbar}$8785, GC$\\text{\\textbar}$2638, KLK2$\\text{\\textbar}$3817, ADGRL3$\\text{\\textbar}$23284, PRKG2$\\text{\\textbar}$5593, KRT40$\\text{\\textbar}$125115, LALBA$\\text{\\textbar}$3906, NMU$\\text{\\textbar}$10874, LGR6$\\text{\\textbar}$59352, CA3$\\text{\\textbar}$761, TFPI2$\\text{\\textbar}$7980, CCL2$\\text{\\textbar}$6347, RFPL4B$\\text{\\textbar}$442247, B3GNT6$\\text{\\textbar}$192134, TFAP2C$\\text{\\textbar}$7022, SNAP25$\\text{\\textbar}$6616, CPA3$\\text{\\textbar}$1359, CRCT1$\\text{\\textbar}$54544, IFI6$\\text{\\textbar}$2537, RNASE10$\\text{\\textbar}$338879, L1TD1$\\text{\\textbar}$54596, GABBR2$\\text{\\textbar}$9568, ACOT12$\\text{\\textbar}$134526, FAM180B$\\text{\\textbar}$399888, LRRC3B$\\text{\\textbar}$116135, IGF2BP1$\\text{\\textbar}$10642, PRDM12$\\text{\\textbar}$59335, CYP4F2$\\text{\\textbar}$8529, KCNJ13$\\text{\\textbar}$3769, DDX43$\\text{\\textbar}$55510, HMGA2$\\text{\\textbar}$8091, ZNF98$\\text{\\textbar}$148198, GRHL3$\\text{\\textbar}$57822, HPR$\\text{\\textbar}$3250, SLC14A2$\\text{\\textbar}$8170, CPNE4$\\text{\\textbar}$131034, HBD$\\text{\\textbar}$3045, WDR72$\\text{\\textbar}$256764, PLA2G2A$\\text{\\textbar}$5320, HIST1H3J$\\text{\\textbar}$8356, AZGP1$\\text{\\textbar}$563, DPP10$\\text{\\textbar}$57628, MT3$\\text{\\textbar}$4504, CDSN$\\text{\\textbar}$1041, LIPF$\\text{\\textbar}$8513, LDLR$\\text{\\textbar}$3949, KCNH8$\\text{\\textbar}$131096, CHIA$\\text{\\textbar}$27159, DLL3$\\text{\\textbar}$10683, KMO$\\text{\\textbar}$8564, HOXB13$\\text{\\textbar}$10481, GP9$\\text{\\textbar}$2815, PIP$\\text{\\textbar}$5304, FER1L6$\\text{\\textbar}$654463, OPRPN$\\text{\\textbar}$58503, CAMKV$\\text{\\textbar}$79012, KRT80$\\text{\\textbar}$144501, POPDC3$\\text{\\textbar}$64208, SPDEF$\\text{\\textbar}$25803, FOXD1$\\text{\\textbar}$2297, SPOCD1$\\text{\\textbar}$90853, FEZF1$\\text{\\textbar}$389549, GPR25$\\text{\\textbar}$2848, SYTL5$\\text{\\textbar}$94122, APOE$\\text{\\textbar}$348, NPW$\\text{\\textbar}$283869, BHMT$\\text{\\textbar}$635, GDNF$\\text{\\textbar}$2668, GALNTL6$\\text{\\textbar}$442117, TAL2$\\text{\\textbar}$6887, SLC39A5$\\text{\\textbar}$283375, C11orf86$\\text{\\textbar}$254439, FOXA2$\\text{\\textbar}$3170, SH2D4B$\\text{\\textbar}$387694, TFF1$\\text{\\textbar}$7031, SLC46A2$\\text{\\textbar}$57864, MMP1$\\text{\\textbar}$4312, SPRR2F$\\text{\\textbar}$6705, ADAM2$\\text{\\textbar}$2515, CADM3$\\text{\\textbar}$57863, KLK12$\\text{\\textbar}$43849, SLC23A1$\\text{\\textbar}$9963, CCR8$\\text{\\textbar}$1237, PLPPR5$\\text{\\textbar}$163404, UPP2$\\text{\\textbar}$151531, MYT1$\\text{\\textbar}$4661, GABRB2$\\text{\\textbar}$2561, WDR38$\\text{\\textbar}$401551, CNGA3$\\text{\\textbar}$1261, CYP3A4$\\text{\\textbar}$1576, SLC28A2$\\text{\\textbar}$9153, HIST1H4K$\\text{\\textbar}$8362, SLC25A48$\\text{\\textbar}$153328, PLA2G5$\\text{\\textbar}$5322, AMACR$\\text{\\textbar}$23600, ABCC8$\\text{\\textbar}$6833, MUCL1$\\text{\\textbar}$118430, TRPC7$\\text{\\textbar}$57113, ACP4$\\text{\\textbar}$93650, CYSLTR2$\\text{\\textbar}$57105, TG$\\text{\\textbar}$7038, DPP4$\\text{\\textbar}$1803, NTNG1$\\text{\\textbar}$22854, ZNF676$\\text{\\textbar}$163223, IRX5$\\text{\\textbar}$10265, DCSTAMP$\\text{\\textbar}$81501, HMX2$\\text{\\textbar}$3167, EBF2$\\text{\\textbar}$64641, HEYL$\\text{\\textbar}$26508, CHST9$\\text{\\textbar}$83539, SERPINB5$\\text{\\textbar}$5268, DIO1$\\text{\\textbar}$1733, LPAR3$\\text{\\textbar}$23566, IGLL5$\\text{\\textbar}$100423062, SSX1$\\text{\\textbar}$6756, ALPP$\\text{\\textbar}$250, C1QL4$\\text{\\textbar}$338761, HS3ST2$\\text{\\textbar}$9956, CLPSL1$\\text{\\textbar}$340204, TENM3$\\text{\\textbar}$55714, GSG1L$\\text{\\textbar}$146395, MAPT$\\text{\\textbar}$4137, CKMT1A$\\text{\\textbar}$548596, MS4A2$\\text{\\textbar}$2206, DCAF12L1$\\text{\\textbar}$139170, ELN$\\text{\\textbar}$2006, VIL1$\\text{\\textbar}$7429, SERPINB13$\\text{\\textbar}$5275, OR2W3$\\text{\\textbar}$343171, CR1L$\\text{\\textbar}$1379, C10orf126$\\text{\\textbar}$283080, VNN3$\\text{\\textbar}$55350, GAP43$\\text{\\textbar}$2596, STAP1$\\text{\\textbar}$26228, PCDHGA1$\\text{\\textbar}$56114, HYAL4$\\text{\\textbar}$23553, LRRC18$\\text{\\textbar}$474354, CD164L2$\\text{\\textbar}$388611, GCNT3$\\text{\\textbar}$9245, SPATC1$\\text{\\textbar}$375686, CEL$\\text{\\textbar}$1056, ERN2$\\text{\\textbar}$10595, FOXL2NB$\\text{\\textbar}$401089, LCN10$\\text{\\textbar}$414332\\\\\n"
     ]
    }
   ],
   "source": [
    "latex_genes(selected_genes_ids)"
   ]
  },
  {
   "cell_type": "code",
   "execution_count": 7,
   "metadata": {},
   "outputs": [
    {
     "name": "stdout",
     "output_type": "stream",
     "text": [
      "\\textbf{Framework configuration:}\\\\\n",
      "Data subset:\\\\\n",
      "Predict label: tumor\\\\\n",
      "Split label: tumor\\\\\n",
      "Train test split: 0.25\\\\\n",
      "Classifiers: LinearSVC and RandomForestClassifier\\\\\n",
      "Stop running: similarity $> 0.8$, for 10 consecutive runs\\\\\n",
      "Number of genes selected per algorithm: 250\\\\\n"
     ]
    }
   ],
   "source": [
    "print_latex_config(output)"
   ]
  },
  {
   "cell_type": "code",
   "execution_count": 8,
   "metadata": {},
   "outputs": [
    {
     "name": "stdout",
     "output_type": "stream",
     "text": [
      "\\textbf{Prediction metrics:}\\\\\n",
      "Average accuracy: 0.9873 (0.0)\\\\\n",
      "Average Cohen kappa: 0.8865 (0.001)\\\\\n",
      "Average accuracy LSVM: 0.9932 (0.0)\\\\\n",
      "Average accuracy RandomForestClassifier: 0.986 (0.0)\\\\\n"
     ]
    }
   ],
   "source": [
    "print_latex_prediction_metrics(output)"
   ]
  },
  {
   "cell_type": "code",
   "execution_count": 20,
   "metadata": {},
   "outputs": [],
   "source": []
  },
  {
   "cell_type": "code",
   "execution_count": 21,
   "metadata": {},
   "outputs": [
    {
     "name": "stdout",
     "output_type": "stream",
     "text": [
      "Saved cm image T_classifier_T_cm.png\n",
      "\n",
      "The Confusion matrix can be found in figure \\ref{fig:cm-T}. The Classification Report can be found in table \\ref{tab:cr-T}.\n",
      "\\begin{figure}[H]\n",
      "\\centering\n",
      "\\includegraphics[height=5cm]{T_classifier_T_cm.png}\n",
      "\\caption{Normalized Confusion Matrix over the test set}\n",
      "\\label{fig:cm-T}\n",
      "\\end{figure}\n"
     ]
    },
    {
     "data": {
      "image/png": "[encoded data removed]",
      "text/plain": [
       "<Figure size 432x288 with 1 Axes>"
      ]
     },
     "metadata": {},
     "output_type": "display_data"
    },
    {
     "data": {
      "image/png": "[encoded data removed]",
      "text/plain": [
       "<Figure size 1152x1152 with 2 Axes>"
      ]
     },
     "metadata": {},
     "output_type": "display_data"
    }
   ],
   "source": [
    "save_confusion_matrix(output, theNotebook, large_font=True, annot=True, cm_normalize=False)"
   ]
  },
  {
   "cell_type": "code",
   "execution_count": 12,
   "metadata": {},
   "outputs": [
    {
     "name": "stdout",
     "output_type": "stream",
     "text": [
      "\\textbf{Classification Report:}\\\\\n",
      "\\begin{tabular}{lrrrr}\n",
      "\\toprule\n",
      "{} &    fscore &  precision &    recall &  support \\\\\n",
      "\\midrule\n",
      "False &  0.893216 &   0.962655 &  0.835471 &    186.0 \\\\\n",
      "True  &  0.993248 &   0.988819 &  0.997728 &   2708.0 \\\\\n",
      "\\bottomrule\n",
      "\\end{tabular}\n",
      "\n"
     ]
    }
   ],
   "source": [
    "print_latex_cr(output)"
   ]
  },
  {
   "cell_type": "code",
   "execution_count": null,
   "metadata": {},
   "outputs": [],
   "source": []
  },
  {
   "cell_type": "code",
   "execution_count": 13,
   "metadata": {},
   "outputs": [
    {
     "name": "stdout",
     "output_type": "stream",
     "text": [
      "Reading data\n",
      "Predicting and evaluating LinearSVC\n",
      "Predicting and evaluating LinearSVC\n",
      "Predicting and evaluating LinearSVC\n",
      "Predicting and evaluating LinearSVC\n",
      "Predicting and evaluating LinearSVC\n",
      "Predicting and evaluating LinearSVC\n",
      "Predicting and evaluating LinearSVC\n",
      "Predicting and evaluating LinearSVC\n",
      "Predicting and evaluating LinearSVC\n",
      "Predicting and evaluating LinearSVC\n",
      "Predicting and evaluating RandomForestClassifier\n",
      "Predicting and evaluating RandomForestClassifier\n",
      "Predicting and evaluating RandomForestClassifier\n",
      "Predicting and evaluating RandomForestClassifier\n",
      "Predicting and evaluating RandomForestClassifier\n",
      "Predicting and evaluating RandomForestClassifier\n",
      "Predicting and evaluating RandomForestClassifier\n",
      "Predicting and evaluating RandomForestClassifier\n",
      "Predicting and evaluating RandomForestClassifier\n",
      "Predicting and evaluating RandomForestClassifier\n",
      "We have 652 selected genes as a result, doing the same prediction again but only with these genes we get the following accuracies averaged over 10 folds:\\\\\n",
      "LinearSVC: 0.9963 (0.0000)\\\\\n",
      "RandomForestClassifier: 0.9887 (0.0000)\\\\\n"
     ]
    },
    {
     "data": {
      "text/plain": [
       "{'LinearSVC': [0.9961990324809952,\n",
       "  0.9965445749827229,\n",
       "  0.9961990324809952,\n",
       "  0.9961990324809952,\n",
       "  0.9961990324809952,\n",
       "  0.9961990324809952,\n",
       "  0.9965445749827229,\n",
       "  0.9961990324809952,\n",
       "  0.9961990324809952,\n",
       "  0.9961990324809952],\n",
       " 'LinearSVC_avr': 0.9962681409813406,\n",
       " 'RandomForestClassifier': [0.98790601243953,\n",
       "  0.9885970974429855,\n",
       "  0.9882515549412578,\n",
       "  0.9882515549412578,\n",
       "  0.9885970974429855,\n",
       "  0.9889426399447132,\n",
       "  0.9892881824464409,\n",
       "  0.9896337249481686,\n",
       "  0.9885970974429855,\n",
       "  0.9885970974429855],\n",
       " 'RandomForestClassifier_avr': 0.9886662059433311}"
      ]
     },
     "execution_count": 13,
     "metadata": {},
     "output_type": "execute_result"
    }
   ],
   "source": [
    "gene_predictive_accuracy(output, selected_genes_ids, latex=True)"
   ]
  },
  {
   "cell_type": "code",
   "execution_count": null,
   "metadata": {},
   "outputs": [],
   "source": []
  },
  {
   "cell_type": "code",
   "execution_count": 11,
   "metadata": {},
   "outputs": [],
   "source": [
    "selected_genes_data, selected_genes_ids, sample_to_label = get_dendro_data(predict_label, selected_genes_ids)\n",
    "\n",
    "heatmap, legend, color_scale = get_dendro_heatmap(selected_genes_data, selected_genes_ids, sample_to_label, color_option=1, nb_genes_used=50)\n",
    "histogram = get_expression_hist(selected_genes_data, decimals=2, drop_zero=True, log=False, color_scale=color_scale)"
   ]
  },
  {
   "cell_type": "code",
   "execution_count": 12,
   "metadata": {},
   "outputs": [],
   "source": [
    "#iplot(heatmap)"
   ]
  },
  {
   "cell_type": "code",
   "execution_count": 13,
   "metadata": {},
   "outputs": [],
   "source": [
    "#iplot(histogram)"
   ]
  },
  {
   "cell_type": "code",
   "execution_count": 14,
   "metadata": {},
   "outputs": [
    {
     "name": "stdout",
     "output_type": "stream",
     "text": [
      "These are the top 50 genes in order of importance:\\\\\n",
      "BMP5$\\text{\\textbar}$653, MYOC$\\text{\\textbar}$4653, CDKN2A$\\text{\\textbar}$1029, MARCO$\\text{\\textbar}$8685, XAGE2$\\text{\\textbar}$9502, SCNN1G$\\text{\\textbar}$6340, LYVE1$\\text{\\textbar}$10894, COL10A1$\\text{\\textbar}$1300, FXYD4$\\text{\\textbar}$53828, CAPN6$\\text{\\textbar}$827, MMP13$\\text{\\textbar}$4322, GABRD$\\text{\\textbar}$2563, KRT24$\\text{\\textbar}$192666, COMP$\\text{\\textbar}$1311, DLX1$\\text{\\textbar}$1745, OVCH2$\\text{\\textbar}$341277, GFRA3$\\text{\\textbar}$2676, SPP1$\\text{\\textbar}$6696, ALDH1A2$\\text{\\textbar}$8854, ODAM$\\text{\\textbar}$54959, C19orf81$\\text{\\textbar}$342918, NR0B2$\\text{\\textbar}$8431, ZIC5$\\text{\\textbar}$85416, WIF1$\\text{\\textbar}$11197, OR51E2$\\text{\\textbar}$81285, STAB2$\\text{\\textbar}$55576, HELT$\\text{\\textbar}$391723, SERPINA5$\\text{\\textbar}$5104, NXPH4$\\text{\\textbar}$11247, VSTM2A$\\text{\\textbar}$222008, PTCHD3$\\text{\\textbar}$374308, GREM2$\\text{\\textbar}$64388, CTNNA3$\\text{\\textbar}$29119, RBP4$\\text{\\textbar}$5950, CDH19$\\text{\\textbar}$28513, AQP3$\\text{\\textbar}$360, CHRND$\\text{\\textbar}$1144, BMP3$\\text{\\textbar}$651, SCARA5$\\text{\\textbar}$286133, CIDEC$\\text{\\textbar}$63924, CYP2A6$\\text{\\textbar}$1548, TERT$\\text{\\textbar}$7015, CAMK2N2$\\text{\\textbar}$94032, PI16$\\text{\\textbar}$221476, ATP6V0D2$\\text{\\textbar}$245972, THBS4$\\text{\\textbar}$7060, WNT9B$\\text{\\textbar}$7484, EEF1A2$\\text{\\textbar}$1917, NXPE4$\\text{\\textbar}$54827, CCL21$\\text{\\textbar}$6366\\\\\n"
     ]
    }
   ],
   "source": [
    "latex_genes(selected_genes_ids[:50])"
   ]
  },
  {
   "cell_type": "code",
   "execution_count": null,
   "metadata": {},
   "outputs": [],
   "source": []
  },
  {
   "cell_type": "code",
   "execution_count": 15,
   "metadata": {},
   "outputs": [
    {
     "name": "stdout",
     "output_type": "stream",
     "text": [
      "Succeeded in saving T_classifier_T_hist.png\n",
      "The dendro-heatmap can be found in figure \\ref{fig:heat-T}. The top 50 most enriched pathways can be found in table \\ref{tab:pw-T}.\n",
      "\n",
      "\\begin{figure}[H]\n",
      "\\centering\n",
      "\\includegraphics[height=5cm]{T_classifier_T_heat.png}\n",
      "\\caption{Dendro-heatmap for the top genes}\n",
      "\\label{fig:heat-T}\n",
      "\\end{figure}\n"
     ]
    }
   ],
   "source": [
    "\n",
    "\n",
    "latex_heatmap(heatmap, histogram, theNotebook)"
   ]
  },
  {
   "cell_type": "code",
   "execution_count": 18,
   "metadata": {},
   "outputs": [
    {
     "data": {
      "image/png": "[encoded data removed]",
      "text/plain": [
       "<Figure size 72x18 with 1 Axes>"
      ]
     },
     "execution_count": 18,
     "metadata": {},
     "output_type": "execute_result"
    }
   ],
   "source": [
    "path = '../plots/figures/'\n",
    "leg_name = '{}_legend.png'.format(theNotebook)\n",
    "legend.savefig(os.path.join(path, leg_name)) \n",
    "legend"
   ]
  },
  {
   "cell_type": "code",
   "execution_count": 19,
   "metadata": {},
   "outputs": [
    {
     "name": "stdout",
     "output_type": "stream",
     "text": [
      "querying 1-50...done. [ from cache ]\n",
      "querying 0/399\n",
      "querying 50/399\n",
      "querying 100/399\n",
      "querying 150/399\n",
      "querying 200/399\n",
      "querying 250/399\n",
      "querying 300/399\n",
      "querying 350/399\n",
      "collected the 50 most enriched pathways\n",
      "The top 50 most enriched pathways based on these genes are:\\\\\n",
      "\\begin{tabular}{llr}\n",
      "\\toprule\n",
      "{} &                                               name &   p\\_value \\\\\n",
      "\\midrule\n",
      "0  &  Binding and Uptake of Ligands by Scavenger Rec... &  0.000146 \\\\\n",
      "1  &                           retinoate biosynthesis I &  0.000207 \\\\\n",
      "2  &                  Hyaluronan uptake and degradation &  0.000258 \\\\\n",
      "3  &                              Hyaluronan metabolism &  0.000378 \\\\\n",
      "4  &                          Endochondral Ossification &  0.000487 \\\\\n",
      "5  &                   Phagosome - Homo sapiens (human) &  0.000536 \\\\\n",
      "6  &                  Extracellular matrix organization &  0.000728 \\\\\n",
      "7  &    ECM-receptor interaction - Homo sapiens (human) &  0.001051 \\\\\n",
      "8  &                    Scavenging by Class A Receptors &  0.001185 \\\\\n",
      "9  &            Degradation of the extracellular matrix &  0.002258 \\\\\n",
      "10 &                                         Cystinuria &  0.002924 \\\\\n",
      "11 &                 Glucose Transporter Defect (SGLT2) &  0.002924 \\\\\n",
      "12 &                Lysinuric protein intolerance (LPI) &  0.002924 \\\\\n",
      "13 &                               Blue diaper syndrome &  0.002924 \\\\\n",
      "14 &                      Chlorothiazide Action Pathway &  0.002924 \\\\\n",
      "15 &                        Polythiazide Action Pathway &  0.002924 \\\\\n",
      "16 &                    Methyclothiazide Action Pathway &  0.002924 \\\\\n",
      "17 &                          Bumetanide Action Pathway &  0.002924 \\\\\n",
      "18 &                 Bendroflumethiazide Action Pathway &  0.002924 \\\\\n",
      "19 &                        Quinethazone Action Pathway &  0.002924 \\\\\n",
      "20 &                     Ethacrynic Acid Action Pathway &  0.002924 \\\\\n",
      "21 &                      Lysinuric Protein Intolerance &  0.002924 \\\\\n",
      "22 &                      Spironolactone Action Pathway &  0.002924 \\\\\n",
      "23 &                           Amiloride Action Pathway &  0.002924 \\\\\n",
      "24 &                       Cyclothiazide Action Pathway &  0.002924 \\\\\n",
      "25 &                          Metolazone Action Pathway &  0.002924 \\\\\n",
      "26 &                                    Iminoglycinuria &  0.002924 \\\\\n",
      "27 &                                   Hartnup Disorder &  0.002924 \\\\\n",
      "28 &                                    Kidney Function &  0.002924 \\\\\n",
      "29 &                          Furosemide Action Pathway &  0.002924 \\\\\n",
      "30 &                           Torsemide Action Pathway &  0.002924 \\\\\n",
      "31 &                 Glucose Transporter Defect (SGLT2) &  0.002924 \\\\\n",
      "32 &                  Trichlormethiazide Action Pathway &  0.002924 \\\\\n",
      "33 &                      Chlorthalidone Action Pathway &  0.002924 \\\\\n",
      "34 &                          Eplerenone Action Pathway &  0.002924 \\\\\n",
      "35 &                         Triamterene Action Pathway &  0.002924 \\\\\n",
      "36 &                 Hydrochlorothiazide Action Pathway &  0.002924 \\\\\n",
      "37 &                  Hydroflumethiazide Action Pathway &  0.002924 \\\\\n",
      "38 &                          Indapamide Action Pathway &  0.002924 \\\\\n",
      "39 &                               Vitamin A Deficiency &  0.003666 \\\\\n",
      "40 &                                 Retinol Metabolism &  0.003666 \\\\\n",
      "41 &  Aldosterone-regulated sodium reabsorption - Ho... &  0.004066 \\\\\n",
      "42 &                        Oncogene Induced Senescence &  0.004865 \\\\\n",
      "43 &                          estradiol biosynthesis II &  0.004865 \\\\\n",
      "44 &                Vitamin A and Carotenoid Metabolism &  0.004925 \\\\\n",
      "45 &     Hippo signaling pathway - Homo sapiens (human) &  0.006268 \\\\\n",
      "46 &                     Malaria - Homo sapiens (human) &  0.006354 \\\\\n",
      "47 &  Assembly of collagen fibrils and other multime... &  0.006354 \\\\\n",
      "48 &                    Scavenging by Class H Receptors &  0.009707 \\\\\n",
      "49 &                Caffeine and Theobromine metabolism &  0.009707 \\\\\n",
      "\\bottomrule\n",
      "\\end{tabular}\n",
      "\n"
     ]
    }
   ],
   "source": [
    "pw_latex(selected_genes_ids)"
   ]
  },
  {
   "cell_type": "code",
   "execution_count": null,
   "metadata": {},
   "outputs": [],
   "source": []
  },
  {
   "cell_type": "code",
   "execution_count": null,
   "metadata": {},
   "outputs": [],
   "source": []
  },
  {
   "cell_type": "code",
   "execution_count": null,
   "metadata": {},
   "outputs": [],
   "source": []
  },
  {
   "cell_type": "code",
   "execution_count": null,
   "metadata": {},
   "outputs": [],
   "source": []
  }
 ],
 "metadata": {
  "kernelspec": {
   "display_name": "Python 3",
   "language": "python",
   "name": "python3"
  },
  "language_info": {
   "codemirror_mode": {
    "name": "ipython",
    "version": 3
   },
   "file_extension": ".py",
   "mimetype": "text/x-python",
   "name": "python",
   "nbconvert_exporter": "python",
   "pygments_lexer": "ipython3",
   "version": "3.6.4"
  }
 },
 "nbformat": 4,
 "nbformat_minor": 2
}
