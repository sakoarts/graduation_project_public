{
 "cells": [
  {
   "cell_type": "code",
   "execution_count": 1,
   "metadata": {},
   "outputs": [
    {
     "data": {
      "text/html": [
       "<script>requirejs.config({paths: { 'plotly': ['https://cdn.plot.ly/plotly-latest.min']},});if(!window.Plotly) {{require(['plotly'],function(plotly) {window.Plotly=plotly;});}}</script>"
      ],
      "text/vnd.plotly.v1+html": [
       "<script>requirejs.config({paths: { 'plotly': ['https://cdn.plot.ly/plotly-latest.min']},});if(!window.Plotly) {{require(['plotly'],function(plotly) {window.Plotly=plotly;});}}</script>"
      ]
     },
     "metadata": {},
     "output_type": "display_data"
    }
   ],
   "source": [
    "import sys, os\n",
    "import numpy as np\n",
    "import pandas as pd\n",
    "\n",
    "sys.path.append('../')\n",
    "from tools.mongo_analysis_tools import *\n",
    "from tools.plots import get_dendro_heatmap, get_expression_hist\n",
    "from tools.get_predictive_power import gene_predictive_accuracy\n",
    "\n",
    "#import plotly\n",
    "from plotly.offline import iplot, init_notebook_mode\n",
    "init_notebook_mode(connected=True) # run at the start of every ipython notebook"
   ]
  },
  {
   "cell_type": "code",
   "execution_count": 2,
   "metadata": {},
   "outputs": [
    {
     "data": {
      "application/javascript": [
       "IPython.OutputArea.prototype._should_scroll = function(lines) {\n",
       "    return false;\n",
       "}\n",
       "var kernel = IPython.notebook.kernel;\n",
       "var thename = window.document.getElementById(\"notebook_name\").innerHTML;\n",
       "var command = \"theNotebook = \" + \"'\"+thename+\"'\";\n",
       "kernel.execute(command);"
      ],
      "text/plain": [
       "<IPython.core.display.Javascript object>"
      ]
     },
     "metadata": {},
     "output_type": "display_data"
    }
   ],
   "source": [
    "%%javascript\n",
    "IPython.OutputArea.prototype._should_scroll = function(lines) {\n",
    "    return false;\n",
    "}\n",
    "var kernel = IPython.notebook.kernel;\n",
    "var thename = window.document.getElementById(\"notebook_name\").innerHTML;\n",
    "var command = \"theNotebook = \" + \"'\"+thename+\"'\";\n",
    "kernel.execute(command);"
   ]
  },
  {
   "cell_type": "code",
   "execution_count": 3,
   "metadata": {},
   "outputs": [
    {
     "name": "stdout",
     "output_type": "stream",
     "text": [
      "All these experiments belong to experiment: PAN_CANCER_classifier_TS_fix\n"
     ]
    }
   ],
   "source": [
    "output = collect_run_output(21537, 23897, 'PAN_CANCER_classifier_TS_fix', verbose=1)"
   ]
  },
  {
   "cell_type": "code",
   "execution_count": 4,
   "metadata": {},
   "outputs": [
    {
     "data": {
      "text/html": [
       "<div>\n",
       "<style scoped>\n",
       "    .dataframe tbody tr th:only-of-type {\n",
       "        vertical-align: middle;\n",
       "    }\n",
       "\n",
       "    .dataframe tbody tr th {\n",
       "        vertical-align: top;\n",
       "    }\n",
       "\n",
       "    .dataframe thead th {\n",
       "        text-align: right;\n",
       "    }\n",
       "</style>\n",
       "<table border=\"1\" class=\"dataframe\">\n",
       "  <thead>\n",
       "    <tr style=\"text-align: right;\">\n",
       "      <th></th>\n",
       "      <th>id</th>\n",
       "      <th>#runs</th>\n",
       "    </tr>\n",
       "    <tr>\n",
       "      <th>name</th>\n",
       "      <th></th>\n",
       "      <th></th>\n",
       "    </tr>\n",
       "  </thead>\n",
       "  <tbody>\n",
       "    <tr>\n",
       "      <th>LinearSVC</th>\n",
       "      <td>[21537, 21556, 21574, 21592, 21609, 21627, 216...</td>\n",
       "      <td>125</td>\n",
       "    </tr>\n",
       "    <tr>\n",
       "      <th>RandomForestClassifier</th>\n",
       "      <td>[21538, 21539, 21540, 21541, 21542, 21543, 215...</td>\n",
       "      <td>2205</td>\n",
       "    </tr>\n",
       "  </tbody>\n",
       "</table>\n",
       "</div>"
      ],
      "text/plain": [
       "                                                                       id  \\\n",
       "name                                                                        \n",
       "LinearSVC               [21537, 21556, 21574, 21592, 21609, 21627, 216...   \n",
       "RandomForestClassifier  [21538, 21539, 21540, 21541, 21542, 21543, 215...   \n",
       "\n",
       "                        #runs  \n",
       "name                           \n",
       "LinearSVC                 125  \n",
       "RandomForestClassifier   2205  "
      ]
     },
     "execution_count": 4,
     "metadata": {},
     "output_type": "execute_result"
    }
   ],
   "source": [
    "runs_per_classifier(output)"
   ]
  },
  {
   "cell_type": "code",
   "execution_count": 5,
   "metadata": {},
   "outputs": [
    {
     "name": "stdout",
     "output_type": "stream",
     "text": [
      "For the label tumor_stage_float we have 7728 samples and 17 different labels. The classes and their support are as follows:\\\\\n",
      "0.0: 7, 1.0: 1456, 1.25: 413, 1.5: 462, 2.0: 745, 2.25: 870, 2.5: 754, 2.75: 67, 3.0: 802, 3.25: 531, 3.5: 290, 3.75: 256, 4.0: 685, 4.25: 349, 4.5: 20, 4.75: 9, 5.0: 12\n"
     ]
    }
   ],
   "source": [
    "predict_label = output[0]['config']['predict_label']\n",
    "data_latex(predict_label)"
   ]
  },
  {
   "cell_type": "code",
   "execution_count": 6,
   "metadata": {},
   "outputs": [
    {
     "name": "stdout",
     "output_type": "stream",
     "text": [
      "\\textbf{Gene analysis:}\\\\\n",
      "The models selected have the following number of genes:\\\\\n",
      "LinearSVC: 3481\\\\\n",
      "RandomForestClassifier: 4897\\\\\n",
      "Intersection: 19\\\\\n"
     ]
    },
    {
     "data": {
      "text/plain": [
       "{'LinearSVC': [0.6348125366139359,\n",
       "  0.1880688985929151,\n",
       "  0.0700173560890944,\n",
       "  0.6328463986115058,\n",
       "  0.6491177321376844,\n",
       "  0.6558335743901227,\n",
       "  0.6567495902034479,\n",
       "  0.14364167384850965,\n",
       "  0.6828306042324968,\n",
       "  0.6910035430431845],\n",
       " 'RandomForestClassifier': [0.6415713507625264,\n",
       "  0.861427696078435,\n",
       "  0.6853281590413944,\n",
       "  0.8398556644880217,\n",
       "  0.8680249183006552,\n",
       "  0.8573427287581711,\n",
       "  0.8314474400871503,\n",
       "  0.8253540305010943,\n",
       "  0.8035471132897616,\n",
       "  0.5337213259818905]}"
      ]
     },
     "execution_count": 6,
     "metadata": {},
     "output_type": "execute_result"
    }
   ],
   "source": [
    "selected_genes_ids, similarities = compute_gene_importance(output, similarity=10, latex=True)\n",
    "similarities"
   ]
  },
  {
   "cell_type": "code",
   "execution_count": 8,
   "metadata": {},
   "outputs": [
    {
     "name": "stdout",
     "output_type": "stream",
     "text": [
      "These are the top 19 genes in order of importance:\\\\\n",
      "APOD$\\text{\\textbar}$347, AREG$\\text{\\textbar}$374, AADAC$\\text{\\textbar}$13, APOA1$\\text{\\textbar}$335, ZNF488$\\text{\\textbar}$118738, ZNF534$\\text{\\textbar}$147658, ARMC12$\\text{\\textbar}$221481, APOBEC1$\\text{\\textbar}$339, ABCA12$\\text{\\textbar}$26154, C11orf88$\\text{\\textbar}$399949, ARID3C$\\text{\\textbar}$138715, ARHGEF4$\\text{\\textbar}$50649, ZNF385B$\\text{\\textbar}$151126, APOF$\\text{\\textbar}$319, C12orf56$\\text{\\textbar}$115749, ABAT$\\text{\\textbar}$18, ARHGAP36$\\text{\\textbar}$158763, A2ML1$\\text{\\textbar}$144568, AQP5$\\text{\\textbar}$362\\\\\n"
     ]
    }
   ],
   "source": [
    "latex_genes(selected_genes_ids)"
   ]
  },
  {
   "cell_type": "code",
   "execution_count": 7,
   "metadata": {},
   "outputs": [
    {
     "name": "stdout",
     "output_type": "stream",
     "text": [
      "\\textbf{Framework configuration:}\\\\\n",
      "Data subset:\\\\\n",
      "Predict label: tumor\\_stage\\_float\\\\\n",
      "Split label: tumor\\_stage\\_float\\\\\n",
      "Train test split: 0.25\\\\\n",
      "Classifiers: LinearSVC and RandomForestClassifier\\\\\n",
      "Stop running: similarity $> 0.8$, for 10 consecutive runs\\\\\n",
      "Number of genes selected per algorithm: 250\\\\\n"
     ]
    }
   ],
   "source": [
    "print_latex_config(output)"
   ]
  },
  {
   "cell_type": "code",
   "execution_count": 8,
   "metadata": {},
   "outputs": [
    {
     "name": "stdout",
     "output_type": "stream",
     "text": [
      "\\textbf{Prediction metrics:}\\\\\n",
      "Average accuracy: 0.395 (0.0001)\\\\\n",
      "Average Cohen kappa: 0.318 (0.0001)\\\\\n",
      "Average accuracy LSVM: 0.3759 (0.0001)\\\\\n",
      "Average accuracy RandomForestClassifier: 0.3961 (0.0001)\\\\\n"
     ]
    }
   ],
   "source": [
    "print_latex_prediction_metrics(output)"
   ]
  },
  {
   "cell_type": "code",
   "execution_count": 9,
   "metadata": {},
   "outputs": [
    {
     "name": "stdout",
     "output_type": "stream",
     "text": [
      "Saved cm image T_classifier_TS_fix_cm.png\n",
      "\n",
      "The Confusion matrix can be found in figure \\ref{fig:cm-fix}. The Classification Report can be found in table \\ref{tab:cr-fix}.\n",
      "\n",
      "\\begin{figure}[H]\n",
      "\\centering\n",
      "\\includegraphics[height=5cm]{T_classifier_TS_fix_cm.png}\n",
      "\\caption{Normalized Confusion Matrix over the test set}\n",
      "\\label{fig:cm-fix}\n",
      "\\end{figure}\n"
     ]
    },
    {
     "data": {
      "image/png": "[encoded data removed]",
      "text/plain": [
       "<Figure size 432x288 with 1 Axes>"
      ]
     },
     "metadata": {},
     "output_type": "display_data"
    },
    {
     "data": {
      "image/png": "[encoded data removed]",
      "text/plain": [
       "<Figure size 1152x1152 with 2 Axes>"
      ]
     },
     "metadata": {},
     "output_type": "display_data"
    }
   ],
   "source": [
    "save_confusion_matrix(output, theNotebook, large_font=True)"
   ]
  },
  {
   "cell_type": "code",
   "execution_count": 10,
   "metadata": {},
   "outputs": [
    {
     "name": "stdout",
     "output_type": "stream",
     "text": [
      "\\textbf{Classification Report:}\\\\\n",
      "\\begin{tabular}{lrrrr}\n",
      "\\toprule\n",
      "{} &    fscore &  precision &    recall &  support \\\\\n",
      "\\midrule\n",
      "0.0  &  0.000000 &   0.000000 &  0.000000 &      2.0 \\\\\n",
      "1.0  &  0.625478 &   0.541734 &  0.741089 &    364.0 \\\\\n",
      "1.25 &  0.299316 &   0.365687 &  0.255509 &    104.0 \\\\\n",
      "1.5  &  0.361050 &   0.311010 &  0.432988 &    116.0 \\\\\n",
      "2.0  &  0.321796 &   0.411913 &  0.265766 &    187.0 \\\\\n",
      "2.25 &  0.399509 &   0.304033 &  0.589412 &    218.0 \\\\\n",
      "2.5  &  0.327158 &   0.313373 &  0.343364 &    189.0 \\\\\n",
      "2.75 &  0.381069 &   0.349059 &  0.434183 &     17.0 \\\\\n",
      "3.0  &  0.255567 &   0.315035 &  0.216157 &    201.0 \\\\\n",
      "3.25 &  0.067708 &   0.172565 &  0.044767 &    133.0 \\\\\n",
      "3.5  &  0.055423 &   0.147433 &  0.035422 &     73.0 \\\\\n",
      "3.75 &  0.106015 &   0.173520 &  0.078346 &     64.0 \\\\\n",
      "4.0  &  0.415148 &   0.588610 &  0.323535 &    172.0 \\\\\n",
      "4.25 &  0.556788 &   0.495523 &  0.639500 &     88.0 \\\\\n",
      "4.5  &  0.000000 &   0.000000 &  0.000000 &      5.0 \\\\\n",
      "4.75 &  0.000215 &   0.000429 &  0.000143 &      3.0 \\\\\n",
      "5.0  &  0.000215 &   0.000429 &  0.000143 &      3.0 \\\\\n",
      "\\bottomrule\n",
      "\\end{tabular}\n",
      "\n"
     ]
    }
   ],
   "source": [
    "print_latex_cr(output)"
   ]
  },
  {
   "cell_type": "code",
   "execution_count": 12,
   "metadata": {},
   "outputs": [
    {
     "name": "stdout",
     "output_type": "stream",
     "text": [
      "Reading data\n",
      "Predicting and evaluating LinearSVC\n",
      "Predicting and evaluating LinearSVC\n",
      "Predicting and evaluating LinearSVC\n",
      "Predicting and evaluating LinearSVC\n",
      "Predicting and evaluating LinearSVC\n",
      "Predicting and evaluating LinearSVC\n",
      "Predicting and evaluating LinearSVC\n",
      "Predicting and evaluating LinearSVC\n",
      "Predicting and evaluating LinearSVC\n",
      "Predicting and evaluating LinearSVC\n",
      "Predicting and evaluating RandomForestClassifier\n",
      "Predicting and evaluating RandomForestClassifier\n",
      "Predicting and evaluating RandomForestClassifier\n",
      "Predicting and evaluating RandomForestClassifier\n",
      "Predicting and evaluating RandomForestClassifier\n",
      "Predicting and evaluating RandomForestClassifier\n",
      "Predicting and evaluating RandomForestClassifier\n",
      "Predicting and evaluating RandomForestClassifier\n",
      "Predicting and evaluating RandomForestClassifier\n",
      "Predicting and evaluating RandomForestClassifier\n",
      "We have 19 selected genes as a result, doing the same prediction again but only with these genes we get the following accuracies averaged over 10 folds:\\\\\n",
      "LinearSVC: 0.2950 (0.0000)\\\\\n",
      "RandomForestClassifier: 0.3349 (0.0000)\\\\\n"
     ]
    },
    {
     "data": {
      "text/plain": [
       "{'LinearSVC': [0.29706034038164003,\n",
       "  0.2851985559566787,\n",
       "  0.295513151108819,\n",
       "  0.3017019082001031,\n",
       "  0.294997421351212,\n",
       "  0.29706034038164003,\n",
       "  0.29706034038164003,\n",
       "  0.2991232594120681,\n",
       "  0.2888086642599278,\n",
       "  0.29345023207839094],\n",
       " 'LinearSVC_avr': 0.29499742135121193,\n",
       " 'RandomForestClassifier': [0.3285198555956679,\n",
       "  0.33574007220216606,\n",
       "  0.33883445074780816,\n",
       "  0.33574007220216606,\n",
       "  0.3378029912325941,\n",
       "  0.33161423414130997,\n",
       "  0.3367715317173801,\n",
       "  0.3408973697782362,\n",
       "  0.333161423414131,\n",
       "  0.3300670448684889],\n",
       " 'RandomForestClassifier_avr': 0.33491490458999484}"
      ]
     },
     "execution_count": 12,
     "metadata": {},
     "output_type": "execute_result"
    }
   ],
   "source": [
    "gene_predictive_accuracy(output, selected_genes_ids, latex=True)"
   ]
  },
  {
   "cell_type": "code",
   "execution_count": 21,
   "metadata": {},
   "outputs": [
    {
     "name": "stdout",
     "output_type": "stream",
     "text": [
      "These are the top 19 genes in order of importance:\\\\\n",
      "APOD$\\text{\\textbar}$347, AREG$\\text{\\textbar}$374, AADAC$\\text{\\textbar}$13, APOA1$\\text{\\textbar}$335, ZNF488$\\text{\\textbar}$118738, ZNF534$\\text{\\textbar}$147658, ARMC12$\\text{\\textbar}$221481, APOBEC1$\\text{\\textbar}$339, ABCA12$\\text{\\textbar}$26154, C11orf88$\\text{\\textbar}$399949, ARID3C$\\text{\\textbar}$138715, ARHGEF4$\\text{\\textbar}$50649, ZNF385B$\\text{\\textbar}$151126, APOF$\\text{\\textbar}$319, C12orf56$\\text{\\textbar}$115749, ABAT$\\text{\\textbar}$18, ARHGAP36$\\text{\\textbar}$158763, A2ML1$\\text{\\textbar}$144568, AQP5$\\text{\\textbar}$362\\\\\n"
     ]
    }
   ],
   "source": [
    "latex_genes(selected_genes_ids[:50])"
   ]
  },
  {
   "cell_type": "code",
   "execution_count": 10,
   "metadata": {},
   "outputs": [],
   "source": [
    "predict_label = output[0]['config']['predict_label']\n",
    "selected_genes_data, selected_genes_ids, sample_to_label = get_dendro_data(predict_label, selected_genes_ids)\n",
    "\n",
    "heatmap, legend, color_scale = get_dendro_heatmap(selected_genes_data, selected_genes_ids, sample_to_label, color_option=1, nb_genes_used=50)\n",
    "histogram = get_expression_hist(selected_genes_data, decimals=2, drop_zero=True, log=False, color_scale=color_scale)"
   ]
  },
  {
   "cell_type": "code",
   "execution_count": 11,
   "metadata": {},
   "outputs": [],
   "source": [
    "#iplot(heatmap)"
   ]
  },
  {
   "cell_type": "code",
   "execution_count": 12,
   "metadata": {},
   "outputs": [],
   "source": [
    "#iplot(histogram)"
   ]
  },
  {
   "cell_type": "code",
   "execution_count": 13,
   "metadata": {},
   "outputs": [
    {
     "name": "stdout",
     "output_type": "stream",
     "text": [
      "Succeeded in saving T_classifier_TS_fix_hist.png\n",
      "The dendro-heatmap can be found in figure \\ref{fig:heat-fix}. The top 50 most enriched pathways can be found in table \\ref{tab:pw-fix}.\n",
      "\n",
      "\\begin{figure}[H]\n",
      "\\centering\n",
      "\\includegraphics[height=5cm]{T_classifier_TS_fix_heat.png}\n",
      "\\caption{Dendro-heatmap for the top genes}\n",
      "\\label{fig:heat-fix}\n",
      "\\end{figure}\n"
     ]
    }
   ],
   "source": [
    "latex_heatmap(heatmap, histogram, theNotebook)"
   ]
  },
  {
   "cell_type": "code",
   "execution_count": 17,
   "metadata": {},
   "outputs": [
    {
     "data": {
      "image/png": "[encoded data removed]",
      "text/plain": [
       "<Figure size 72x18 with 1 Axes>"
      ]
     },
     "execution_count": 17,
     "metadata": {},
     "output_type": "execute_result"
    }
   ],
   "source": [
    "path = '../plots/figures/'\n",
    "leg_name = '{}_legend.png'.format(theNotebook)\n",
    "legend.savefig(os.path.join(path, leg_name)) \n",
    "legend"
   ]
  },
  {
   "cell_type": "code",
   "execution_count": 19,
   "metadata": {},
   "outputs": [
    {
     "name": "stdout",
     "output_type": "stream",
     "text": [
      "querying 1-19...done. [ from cache ]\n",
      "querying 0/137\n",
      "querying 50/137\n",
      "querying 100/137\n",
      "collected the 50 most enriched pathways\n",
      "The top 50 most enriched pathways based on these genes are:\\\\\n",
      "\\begin{tabular}{llr}\n",
      "\\toprule\n",
      "{} &                                               name &   p\\_value \\\\\n",
      "\\midrule\n",
      "0  &              ABC transporters in lipid homeostasis &  0.000123 \\\\\n",
      "1  &             ABC-family proteins mediated transport &  0.001484 \\\\\n",
      "2  &                             Lipoprotein metabolism &  0.001782 \\\\\n",
      "3  &                         \\&beta;-alanine degradation &  0.001850 \\\\\n",
      "4  &                        4-aminobutyrate degradation &  0.001850 \\\\\n",
      "5  &                                Degradation of GABA &  0.001850 \\\\\n",
      "6  &         Transmembrane transport of small molecules &  0.002330 \\\\\n",
      "7  &       Lipid digestion, mobilization, and transport &  0.004583 \\\\\n",
      "8  &                    Scavenging by Class B Receptors &  0.004619 \\\\\n",
      "9  &                           Transport of fatty acids &  0.007381 \\\\\n",
      "10 &                                         GABA shunt &  0.007381 \\\\\n",
      "11 &                                   Rho GTPase cycle &  0.007725 \\\\\n",
      "12 &                        Ureidopropionase deficiency &  0.008300 \\\\\n",
      "13 &                       GABA-Transaminase Deficiency &  0.008300 \\\\\n",
      "14 &                            Beta-Alanine Metabolism &  0.008300 \\\\\n",
      "15 &                         Carnosinuria, carnosinemia &  0.008300 \\\\\n",
      "16 &                         Formation of the Editosome &  0.008300 \\\\\n",
      "17 &                    mRNA Editing: C to U Conversion &  0.008300 \\\\\n",
      "18 &                                       NLR Proteins &  0.009218 \\\\\n",
      "19 &                                       mRNA Editing &  0.010135 \\\\\n",
      "20 &                     Scavenging of heme from plasma &  0.011052 \\\\\n",
      "21 &                   Alanine and aspartate metabolism &  0.011052 \\\\\n",
      "22 &                    Passive transport by Aquaporins &  0.011967 \\\\\n",
      "23 &                              Valproic acid pathway &  0.011967 \\\\\n",
      "24 &                                 valine degradation &  0.011967 \\\\\n",
      "25 &                              Propanoate Metabolism &  0.012882 \\\\\n",
      "26 &                                 Hypoacetylaspartia &  0.012882 \\\\\n",
      "27 &               Malonyl-coa decarboxylase deficiency &  0.012882 \\\\\n",
      "28 &                                   Malonic Aciduria &  0.012882 \\\\\n",
      "29 &  Methylmalonic Aciduria Due to Cobalamin-Relate... &  0.012882 \\\\\n",
      "30 &                               Aspartate Metabolism &  0.012882 \\\\\n",
      "31 &                                    Canavan Disease &  0.012882 \\\\\n",
      "32 &                    ErbB receptor signaling network &  0.013797 \\\\\n",
      "33 &            Valproic Acid Pathway, Pharmacodynamics &  0.015622 \\\\\n",
      "34 &                                Pathway\\_PA165964473 &  0.015622 \\\\\n",
      "35 &  GABA synthesis, release, reuptake and degradation &  0.017445 \\\\\n",
      "36 &                       HDL-mediated lipid transport &  0.018355 \\\\\n",
      "37 &                    Scavenging by Class A Receptors &  0.019265 \\\\\n",
      "38 &     Succinic semialdehyde dehydrogenase deficiency &  0.021081 \\\\\n",
      "39 &               Chylomicron-mediated lipid transport &  0.021081 \\\\\n",
      "40 &                                   Homocarnosinosis &  0.021081 \\\\\n",
      "41 &            Hyperinsulinism-Hyperammonemia Syndrome &  0.021081 \\\\\n",
      "42 &  4-Hydroxybutyric Aciduria/Succinic Semialdehyd... &  0.021081 \\\\\n",
      "43 &                       LDL-mediated lipid transport &  0.021081 \\\\\n",
      "44 &                               Glutamate Metabolism &  0.021081 \\\\\n",
      "45 &           2-Hydroxyglutric Aciduria (D And L Form) &  0.021081 \\\\\n",
      "46 &  Vitamin digestion and absorption - Homo sapien... &  0.021988 \\\\\n",
      "47 &                   Statin Pathway, Pharmacodynamics &  0.022894 \\\\\n",
      "48 &                                 PPAR Alpha Pathway &  0.023799 \\\\\n",
      "49 &  Follicle Stimulating Hormone (FSH) signaling p... &  0.024704 \\\\\n",
      "\\bottomrule\n",
      "\\end{tabular}\n",
      "\n"
     ]
    }
   ],
   "source": [
    "pw_latex(selected_genes_ids)"
   ]
  },
  {
   "cell_type": "code",
   "execution_count": null,
   "metadata": {},
   "outputs": [],
   "source": []
  },
  {
   "cell_type": "code",
   "execution_count": null,
   "metadata": {},
   "outputs": [],
   "source": []
  },
  {
   "cell_type": "code",
   "execution_count": null,
   "metadata": {},
   "outputs": [],
   "source": []
  },
  {
   "cell_type": "code",
   "execution_count": null,
   "metadata": {},
   "outputs": [],
   "source": []
  }
 ],
 "metadata": {
  "kernelspec": {
   "display_name": "Python 3",
   "language": "python",
   "name": "python3"
  },
  "language_info": {
   "codemirror_mode": {
    "name": "ipython",
    "version": 3
   },
   "file_extension": ".py",
   "mimetype": "text/x-python",
   "name": "python",
   "nbconvert_exporter": "python",
   "pygments_lexer": "ipython3",
   "version": "3.6.4"
  }
 },
 "nbformat": 4,
 "nbformat_minor": 2
}
